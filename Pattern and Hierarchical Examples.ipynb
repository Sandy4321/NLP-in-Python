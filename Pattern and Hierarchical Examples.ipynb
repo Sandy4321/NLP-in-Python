{
 "metadata": {
  "name": "",
  "signature": "sha256:f765759811fcbcd617f874a8d0bdf653e3d1d8378ae7b6db4d3b9f196535fa71"
 },
 "nbformat": 3,
 "nbformat_minor": 0,
 "worksheets": [
  {
   "cells": [
    {
     "cell_type": "markdown",
     "metadata": {},
     "source": [
      "#A Demo of the Pattern.vector lib for NLP"
     ]
    },
    {
     "cell_type": "markdown",
     "metadata": {},
     "source": [
      "You need to install pattern.py (pip install) to use this."
     ]
    },
    {
     "cell_type": "code",
     "collapsed": false,
     "input": [
      "from pattern.vector import Document, Model, TFIDF, TF, LEMMA, PORTER, COSINE, KMEANS, HIERARCHICAL"
     ],
     "language": "python",
     "metadata": {},
     "outputs": [],
     "prompt_number": 56
    },
    {
     "cell_type": "code",
     "collapsed": false,
     "input": [
      "%matplotlib inline"
     ],
     "language": "python",
     "metadata": {},
     "outputs": [],
     "prompt_number": 102
    },
    {
     "cell_type": "code",
     "collapsed": false,
     "input": [
      "import matplotlib.pyplot as plt"
     ],
     "language": "python",
     "metadata": {},
     "outputs": [],
     "prompt_number": 103
    },
    {
     "cell_type": "code",
     "collapsed": false,
     "input": [
      "groups = !ls mini_newsgroups/"
     ],
     "language": "python",
     "metadata": {},
     "outputs": [],
     "prompt_number": 104
    },
    {
     "cell_type": "code",
     "collapsed": false,
     "input": [
      "groups"
     ],
     "language": "python",
     "metadata": {},
     "outputs": [
      {
       "metadata": {},
       "output_type": "pyout",
       "prompt_number": 105,
       "text": [
        "['alt.atheism',\n",
        " 'comp.graphics',\n",
        " 'comp.os.ms-windows.misc',\n",
        " 'comp.sys.ibm.pc.hardware',\n",
        " 'comp.sys.mac.hardware',\n",
        " 'comp.windows.x',\n",
        " 'misc.forsale',\n",
        " 'rec.autos',\n",
        " 'rec.motorcycles',\n",
        " 'rec.sport.baseball',\n",
        " 'rec.sport.hockey',\n",
        " 'sci.crypt',\n",
        " 'sci.electronics',\n",
        " 'sci.med',\n",
        " 'sci.space',\n",
        " 'soc.religion.christian',\n",
        " 'talk.politics.guns',\n",
        " 'talk.politics.mideast',\n",
        " 'talk.politics.misc',\n",
        " 'talk.religion.misc']"
       ]
      }
     ],
     "prompt_number": 105
    },
    {
     "cell_type": "code",
     "collapsed": false,
     "input": [
      "# Get the file names - this is a bash trick to put bash output into a var\n",
      "spacefiles =  ! ls mini_newsgroups/sci.space"
     ],
     "language": "python",
     "metadata": {},
     "outputs": [],
     "prompt_number": 106
    },
    {
     "cell_type": "code",
     "collapsed": false,
     "input": [
      "loaded_text = {}\n",
      "for filen in spacefiles:\n",
      "    with open('mini_newsgroups/sci.space/'+ filen) as handle:\n",
      "        loaded_text[filen] = handle.read()"
     ],
     "language": "python",
     "metadata": {},
     "outputs": [],
     "prompt_number": 107
    },
    {
     "cell_type": "code",
     "collapsed": false,
     "input": [
      "loaded_text.items()[0]"
     ],
     "language": "python",
     "metadata": {},
     "outputs": [
      {
       "metadata": {},
       "output_type": "pyout",
       "prompt_number": 108,
       "text": [
        "('61215',\n",
        " 'Xref: cantaloupe.srv.cs.cmu.edu sci.space:61215 sci.astro:35001\\nPath: cantaloupe.srv.cs.cmu.edu!magnesium.club.cc.cmu.edu!news.sei.cmu.edu!cis.ohio-state.edu!zaphod.mps.ohio-state.edu!howland.reston.ans.net!agate!darkstar.UCSC.EDU!darkstar!steinly\\nFrom: steinly@topaz.ucsc.edu (Steinn Sigurdsson)\\nNewsgroups: sci.space,sci.astro\\nSubject: Re: Gamma Ray Bursters.  WHere  are they.\\nDate: 25 Apr 93 18:01:18\\nOrganization: Lick Observatory/UCO\\nLines: 56\\nMessage-ID: <STEINLY.93Apr25180118@topaz.ucsc.edu>\\nReferences: <1radsr$att@access.digex.net>\\nNNTP-Posting-Host: topaz.ucsc.edu\\nIn-reply-to: prb@access.digex.com\\'s message of 23 Apr 1993 23:58:19 -0400\\n\\nIn article <1radsr$att@access.digex.net> prb@access.digex.com (Pat) writes:\\n\\n     What  evidence  indicates that Gamma Ray bursters are very far away?\\n\\nTheir distribution is very isotropic and the intensity distribution,\\ncrudely speaking, indicates we\\'re seeing an edge to the distribution.\\n\\n   Given the enormous  power,  i was just wondering,  what if they are\\n   quantum  black holes or something  like that  fairly close by?\\n\\n   Why would they have to be at  galactic ranges?   \\n\\nNow, in the good old days before GRO data, it was thought the\\ngamma bursters were neutron stars in the galaxy, it was expected that\\nGRO would confirm this by either showing they were a local population\\n(within a few hundred light years) or that they were in the galactic\\nhalo. (Mechanism was not known but several plausible ones existed)\\n(also to be fair it was noted that the _brightest_ burster was\\nprobably in the LMC, suggesting theorists might be wrong back then...)\\n\\tAs the Sun is not at the center of the galaxy a halo\\npopulation should show anisotropy (a local disk population is\\nruled out completely at this stage) - to avoid the anisotropy you\\nhave to push the halo out, the energy then gets large, the mechanism\\nof getting NS out that far becomes questionable, and we should start\\nto see for example the Andromeda\\'s bursters.\\n\\tThe data is consistent with either a Oort cloud distribution\\n(but only just) - but no one can think of a plausible source with\\nthe right spectrum. Or, it can be a cosmological distances (hence\\nisotropy) and the edge is \"the edge of the Universe\" ;-)\\nIf at cosmological distances you need very high energy (to detect)\\nand a very compact source (for spectrum), ergo a neutron star\\ncolliding with another neutron star or black hole. Even then getting\\nthe spectrum is very hard, but conceivable.\\n\\n\\tIf we know anything about physics at that level,\\nthe bursters are not due to quantum black holes or cosmic\\nstrings, wrong spectrum for one thing.\\n\\nThe situation is further complicated by recent claims that\\nthere are two classes of sources ;-)  [in the colliding NS\\nthey\\'d actually probably fit relatively easily into the\\nNS-NS and NS-BH collision scenarios respectively]\\n\\n   my own pet theory is that it\\'s  Flying saucers  entering\\n   hyperspace :-)\\n\\n   but the reason i am asking is that most everyone assumes  that they\\n   are  colliding nuetron stars  or  spinning black holes,  i just wondered\\n   if any mechanism could exist  and place them  closer in.\\n\\nIf you can think of one, remember to invite me to Stockholm...\\n\\n*  Steinn Sigurdsson   \\t\\t\\tLick Observatory      \\t*\\n*  steinly@lick.ucsc.edu\\t\\t\"standard disclaimer\"  \\t*\\n*  The laws of gravity are very,very strict\\t\\t\\t*\\n*  And you\\'re just bending them for your own benefit - B.B. 1988*\\n')"
       ]
      }
     ],
     "prompt_number": 108
    },
    {
     "cell_type": "code",
     "collapsed": false,
     "input": [
      "docs = []\n",
      "# Create a pattern.vector Document object for each article, and lemmatize\n",
      "for key, val in loaded_text.items():\n",
      "    docs.append(Document(val, name=key, type='space', stemmer=LEMMA))"
     ],
     "language": "python",
     "metadata": {},
     "outputs": [],
     "prompt_number": 109
    },
    {
     "cell_type": "code",
     "collapsed": false,
     "input": [
      "docs[1]"
     ],
     "language": "python",
     "metadata": {},
     "outputs": [
      {
       "metadata": {},
       "output_type": "pyout",
       "prompt_number": 110,
       "text": [
        "Document(id='P21ZBHB-302', name='61450', type='space')"
       ]
      }
     ],
     "prompt_number": 110
    },
    {
     "cell_type": "code",
     "collapsed": false,
     "input": [
      "docs[1].keywords()"
     ],
     "language": "python",
     "metadata": {},
     "outputs": [
      {
       "metadata": {},
       "output_type": "pyout",
       "prompt_number": 111,
       "text": [
        "[(0.03488372093023253, u'nasa'),\n",
        " (0.03488372093023253, u'shuttle'),\n",
        " (0.02325581395348835, u'administrator'),\n",
        " (0.02325581395348835, u'alcatel'),\n",
        " (0.02325581395348835, u'asian'),\n",
        " (0.02325581395348835, u'bell'),\n",
        " (0.02325581395348835, u'course'),\n",
        " (0.02325581395348835, u'european'),\n",
        " (0.02325581395348835, u'industry'),\n",
        " (0.02325581395348835, u'major')]"
       ]
      }
     ],
     "prompt_number": 111
    },
    {
     "cell_type": "code",
     "collapsed": false,
     "input": [
      "sorted(docs[1].features)[0:10]  # the vocab = features"
     ],
     "language": "python",
     "metadata": {},
     "outputs": [
      {
       "metadata": {},
       "output_type": "pyout",
       "prompt_number": 113,
       "text": [
        "[u'20',\n",
        " u'2660',\n",
        " u'30',\n",
        " u'32',\n",
        " u'33',\n",
        " u'93',\n",
        " u'administration',\n",
        " u'administrator',\n",
        " u'affect',\n",
        " u'alcatel']"
       ]
      }
     ],
     "prompt_number": 113
    },
    {
     "cell_type": "code",
     "collapsed": false,
     "input": [
      "docs[1].vector  # the normalized vector for the word occurrences in this document"
     ],
     "language": "python",
     "metadata": {},
     "outputs": [
      {
       "metadata": {},
       "output_type": "pyout",
       "prompt_number": 114,
       "text": [
        "{u'20': 0.011627906976744186,\n",
        " u'2660': 0.011627906976744186,\n",
        " u'30': 0.011627906976744186,\n",
        " u'32': 0.011627906976744186,\n",
        " u'33': 0.011627906976744186,\n",
        " u'93': 0.011627906976744186,\n",
        " u'administration': 0.011627906976744186,\n",
        " u'administrator': 0.023255813953488372,\n",
        " u'affect': 0.011627906976744186,\n",
        " u'alcatel': 0.023255813953488372,\n",
        " u'american': 0.011627906976744186,\n",
        " u'appreciated': 0.011627906976744186,\n",
        " u'apr': 0.011627906976744186,\n",
        " u'asian': 0.023255813953488372,\n",
        " u'belgium': 0.011627906976744186,\n",
        " u'believe': 0.011627906976744186,\n",
        " u'bell': 0.023255813953488372,\n",
        " u'berkenrodelei': 0.011627906976744186,\n",
        " u'boron': 0.011627906976744186,\n",
        " u'cancelled': 0.011627906976744186,\n",
        " u'change': 0.011627906976744186,\n",
        " u'clark': 0.011627906976744186,\n",
        " u'course': 0.023255813953488372,\n",
        " u'daniel': 0.011627906976744186,\n",
        " u'date': 0.011627906976744186,\n",
        " u'denni': 0.011627906976744186,\n",
        " u'effectively': 0.011627906976744186,\n",
        " u'email': 0.011627906976744186,\n",
        " u'european': 0.023255813953488372,\n",
        " u'everytime': 0.011627906976744186,\n",
        " u'expected': 0.011627906976744186,\n",
        " u'explaining': 0.011627906976744186,\n",
        " u'freedom': 0.011627906976744186,\n",
        " u'furthermore': 0.011627906976744186,\n",
        " u'g': 0.011627906976744186,\n",
        " u'gmt': 0.011627906976744186,\n",
        " u'god': 0.011627906976744186,\n",
        " u'herme': 0.011627906976744186,\n",
        " u'hoboken': 0.011627906976744186,\n",
        " u'impact': 0.011627906976744186,\n",
        " u'industry': 0.023255813953488372,\n",
        " u'international': 0.011627906976744186,\n",
        " u'japanese': 0.011627906976744186,\n",
        " u'line': 0.011627906976744186,\n",
        " u'major': 0.023255813953488372,\n",
        " u'mind': 0.011627906976744186,\n",
        " u'nasa': 0.03488372093023256,\n",
        " u'newport': 0.011627906976744186,\n",
        " u'newsgroup': 0.011627906976744186,\n",
        " u'office': 0.011627906976744186,\n",
        " u'official': 0.011627906976744186,\n",
        " u'organization': 0.011627906976744186,\n",
        " u'partner': 0.011627906976744186,\n",
        " u'path': 0.011627906976744186,\n",
        " u'paymaster': 0.011627906976744186,\n",
        " u'phone': 0.011627906976744186,\n",
        " u'project': 0.011627906976744186,\n",
        " u're': 0.011627906976744186,\n",
        " u'record': 0.011627906976744186,\n",
        " u'reference': 0.011627906976744186,\n",
        " u's': 0.011627906976744186,\n",
        " u'sender': 0.011627906976744186,\n",
        " u'shuttle': 0.03488372093023256,\n",
        " u'space': 0.011627906976744186,\n",
        " u'spend': 0.011627906976744186,\n",
        " u'statement': 0.011627906976744186,\n",
        " u'stattion': 0.011627906976744186,\n",
        " u'subject': 0.011627906976744186,\n",
        " u'take': 0.011627906976744186,\n",
        " u'talking': 0.011627906976744186,\n",
        " u'telephone': 0.023255813953488372,\n",
        " u'time': 0.011627906976744186,\n",
        " u'unrivaled': 0.011627906976744186}"
       ]
      }
     ],
     "prompt_number": 114
    },
    {
     "cell_type": "code",
     "collapsed": false,
     "input": [
      "# TF-IDF is a property of the doc set.  The \"Model\" object handles operations across the doc set.\n",
      "mtfidf = Model(documents=docs, weight=TFIDF)"
     ],
     "language": "python",
     "metadata": {},
     "outputs": [],
     "prompt_number": 115
    },
    {
     "cell_type": "code",
     "collapsed": false,
     "input": [
      "mtfidf.similarity(docs[1], docs[3])"
     ],
     "language": "python",
     "metadata": {},
     "outputs": [
      {
       "metadata": {},
       "output_type": "pyout",
       "prompt_number": 116,
       "text": [
        "0.005869213011449238"
       ]
      }
     ],
     "prompt_number": 116
    },
    {
     "cell_type": "code",
     "collapsed": false,
     "input": [
      "mtfidf.neighbors(docs[1])"
     ],
     "language": "python",
     "metadata": {},
     "outputs": [
      {
       "metadata": {},
       "output_type": "pyout",
       "prompt_number": 119,
       "text": [
        "[(0.06445216149984181, Document(id='P21ZBHB-329', name='60229', type='space')),\n",
        " (0.05964159261318177, Document(id='P21ZBHB-340', name='59848', type='space')),\n",
        " (0.05577605394317962, Document(id='P21ZBHB-388', name='62319', type='space')),\n",
        " (0.04462188808432896, Document(id='P21ZBHB-325', name='61293', type='space')),\n",
        " (0.043421036408471024,\n",
        "  Document(id='P21ZBHB-324', name='60821', type='space')),\n",
        " (0.04327617668618766, Document(id='P21ZBHB-337', name='61057', type='space')),\n",
        " (0.043116531686159844,\n",
        "  Document(id='P21ZBHB-368', name='60942', type='space')),\n",
        " (0.04293761044787921, Document(id='P21ZBHB-352', name='59904', type='space')),\n",
        " (0.0375924131025012, Document(id='P21ZBHB-309', name='61180', type='space')),\n",
        " (0.033349452658051816,\n",
        "  Document(id='P21ZBHB-398', name='61165', type='space'))]"
       ]
      }
     ],
     "prompt_number": 119
    },
    {
     "cell_type": "heading",
     "level": 3,
     "metadata": {},
     "source": [
      "KMeans clustering on the set is easy..."
     ]
    },
    {
     "cell_type": "code",
     "collapsed": false,
     "input": [
      "kmeans = mtfidf.cluster(method=KMEANS, k=5)"
     ],
     "language": "python",
     "metadata": {},
     "outputs": [],
     "prompt_number": 120
    },
    {
     "cell_type": "code",
     "collapsed": false,
     "input": [
      "from pattern.vector import centroid\n",
      "import operator"
     ],
     "language": "python",
     "metadata": {},
     "outputs": [],
     "prompt_number": 121
    },
    {
     "cell_type": "code",
     "collapsed": false,
     "input": [
      "# For each cluster center, look at the most important features.\n",
      "for i in range(5):\n",
      "    print i\n",
      "    print sorted(centroid(kmeans[i]).items(), key=operator.itemgetter(1))[0:10]\n",
      "    print"
     ],
     "language": "python",
     "metadata": {},
     "outputs": [
      {
       "output_type": "stream",
       "stream": "stdout",
       "text": [
        "0\n",
        "[(u'line', 0.0001227982561385594), (u'force', 0.00024237754124581146), (u'major', 0.00025346812930148626), (u'14', 0.00026586635192080377), (u'ground', 0.00026586635192080377), (u'taking', 0.00026586635192080377), (u'rocket', 0.00026586635192080377), (u'c', 0.00027992229744131295), (u'building', 0.00027992229744131295), (u'version', 0.0002961486957062815)]\n",
        "\n",
        "1\n",
        "[(u'j', 4.459161534007629e-05), (u'f', 4.677278413421548e-05), (u'true', 4.924558936467542e-05), (u'bit', 4.924558936467542e-05), (u'jpl', 5.210023350388286e-05), (u'amateur', 5.5476560900792625e-05), (u'fly', 5.5476560900792625e-05), (u'origin', 5.5476560900792625e-05), (u'allen', 5.5476560900792625e-05), (u'burst', 5.5476560900792625e-05)]\n",
        "\n",
        "2\n",
        "[(u'light', 0.00011712037852671457), (u'month', 0.00012247951314161342), (u'activity', 0.00012247951314161342), (u'atmosphere', 0.00012247951314161342), (u'line', 0.0001270042776377655), (u'ground', 0.000128470515933247), (u'add', 0.000128470515933247), (u'cause', 0.00013526255471477483), (u'box', 0.00013526255471477483), (u'hundred', 0.00013526255471477483)]\n",
        "\n",
        "3\n",
        "[(u'line', 0.00012455727403278067), (u'organization', 0.00032785505802552503), (u'world', 0.00035157897496909977), (u'support', 0.00040396256874301905), (u'example', 0.0004224468821691438), (u'dr', 0.0004224468821691438), (u'usenet', 0.00042346456718519055), (u'future', 0.00044311058653467297), (u'low', 0.00044311058653467297), (u'laboratory', 0.00045686242893555726)]\n",
        "\n",
        "4\n",
        "[(u'line', 0.0001306658167249066), (u'world', 0.0001354707976945155), (u'available', 0.00016209976776774317), (u'fuel', 0.00018409382479848009), (u'propulsion', 0.00018409382479848009), (u'ground', 0.000193098650095385), (u'add', 0.000193098650095385), (u'cause', 0.00020330747902847654), (u'bit', 0.00020330747902847654), (u'note', 0.00020330747902847654)]\n",
        "\n"
       ]
      }
     ],
     "prompt_number": 123
    },
    {
     "cell_type": "code",
     "collapsed": false,
     "input": [
      "# You can do hierchical clustering right inside pattern, without having to use scipy for it.\n",
      "hier = mtfidf.cluster(method=HIERARCHICAL, k=10)"
     ],
     "language": "python",
     "metadata": {},
     "outputs": [],
     "prompt_number": 125
    },
    {
     "cell_type": "code",
     "collapsed": false,
     "input": [
      "hier.depth"
     ],
     "language": "python",
     "metadata": {},
     "outputs": [
      {
       "metadata": {},
       "output_type": "pyout",
       "prompt_number": 126,
       "text": [
        "48"
       ]
      }
     ],
     "prompt_number": 126
    },
    {
     "cell_type": "code",
     "collapsed": false,
     "input": [
      "hier  # will give you a giant listing of the Cluster objects in the tree structure.  Doesn't seem to be a built in tool to vis them."
     ],
     "language": "python",
     "metadata": {},
     "outputs": []
    },
    {
     "cell_type": "heading",
     "level": 3,
     "metadata": {},
     "source": [
      "Smaller Hierchical Demo in Pattern"
     ]
    },
    {
     "cell_type": "code",
     "collapsed": false,
     "input": [
      " d1 = Document('A tiger is a big yellow cat with stripes.', type='tiger')\n",
      " d2 = Document('A lion is a big yellow cat with manes.', type='lion',)\n",
      " d3 = Document('An elephant is a big grey animal with a slurf.', type='elephant')\n",
      "  \n",
      " print d1.vector\n",
      "\n",
      " m = Model(documents=[d1, d2, d3], weight=TFIDF)\n",
      "  \n",
      " print d1.vector\n",
      " print\n",
      " print \"Tiger vs lion text similarity:\", m.similarity(d1, d2) # tiger vs. lion\n",
      " print \"Tiger vs. elephant text similarity:\", m.similarity(d1, d3) # tiger vs. elephant"
     ],
     "language": "python",
     "metadata": {},
     "outputs": [
      {
       "output_type": "stream",
       "stream": "stdout",
       "text": [
        "{u'tiger': 0.25, u'stripes': 0.25, u'yellow': 0.25, u'cat': 0.25}\n",
        "{u'tiger': 0.2746532569132872, u'stripes': 0.2746532569132872, u'yellow': 0.10136634521138871, u'cat': 0.10136634521138871}\n",
        "\n",
        "Tiger vs lion text similarity: 0.119883213064\n",
        "Tiger vs. elephant text similarity: 0.0\n"
       ]
      }
     ],
     "prompt_number": 131
    },
    {
     "cell_type": "code",
     "collapsed": false,
     "input": [
      "m.export('simple_tfidf.tsv')  # this exports the array of tf-idf, but with some extra stuff we can parse out. Will be large for real data."
     ],
     "language": "python",
     "metadata": {},
     "outputs": [],
     "prompt_number": 133
    },
    {
     "cell_type": "heading",
     "level": 4,
     "metadata": {},
     "source": [
      "Graphing the Tree with SciPy"
     ]
    },
    {
     "cell_type": "code",
     "collapsed": false,
     "input": [
      "import numpy as np\n",
      "import matplotlib.pyplot as plt\n",
      "from scipy.spatial.distance import pdist, squareform\n",
      "from scipy.cluster.hierarchy import linkage, dendrogram\n",
      "import csv"
     ],
     "language": "python",
     "metadata": {},
     "outputs": [],
     "prompt_number": 134
    },
    {
     "cell_type": "code",
     "collapsed": false,
     "input": [
      "%matplotlib inline"
     ],
     "language": "python",
     "metadata": {},
     "outputs": [],
     "prompt_number": 79
    },
    {
     "cell_type": "code",
     "collapsed": false,
     "input": [
      "def read_weka_tfidf(filen):\n",
      "    \"\"\" Read in the Weka file output by pattern's model export and just keep tfidf scores.\"\"\"\n",
      "    rows = []\n",
      "    with open(filen, 'rb') as csvfile:\n",
      "        spamreader = csv.reader(csvfile, delimiter='\\t')\n",
      "        count = 0\n",
      "        for row in spamreader:\n",
      "            if count > 0:\n",
      "                rows.append(row[:-2])\n",
      "            count += 1\n",
      "    return rows"
     ],
     "language": "python",
     "metadata": {},
     "outputs": [],
     "prompt_number": 137
    },
    {
     "cell_type": "code",
     "collapsed": false,
     "input": [
      "rows = read_weka_tfidf('simple_tfidf.tsv')"
     ],
     "language": "python",
     "metadata": {},
     "outputs": [],
     "prompt_number": 138
    },
    {
     "cell_type": "code",
     "collapsed": false,
     "input": [
      "rows"
     ],
     "language": "python",
     "metadata": {},
     "outputs": [
      {
       "metadata": {},
       "output_type": "pyout",
       "prompt_number": 139,
       "text": [
        "[['0', '0.1014', '0', '0', '0', '0', '0', '0.2747', '0.2747', '0.1014'],\n",
        " ['0', '0.1014', '0', '0', '0.2747', '0.2747', '0', '0', '0', '0.1014'],\n",
        " ['0.2747', '0', '0.2747', '0.2747', '0', '0', '0.2747', '0', '0', '0']]"
       ]
      }
     ],
     "prompt_number": 139
    },
    {
     "cell_type": "code",
     "collapsed": false,
     "input": [
      "dist = squareform(pdist(rows, metric='cosine'))"
     ],
     "language": "python",
     "metadata": {},
     "outputs": [],
     "prompt_number": 140
    },
    {
     "cell_type": "code",
     "collapsed": false,
     "input": [
      "linkage(dist)"
     ],
     "language": "python",
     "metadata": {},
     "outputs": [
      {
       "metadata": {},
       "output_type": "pyout",
       "prompt_number": 141,
       "text": [
        "array([[ 0.        ,  1.        ,  1.24462481,  2.        ],\n",
        "       [ 2.        ,  3.        ,  1.41928861,  3.        ]])"
       ]
      }
     ],
     "prompt_number": 141
    },
    {
     "cell_type": "code",
     "collapsed": false,
     "input": [
      "dendrogram(linkage(dist))  # this plotting function has a ton of things you can manipulate if you look at the docs."
     ],
     "language": "python",
     "metadata": {},
     "outputs": [
      {
       "metadata": {},
       "output_type": "pyout",
       "prompt_number": 142,
       "text": [
        "{'color_list': ['b', 'b'],\n",
        " 'dcoord': [[0.0, 1.2446248100657071, 1.2446248100657071, 0.0],\n",
        "  [0.0, 1.4192886149245996, 1.4192886149245996, 1.2446248100657071]],\n",
        " 'icoord': [[15.0, 15.0, 25.0, 25.0], [5.0, 5.0, 20.0, 20.0]],\n",
        " 'ivl': ['2', '0', '1'],\n",
        " 'leaves': [2, 0, 1]}"
       ]
      },
      {
       "metadata": {},
       "output_type": "display_data",
       "png": "[encoded data removed]",
       "text": [
        "<matplotlib.figure.Figure at 0x10a2ed850>"
       ]
      }
     ],
     "prompt_number": 142
    },
    {
     "cell_type": "markdown",
     "metadata": {},
     "source": [
      "## Let's Do This With the sci.space articles now"
     ]
    },
    {
     "cell_type": "code",
     "collapsed": false,
     "input": [
      "mtfidf.export('space.tsv')"
     ],
     "language": "python",
     "metadata": {},
     "outputs": [],
     "prompt_number": 144
    },
    {
     "cell_type": "code",
     "collapsed": false,
     "input": [
      "spacerows = read_weka_tfidf('space.tsv')"
     ],
     "language": "python",
     "metadata": {},
     "outputs": [],
     "prompt_number": 145
    },
    {
     "cell_type": "code",
     "collapsed": false,
     "input": [
      "len(spacerows)"
     ],
     "language": "python",
     "metadata": {},
     "outputs": [
      {
       "metadata": {},
       "output_type": "pyout",
       "prompt_number": 90,
       "text": [
        "100"
       ]
      }
     ],
     "prompt_number": 90
    },
    {
     "cell_type": "code",
     "collapsed": false,
     "input": [
      "len(spacerows[0])"
     ],
     "language": "python",
     "metadata": {},
     "outputs": [
      {
       "metadata": {},
       "output_type": "pyout",
       "prompt_number": 91,
       "text": [
        "4744"
       ]
      }
     ],
     "prompt_number": 91
    },
    {
     "cell_type": "code",
     "collapsed": false,
     "input": [
      "dist = squareform(pdist(spacerows, metric='cosine'))"
     ],
     "language": "python",
     "metadata": {},
     "outputs": [],
     "prompt_number": 146
    },
    {
     "cell_type": "code",
     "collapsed": false,
     "input": [
      "link = linkage(dist, method='complete')"
     ],
     "language": "python",
     "metadata": {},
     "outputs": [],
     "prompt_number": 147
    },
    {
     "cell_type": "code",
     "collapsed": false,
     "input": [
      "# It's generally a mess to read - better to truncate it \n",
      "dend = dendrogram(link, orientation='right', truncate_mode='level', p=5, show_contracted=True)"
     ],
     "language": "python",
     "metadata": {},
     "outputs": [
      {
       "metadata": {},
       "output_type": "display_data",
       "png": "[encoded data removed]",
       "text": [
        "<matplotlib.figure.Figure at 0x109cf2290>"
       ]
      }
     ],
     "prompt_number": 151
    },
    {
     "cell_type": "code",
     "collapsed": false,
     "input": [
      "docs[66]"
     ],
     "language": "python",
     "metadata": {},
     "outputs": [
      {
       "metadata": {},
       "output_type": "pyout",
       "prompt_number": 96,
       "text": [
        "Document(id='P21ZBHB-267', name='60944', type='space')"
       ]
      }
     ],
     "prompt_number": 96
    },
    {
     "cell_type": "code",
     "collapsed": false,
     "input": [
      "docs[44]"
     ],
     "language": "python",
     "metadata": {},
     "outputs": [
      {
       "metadata": {},
       "output_type": "pyout",
       "prompt_number": 97,
       "text": [
        "Document(id='P21ZBHB-245', name='60929', type='space')"
       ]
      }
     ],
     "prompt_number": 97
    },
    {
     "cell_type": "code",
     "collapsed": false,
     "input": [
      "mtfidf.similarity(docs[66], docs[44])"
     ],
     "language": "python",
     "metadata": {},
     "outputs": [
      {
       "metadata": {},
       "output_type": "pyout",
       "prompt_number": 98,
       "text": [
        "0.5612859579373927"
       ]
      }
     ],
     "prompt_number": 98
    },
    {
     "cell_type": "code",
     "collapsed": false,
     "input": [
      "mtfidf.similarity(docs[97], docs[24])"
     ],
     "language": "python",
     "metadata": {},
     "outputs": [
      {
       "metadata": {},
       "output_type": "pyout",
       "prompt_number": 99,
       "text": [
        "0.5419506291935675"
       ]
      }
     ],
     "prompt_number": 99
    },
    {
     "cell_type": "code",
     "collapsed": false,
     "input": [],
     "language": "python",
     "metadata": {},
     "outputs": []
    }
   ],
   "metadata": {}
  }
 ]
}