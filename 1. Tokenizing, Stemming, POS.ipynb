{
 "metadata": {
  "name": "",
  "signature": "sha256:86564bad5313b96435ba5ebb4296073d836c1febfb0ffedd95f33fdaba0edeb9"
 },
 "nbformat": 3,
 "nbformat_minor": 0,
 "worksheets": [
  {
   "cells": [
    {
     "cell_type": "markdown",
     "metadata": {},
     "source": [
      "##1. Intro to low level NLP - Tokenization, Stopwords, POS, Stemming, Concordances\n",
      "\n",
      "### Lynn Cherny, 2/8/15, arnicas@gmail\n",
      "Full repo here: https://github.com/arnicas/NLP-in-Python"
     ]
    },
    {
     "cell_type": "code",
     "collapsed": false,
     "input": [
      "%matplotlib inline"
     ],
     "language": "python",
     "metadata": {},
     "outputs": [],
     "prompt_number": 2
    },
    {
     "cell_type": "code",
     "collapsed": false,
     "input": [
      "import itertools\n",
      "import nltk\n",
      "import string"
     ],
     "language": "python",
     "metadata": {},
     "outputs": [],
     "prompt_number": 3
    },
    {
     "cell_type": "markdown",
     "metadata": {},
     "source": [
      "##Tokenization\n",
      "\n",
      "Read in a file to use for practice."
     ]
    },
    {
     "cell_type": "code",
     "collapsed": false,
     "input": [
      "with file(\"data/stories/A_THE FIR TREE.txt\",'r') as handle:\n",
      "    text = handle.read()"
     ],
     "language": "python",
     "metadata": {},
     "outputs": [],
     "prompt_number": 4
    },
    {
     "cell_type": "code",
     "collapsed": false,
     "input": [
      "text[0:100]"
     ],
     "language": "python",
     "metadata": {},
     "outputs": [
      {
       "metadata": {},
       "output_type": "pyout",
       "prompt_number": 5,
       "text": [
        "'THE FIR TREE\\r\\n\\r\\nOut in the woods stood a nice little Fir Tree. The place he had was a\\r\\nvery good one'"
       ]
      }
     ],
     "prompt_number": 5
    },
    {
     "cell_type": "code",
     "collapsed": false,
     "input": [
      "tokens = nltk.word_tokenize(text)\n",
      "tokens[60:110]"
     ],
     "language": "python",
     "metadata": {},
     "outputs": [
      {
       "metadata": {},
       "output_type": "pyout",
       "prompt_number": 6,
       "text": [
        "['so',\n",
        " 'very',\n",
        " 'much',\n",
        " 'to',\n",
        " 'be',\n",
        " 'a',\n",
        " 'grown-up',\n",
        " 'tree',\n",
        " '.',\n",
        " 'He',\n",
        " 'did',\n",
        " 'not',\n",
        " 'think',\n",
        " 'of',\n",
        " 'the',\n",
        " 'warm',\n",
        " 'sun',\n",
        " 'and',\n",
        " 'of',\n",
        " 'the',\n",
        " 'fresh',\n",
        " 'air',\n",
        " ';',\n",
        " 'he',\n",
        " 'did',\n",
        " 'not',\n",
        " 'care',\n",
        " 'for',\n",
        " 'the',\n",
        " 'little',\n",
        " 'cottage',\n",
        " 'children',\n",
        " 'that',\n",
        " 'ran',\n",
        " 'about',\n",
        " 'and',\n",
        " 'prattled',\n",
        " 'when',\n",
        " 'they',\n",
        " 'were',\n",
        " 'in',\n",
        " 'the',\n",
        " 'woods',\n",
        " 'looking',\n",
        " 'for',\n",
        " 'wild-strawberries',\n",
        " '.',\n",
        " 'The',\n",
        " 'children',\n",
        " 'often']"
       ]
      }
     ],
     "prompt_number": 6
    },
    {
     "cell_type": "markdown",
     "metadata": {},
     "source": [
      "Notice the difference below - look for \"wild-strawberries\":"
     ]
    },
    {
     "cell_type": "code",
     "collapsed": false,
     "input": [
      "nltk.wordpunct_tokenize(text)[60:120]"
     ],
     "language": "python",
     "metadata": {},
     "outputs": [
      {
       "metadata": {},
       "output_type": "pyout",
       "prompt_number": 6,
       "text": [
        "['Fir',\n",
        " 'wanted',\n",
        " 'so',\n",
        " 'very',\n",
        " 'much',\n",
        " 'to',\n",
        " 'be',\n",
        " 'a',\n",
        " 'grown',\n",
        " '-',\n",
        " 'up',\n",
        " 'tree',\n",
        " '.',\n",
        " 'He',\n",
        " 'did',\n",
        " 'not',\n",
        " 'think',\n",
        " 'of',\n",
        " 'the',\n",
        " 'warm',\n",
        " 'sun',\n",
        " 'and',\n",
        " 'of',\n",
        " 'the',\n",
        " 'fresh',\n",
        " 'air',\n",
        " ';',\n",
        " 'he',\n",
        " 'did',\n",
        " 'not',\n",
        " 'care',\n",
        " 'for',\n",
        " 'the',\n",
        " 'little',\n",
        " 'cottage',\n",
        " 'children',\n",
        " 'that',\n",
        " 'ran',\n",
        " 'about',\n",
        " 'and',\n",
        " 'prattled',\n",
        " 'when',\n",
        " 'they',\n",
        " 'were',\n",
        " 'in',\n",
        " 'the',\n",
        " 'woods',\n",
        " 'looking',\n",
        " 'for',\n",
        " 'wild',\n",
        " '-',\n",
        " 'strawberries',\n",
        " '.',\n",
        " 'The',\n",
        " 'children',\n",
        " 'often',\n",
        " 'came',\n",
        " 'with',\n",
        " 'a',\n",
        " 'whole']"
       ]
      }
     ],
     "prompt_number": 6
    },
    {
     "cell_type": "code",
     "collapsed": false,
     "input": [
      "nltk.sent_tokenize(text)[0:10]"
     ],
     "language": "python",
     "metadata": {},
     "outputs": [
      {
       "metadata": {},
       "output_type": "pyout",
       "prompt_number": 7,
       "text": [
        "['THE FIR TREE\\r\\n\\r\\nOut in the woods stood a nice little Fir Tree.',\n",
        " 'The place he had was a\\r\\nvery good one: the sun shone on him: as to fresh air, there was enough\\r\\nof that, and round him grew many large-sized comrades, pines as well as\\r\\nfirs.',\n",
        " 'But the little Fir wanted so very much to be a grown-up tree.',\n",
        " 'He did not think of the warm sun and of the fresh air; he did not care\\r\\nfor the little cottage children that ran about and prattled when they\\r\\nwere in the woods looking for wild-strawberries.',\n",
        " 'The children often came\\r\\nwith a whole pitcher full of berries, or a long row of them threaded on\\r\\na straw, and sat down near the young tree and said, \"Oh, how pretty he\\r\\nis!',\n",
        " 'What a nice little fir!\"',\n",
        " 'But this was what the Tree could not bear\\r\\nto hear.',\n",
        " 'At the end of a year he had shot up a good deal, and after another year\\r\\nhe was another long bit taller; for with fir trees one can always tell\\r\\nby the shoots how many years old they are.',\n",
        " '\"Oh!',\n",
        " 'Were I but such a high tree as the others are,\" sighed he.']"
       ]
      }
     ],
     "prompt_number": 7
    },
    {
     "cell_type": "markdown",
     "metadata": {},
     "source": [
      "**You'll want to choose your word tokenization carefully - and sometimes you have to use regex patterns instead. Note especially what happens with contractions here:http://text-processing.com/demo/tokenize/**"
     ]
    },
    {
     "cell_type": "heading",
     "level": 3,
     "metadata": {},
     "source": [
      "StopWords"
     ]
    },
    {
     "cell_type": "markdown",
     "metadata": {},
     "source": [
      "\"Stopwords\" are words that are usually excluded because they are common connectors (or determiners) that are not considered to carry meaning. **BEWARE** hidden stopword filtering in libraries you use and always check stopword lists to see if you agree with their contents!"
     ]
    },
    {
     "cell_type": "code",
     "collapsed": false,
     "input": [
      "from nltk.corpus import stopwords"
     ],
     "language": "python",
     "metadata": {},
     "outputs": [],
     "prompt_number": 8
    },
    {
     "cell_type": "code",
     "collapsed": false,
     "input": [
      "english_stops = stopwords.words('english')"
     ],
     "language": "python",
     "metadata": {},
     "outputs": [],
     "prompt_number": 9
    },
    {
     "cell_type": "code",
     "collapsed": false,
     "input": [
      "english_stops"
     ],
     "language": "python",
     "metadata": {},
     "outputs": [
      {
       "metadata": {},
       "output_type": "pyout",
       "prompt_number": 10,
       "text": [
        "[u'i',\n",
        " u'me',\n",
        " u'my',\n",
        " u'myself',\n",
        " u'we',\n",
        " u'our',\n",
        " u'ours',\n",
        " u'ourselves',\n",
        " u'you',\n",
        " u'your',\n",
        " u'yours',\n",
        " u'yourself',\n",
        " u'yourselves',\n",
        " u'he',\n",
        " u'him',\n",
        " u'his',\n",
        " u'himself',\n",
        " u'she',\n",
        " u'her',\n",
        " u'hers',\n",
        " u'herself',\n",
        " u'it',\n",
        " u'its',\n",
        " u'itself',\n",
        " u'they',\n",
        " u'them',\n",
        " u'their',\n",
        " u'theirs',\n",
        " u'themselves',\n",
        " u'what',\n",
        " u'which',\n",
        " u'who',\n",
        " u'whom',\n",
        " u'this',\n",
        " u'that',\n",
        " u'these',\n",
        " u'those',\n",
        " u'am',\n",
        " u'is',\n",
        " u'are',\n",
        " u'was',\n",
        " u'were',\n",
        " u'be',\n",
        " u'been',\n",
        " u'being',\n",
        " u'have',\n",
        " u'has',\n",
        " u'had',\n",
        " u'having',\n",
        " u'do',\n",
        " u'does',\n",
        " u'did',\n",
        " u'doing',\n",
        " u'a',\n",
        " u'an',\n",
        " u'the',\n",
        " u'and',\n",
        " u'but',\n",
        " u'if',\n",
        " u'or',\n",
        " u'because',\n",
        " u'as',\n",
        " u'until',\n",
        " u'while',\n",
        " u'of',\n",
        " u'at',\n",
        " u'by',\n",
        " u'for',\n",
        " u'with',\n",
        " u'about',\n",
        " u'against',\n",
        " u'between',\n",
        " u'into',\n",
        " u'through',\n",
        " u'during',\n",
        " u'before',\n",
        " u'after',\n",
        " u'above',\n",
        " u'below',\n",
        " u'to',\n",
        " u'from',\n",
        " u'up',\n",
        " u'down',\n",
        " u'in',\n",
        " u'out',\n",
        " u'on',\n",
        " u'off',\n",
        " u'over',\n",
        " u'under',\n",
        " u'again',\n",
        " u'further',\n",
        " u'then',\n",
        " u'once',\n",
        " u'here',\n",
        " u'there',\n",
        " u'when',\n",
        " u'where',\n",
        " u'why',\n",
        " u'how',\n",
        " u'all',\n",
        " u'any',\n",
        " u'both',\n",
        " u'each',\n",
        " u'few',\n",
        " u'more',\n",
        " u'most',\n",
        " u'other',\n",
        " u'some',\n",
        " u'such',\n",
        " u'no',\n",
        " u'nor',\n",
        " u'not',\n",
        " u'only',\n",
        " u'own',\n",
        " u'same',\n",
        " u'so',\n",
        " u'than',\n",
        " u'too',\n",
        " u'very',\n",
        " u's',\n",
        " u't',\n",
        " u'can',\n",
        " u'will',\n",
        " u'just',\n",
        " u'don',\n",
        " u'should',\n",
        " u'now']"
       ]
      }
     ],
     "prompt_number": 10
    },
    {
     "cell_type": "code",
     "collapsed": false,
     "input": [
      "tokens = nltk.word_tokenize(text)\n",
      "tokens[0:15]"
     ],
     "language": "python",
     "metadata": {},
     "outputs": [
      {
       "metadata": {},
       "output_type": "pyout",
       "prompt_number": 12,
       "text": [
        "['THE',\n",
        " 'FIR',\n",
        " 'TREE',\n",
        " 'Out',\n",
        " 'in',\n",
        " 'the',\n",
        " 'woods',\n",
        " 'stood',\n",
        " 'a',\n",
        " 'nice',\n",
        " 'little',\n",
        " 'Fir',\n",
        " 'Tree',\n",
        " '.',\n",
        " 'The']"
       ]
      }
     ],
     "prompt_number": 12
    },
    {
     "cell_type": "code",
     "collapsed": false,
     "input": [
      "len(tokens)"
     ],
     "language": "python",
     "metadata": {},
     "outputs": [
      {
       "metadata": {},
       "output_type": "pyout",
       "prompt_number": 12,
       "text": [
        "3925"
       ]
      }
     ],
     "prompt_number": 12
    },
    {
     "cell_type": "markdown",
     "metadata": {},
     "source": [
      "**We want to strip out stopwords - use a list comprehension.  Notice you need to lower case the words before you check for membership!**"
     ]
    },
    {
     "cell_type": "code",
     "collapsed": false,
     "input": [
      "# try this without .lower in the if-statement and check the size!\n",
      "tokens = [token.lower() for token in tokens if token.lower() not in english_stops]\n",
      "len(tokens)"
     ],
     "language": "python",
     "metadata": {},
     "outputs": [
      {
       "metadata": {},
       "output_type": "pyout",
       "prompt_number": 14,
       "text": [
        "2158"
       ]
      }
     ],
     "prompt_number": 14
    },
    {
     "cell_type": "code",
     "collapsed": false,
     "input": [
      "tokens[0:15]"
     ],
     "language": "python",
     "metadata": {},
     "outputs": [
      {
       "metadata": {},
       "output_type": "pyout",
       "prompt_number": 15,
       "text": [
        "['fir',\n",
        " 'tree',\n",
        " 'woods',\n",
        " 'stood',\n",
        " 'nice',\n",
        " 'little',\n",
        " 'fir',\n",
        " 'tree',\n",
        " '.',\n",
        " 'place',\n",
        " 'good',\n",
        " 'one',\n",
        " ':',\n",
        " 'sun',\n",
        " 'shone']"
       ]
      }
     ],
     "prompt_number": 15
    },
    {
     "cell_type": "markdown",
     "metadata": {},
     "source": [
      "Let's get rid of punctuation too, which isn't used in most bag-of-words analyses."
     ]
    },
    {
     "cell_type": "code",
     "collapsed": false,
     "input": [
      "import string\n",
      "string.punctuation"
     ],
     "language": "python",
     "metadata": {},
     "outputs": [
      {
       "metadata": {},
       "output_type": "pyout",
       "prompt_number": 16,
       "text": [
        "'!\"#$%&\\'()*+,-./:;<=>?@[\\\\]^_`{|}~'"
       ]
      }
     ],
     "prompt_number": 16
    },
    {
     "cell_type": "code",
     "collapsed": false,
     "input": [
      "tokens = [token for token in tokens if token not in string.punctuation]\n",
      "len(tokens)"
     ],
     "language": "python",
     "metadata": {},
     "outputs": [
      {
       "metadata": {},
       "output_type": "pyout",
       "prompt_number": 19,
       "text": [
        "1647"
       ]
      }
     ],
     "prompt_number": 19
    },
    {
     "cell_type": "code",
     "collapsed": false,
     "input": [
      "# There's some awful stuff still in here:\n",
      "sorted(tokens)[0:20]"
     ],
     "language": "python",
     "metadata": {},
     "outputs": [
      {
       "metadata": {},
       "output_type": "pyout",
       "prompt_number": 22,
       "text": [
        "[\"''\",\n",
        " \"''\",\n",
        " \"''\",\n",
        " \"''\",\n",
        " \"''\",\n",
        " \"''\",\n",
        " \"''\",\n",
        " \"''\",\n",
        " \"''\",\n",
        " \"''\",\n",
        " \"''\",\n",
        " \"''\",\n",
        " \"''\",\n",
        " \"''\",\n",
        " \"''\",\n",
        " \"''\",\n",
        " \"''\",\n",
        " \"''\",\n",
        " \"''\",\n",
        " \"''\"]"
       ]
      }
     ],
     "prompt_number": 22
    },
    {
     "cell_type": "markdown",
     "metadata": {},
     "source": [
      "The ugliness of some of those tokens! You have some possibilities now - add to your stopwords list the ones you want removed; or remove all very short words, which will get rid of our puntuation problem too."
     ]
    },
    {
     "cell_type": "code",
     "collapsed": false,
     "input": [
      "[token for token in tokens if len(token) <= 2][0:20]"
     ],
     "language": "python",
     "metadata": {},
     "outputs": [
      {
       "metadata": {},
       "output_type": "pyout",
       "prompt_number": 24,
       "text": [
        "['``',\n",
        " 'oh',\n",
        " \"''\",\n",
        " '``',\n",
        " 'oh',\n",
        " \"''\",\n",
        " '``',\n",
        " \"''\",\n",
        " 'oh',\n",
        " 'go',\n",
        " '``',\n",
        " \"''\",\n",
        " '--',\n",
        " \"''\",\n",
        " \"''\",\n",
        " 'go',\n",
        " \"''\",\n",
        " \"''\",\n",
        " '``',\n",
        " \"''\"]"
       ]
      }
     ],
     "prompt_number": 24
    },
    {
     "cell_type": "code",
     "collapsed": false,
     "input": [
      "def clean_tokens(tokens):\n",
      "    \"\"\" Lowercases, takes out punct and stopwords and short strings \"\"\"\n",
      "    return [token.lower() for token in tokens if (token not in string.punctuation) and \n",
      "                   (token.lower() not in english_stops) and len(token) > 2]"
     ],
     "language": "python",
     "metadata": {},
     "outputs": [],
     "prompt_number": 25
    },
    {
     "cell_type": "code",
     "collapsed": false,
     "input": [
      "clean = clean_tokens(tokens)\n",
      "clean[0:20]"
     ],
     "language": "python",
     "metadata": {},
     "outputs": [
      {
       "metadata": {},
       "output_type": "pyout",
       "prompt_number": 27,
       "text": [
        "['fir',\n",
        " 'tree',\n",
        " 'woods',\n",
        " 'stood',\n",
        " 'nice',\n",
        " 'little',\n",
        " 'fir',\n",
        " 'tree',\n",
        " 'place',\n",
        " 'good',\n",
        " 'one',\n",
        " 'sun',\n",
        " 'shone',\n",
        " 'fresh',\n",
        " 'air',\n",
        " 'enough',\n",
        " 'round',\n",
        " 'grew',\n",
        " 'many',\n",
        " 'large-sized']"
       ]
      }
     ],
     "prompt_number": 27
    },
    {
     "cell_type": "code",
     "collapsed": false,
     "input": [
      "len(clean)"
     ],
     "language": "python",
     "metadata": {},
     "outputs": [
      {
       "metadata": {},
       "output_type": "pyout",
       "prompt_number": 28,
       "text": [
        "1445"
       ]
      }
     ],
     "prompt_number": 28
    },
    {
     "cell_type": "markdown",
     "metadata": {},
     "source": [
      "The obvious thing you want to do next is count frequencies of words in texts - NLTK has you covered."
     ]
    },
    {
     "cell_type": "code",
     "collapsed": false,
     "input": [
      "from nltk import Text\n",
      "text = Text(clean)\n",
      "text.vocab().most_common()[0:20]"
     ],
     "language": "python",
     "metadata": {},
     "outputs": [
      {
       "metadata": {},
       "output_type": "pyout",
       "prompt_number": 29,
       "text": [
        "[('tree', 66),\n",
        " ('fir', 27),\n",
        " ('said', 25),\n",
        " ('little', 24),\n",
        " ('one', 23),\n",
        " ('came', 15),\n",
        " ('thought', 14),\n",
        " ('know', 14),\n",
        " ('branches', 12),\n",
        " ('mice', 12),\n",
        " ('still', 10),\n",
        " ('trees', 10),\n",
        " ('children', 9),\n",
        " ('large', 9),\n",
        " ('would', 9),\n",
        " ('story', 9),\n",
        " ('humpy-dumpy', 9),\n",
        " ('come', 9),\n",
        " ('old', 9),\n",
        " ('like', 8)]"
       ]
      }
     ],
     "prompt_number": 29
    },
    {
     "cell_type": "heading",
     "level": 4,
     "metadata": {},
     "source": [
      "# NLTK Text Collection methods"
     ]
    },
    {
     "cell_type": "code",
     "collapsed": false,
     "input": [
      "def makeTextCollection(files):\n",
      "    from nltk import Text\n",
      "    from nltk import TextCollection\n",
      "    textlist = [open(filen).read() for filen in files]\n",
      "    texts= [Text(clean_tokens(nltk.word_tokenize(text))) for text in textlist]\n",
      "    collection = TextCollection(texts)\n",
      "    return collection"
     ],
     "language": "python",
     "metadata": {},
     "outputs": [],
     "prompt_number": 30
    },
    {
     "cell_type": "code",
     "collapsed": false,
     "input": [
      "filelist = !ls data/stories/*"
     ],
     "language": "python",
     "metadata": {},
     "outputs": [],
     "prompt_number": 31
    },
    {
     "cell_type": "code",
     "collapsed": false,
     "input": [
      "filelist"
     ],
     "language": "python",
     "metadata": {},
     "outputs": [
      {
       "metadata": {},
       "output_type": "pyout",
       "prompt_number": 32,
       "text": [
        "['data/stories/A_THE BELL.txt',\n",
        " 'data/stories/A_THE DREAM OF LITTLE TUK.txt',\n",
        " 'data/stories/A_THE ELDERBUSH.txt',\n",
        " \"data/stories/A_THE EMPEROR'S NEW CLOTHES.txt\",\n",
        " 'data/stories/A_THE FALSE COLLAR.txt',\n",
        " 'data/stories/A_THE FIR TREE.txt',\n",
        " 'data/stories/A_THE HAPPY FAMILY.txt',\n",
        " 'data/stories/A_THE LEAP-FROG.txt',\n",
        " 'data/stories/A_THE LITTLE MATCH GIRL.txt',\n",
        " 'data/stories/A_THE NAUGHTY BOY.txt',\n",
        " 'data/stories/A_THE OLD HOUSE.txt',\n",
        " 'data/stories/A_THE REAL PRINCESS.txt',\n",
        " 'data/stories/A_THE RED SHOES.txt',\n",
        " 'data/stories/A_THE SHADOW.txt',\n",
        " 'data/stories/A_THE SHOES OF FORTUNE.txt',\n",
        " 'data/stories/A_THE SNOW QUEEN.txt',\n",
        " 'data/stories/A_THE STORY OF A MOTHER.txt',\n",
        " 'data/stories/A_THE SWINEHERD.txt',\n",
        " 'data/stories/G_BEARSKIN.txt',\n",
        " 'data/stories/G_BRIAR ROSE.txt',\n",
        " 'data/stories/G_CATHERINE AND FREDERICK.txt',\n",
        " 'data/stories/G_CINDERELLA.txt',\n",
        " 'data/stories/G_DUMMLING AND THE THREE FEATHERS.txt',\n",
        " 'data/stories/G_FAITHFUL JOHN.txt',\n",
        " 'data/stories/G_HANSEL AND GRETHEL.txt',\n",
        " 'data/stories/G_LITTLE ONE-EYE, TWO-EYES AND THREE-EYES.txt',\n",
        " 'data/stories/G_LITTLE RED-CAP.txt',\n",
        " 'data/stories/G_LITTLE SNOW-WHITE.txt',\n",
        " 'data/stories/G_MOTHER HOLLE.txt',\n",
        " 'data/stories/G_OH, IF I COULD BUT SHIVER!.txt',\n",
        " 'data/stories/G_RAPUNZEL.txt',\n",
        " 'data/stories/G_RUMPELSTILTSKIN.txt',\n",
        " 'data/stories/G_SNOW-WHITE AND ROSE-RED.txt',\n",
        " 'data/stories/G_THE FROG PRINCE.txt',\n",
        " 'data/stories/G_THE GOLDEN GOOSE.txt',\n",
        " 'data/stories/G_THE GOOSE-GIRL.txt',\n",
        " 'data/stories/G_THE LITTLE BROTHER AND SISTER.txt',\n",
        " 'data/stories/G_THE SIX SWANS.txt',\n",
        " 'data/stories/G_THE THREE LITTLE MEN IN THE WOOD.txt',\n",
        " 'data/stories/G_THE TRAVELS OF TOM THUMB.txt',\n",
        " 'data/stories/G_THE VALIANT LITTLE TAILOR.txt',\n",
        " 'data/stories/G_THE WATER OF LIFE.txt',\n",
        " 'data/stories/G_THUMBLING.txt']"
       ]
      }
     ],
     "prompt_number": 32
    },
    {
     "cell_type": "code",
     "collapsed": false,
     "input": [
      "fairyCol = makeTextCollection(filelist)"
     ],
     "language": "python",
     "metadata": {},
     "outputs": [],
     "prompt_number": 33
    },
    {
     "cell_type": "code",
     "collapsed": false,
     "input": [
      "fairyCol.concordance('witch')\n",
      "# Note that a concordance view should really retain original format; see below for how to do this \n",
      "# with an IndexedText object."
     ],
     "language": "python",
     "metadata": {},
     "outputs": [
      {
       "output_type": "stream",
       "stream": "stdout",
       "text": [
        "Displaying 14 of 14 matches:\n",
        " woman behaved kindly reality wicked witch waylaid children built bread-house o\n",
        "grethel came next shaking till awoke witch said get lazy thing fetch water cook\n",
        "ll eat grethel began cry useless old witch made wished nice meal cooked hansel \n",
        " nothing crab claw every morning old witch came cage said hansel stretch finger\n",
        "n wild beasts wood died together old witch called leave noise help bit early mo\n",
        "n flames burning fiercely creep said witch see hot enough put bread intended gr\n",
        "howled grethel ran away left ungodly witch burn ashes ran hansel opening door c\n",
        "opening door called hansel saved old witch dead sprang like bird cage door open\n",
        "l upon neck kissed nothing fear went witch house every corner caskets full pear\n",
        "de called hal called rumpelstiltskin witch told witch told shrieked little man \n",
        "al called rumpelstiltskin witch told witch told shrieked little man stamped rig\n",
        "look brook wicked stepmother however witch witnessed departure two children sne\n",
        "little boy happened king hunting old witch took form chambermaid got room queen\n",
        "utiful charming ever told king fraud witch daughter practised upon tried senten\n"
       ]
      }
     ],
     "prompt_number": 34
    },
    {
     "cell_type": "code",
     "collapsed": false,
     "input": [
      "fairyCol.similar('king')"
     ],
     "language": "python",
     "metadata": {},
     "outputs": [
      {
       "output_type": "stream",
       "stream": "stdout",
       "text": [
        "man father woman went home however replied queen eldest toads still\n",
        "prince westwards dwarfs folks lord giants wished garden get\n"
       ]
      }
     ],
     "prompt_number": 35
    },
    {
     "cell_type": "code",
     "collapsed": false,
     "input": [
      "fairyCol.similar('queen')"
     ],
     "language": "python",
     "metadata": {},
     "outputs": [
      {
       "output_type": "stream",
       "stream": "stdout",
       "text": [
        "man country rats love palace people share gerda son see another church\n",
        "dear sees yes prince dost blow takes would\n"
       ]
      }
     ],
     "prompt_number": 36
    },
    {
     "cell_type": "code",
     "collapsed": false,
     "input": [
      "fairyCol.collocations(num=25, window_size=3)"
     ],
     "language": "python",
     "metadata": {},
     "outputs": [
      {
       "output_type": "stream",
       "stream": "stdout",
       "text": [
        "faithful john; old woman; little boy; learned man; old man; red shoes;\n",
        "pewter soldier; snow queen; tom thumb; next morning; thou art; little\n",
        "girl; little gerda; robber maiden; fir tree; take care; king son; king\n",
        "daughter; weg weg; could see; little maiden; pick pick; shivering\n",
        "means; east street; fairy tale\n"
       ]
      }
     ],
     "prompt_number": 37
    },
    {
     "cell_type": "code",
     "collapsed": false,
     "input": [
      "fairyCol.dispersion_plot(['queen','king','girl', 'boy', 'daughter','son'])"
     ],
     "language": "python",
     "metadata": {},
     "outputs": [
      {
       "metadata": {},
       "output_type": "display_data",
       "png": "[encoded data removed]",
       "text": [
        "<matplotlib.figure.Figure at 0x1006e64d0>"
       ]
      }
     ],
     "prompt_number": 38
    },
    {
     "cell_type": "code",
     "collapsed": false,
     "input": [
      "fairyCol.plot(50)"
     ],
     "language": "python",
     "metadata": {},
     "outputs": [
      {
       "metadata": {},
       "output_type": "display_data",
       "png": "[encoded data removed]",
       "text": [
        "<matplotlib.figure.Figure at 0x1088c6e10>"
       ]
      }
     ],
     "prompt_number": 39
    },
    {
     "cell_type": "code",
     "collapsed": false,
     "input": [
      "fairyCol.vocab().most_common()[0:15]"
     ],
     "language": "python",
     "metadata": {},
     "outputs": [
      {
       "metadata": {},
       "output_type": "pyout",
       "prompt_number": 40,
       "text": [
        "[('said', 911),\n",
        " ('one', 571),\n",
        " ('little', 557),\n",
        " ('old', 368),\n",
        " ('came', 321),\n",
        " ('could', 304),\n",
        " ('went', 299),\n",
        " ('king', 289),\n",
        " ('would', 255),\n",
        " ('man', 237),\n",
        " ('must', 204),\n",
        " ('see', 194),\n",
        " ('thought', 192),\n",
        " ('away', 184),\n",
        " ('like', 182)]"
       ]
      }
     ],
     "prompt_number": 40
    },
    {
     "cell_type": "code",
     "collapsed": false,
     "input": [
      "fairyCol.common_contexts(['queen'])"
     ],
     "language": "python",
     "metadata": {},
     "outputs": [
      {
       "output_type": "stream",
       "stream": "stdout",
       "text": [
        "snow_passed form_cradle day_heard snow_kissed snow_playfellow\n",
        "day_walking bed_place king_fragrant real_far snow_said body_hearts\n",
        "young_bore kissed_going snow_first hid_chamber shall_child king_great\n",
        "year_brought enemy_dressing snow_home\n"
       ]
      }
     ],
     "prompt_number": 41
    },
    {
     "cell_type": "code",
     "collapsed": false,
     "input": [
      "len(fairyCol.vocab())"
     ],
     "language": "python",
     "metadata": {},
     "outputs": [
      {
       "metadata": {},
       "output_type": "pyout",
       "prompt_number": 42,
       "text": [
        "6698"
       ]
      }
     ],
     "prompt_number": 42
    },
    {
     "cell_type": "markdown",
     "metadata": {},
     "source": [
      "\n",
      "\n",
      "To see more details about the NLTK Text methods, read the code/doc here: http://www.nltk.org/_modules/nltk/text.html"
     ]
    },
    {
     "cell_type": "markdown",
     "metadata": {},
     "source": [
      "## Parts of Speech - Abbreviated POS\n",
      "*To do this, you need to download the MaxEnt Treebank POS tagger with nltk.download() (on the models tab) - it may have downloaded with the full book collection, if you already got that.*"
     ]
    },
    {
     "cell_type": "code",
     "collapsed": false,
     "input": [
      "nltk.download()"
     ],
     "language": "python",
     "metadata": {},
     "outputs": [
      {
       "output_type": "stream",
       "stream": "stdout",
       "text": [
        "showing info http://nltk.github.com/nltk_data/\n"
       ]
      },
      {
       "metadata": {},
       "output_type": "pyout",
       "prompt_number": 36,
       "text": [
        "True"
       ]
      }
     ],
     "prompt_number": 36
    },
    {
     "cell_type": "code",
     "collapsed": false,
     "input": [
      "text = nltk.word_tokenize(\"And now for something completely different\")\n",
      "tagged = nltk.pos_tag(text)  # there are a few options for taggers, details in NLTK books\n",
      "tagged"
     ],
     "language": "python",
     "metadata": {},
     "outputs": [
      {
       "metadata": {},
       "output_type": "pyout",
       "prompt_number": 43,
       "text": [
        "[('And', 'CC'),\n",
        " ('now', 'RB'),\n",
        " ('for', 'IN'),\n",
        " ('something', 'NN'),\n",
        " ('completely', 'RB'),\n",
        " ('different', 'JJ')]"
       ]
      }
     ],
     "prompt_number": 43
    },
    {
     "cell_type": "code",
     "collapsed": false,
     "input": [
      "nltk.untag(tagged)"
     ],
     "language": "python",
     "metadata": {},
     "outputs": [
      {
       "metadata": {},
       "output_type": "pyout",
       "prompt_number": 44,
       "text": [
        "['And', 'now', 'for', 'something', 'completely', 'different']"
       ]
      }
     ],
     "prompt_number": 44
    },
    {
     "cell_type": "markdown",
     "metadata": {},
     "source": [
      "<img src=\"./images/TreebankPOSTags.png\">"
     ]
    },
    {
     "cell_type": "markdown",
     "metadata": {},
     "source": [
      "source: https://www.ling.upenn.edu/courses/Fall_2003/ling001/penn_treebank_pos.html\n",
      "\n",
      "Parts of speech are used in anaysis that's \"deeper\" than bags-of-words approaches.  For instance, chunking (parsing for structure) may be used for entity identification and semantics.  See http://www.nltk.org/book/ch07.html for a little more info, and the 2 Perkins NLTK books."
     ]
    },
    {
     "cell_type": "heading",
     "level": 2,
     "metadata": {},
     "source": [
      "Stemming / Lemmatizing"
     ]
    },
    {
     "cell_type": "markdown",
     "metadata": {},
     "source": [
      "*The goal is to merge data items that are the same at some \"root\" meaning level, and reduce the number of features in your data set.  \"Cats\" and \"Cat\" might want to be treated as the same thing, from a topic or summarization perspective.*"
     ]
    },
    {
     "cell_type": "code",
     "collapsed": false,
     "input": [
      "# stemming removes affixes.  This is the default choice for stemming although other algs exist\n",
      "from nltk.stem import PorterStemmer\n",
      "stemmer = PorterStemmer()\n",
      "stemmer.stem('believes')"
     ],
     "language": "python",
     "metadata": {},
     "outputs": [
      {
       "metadata": {},
       "output_type": "pyout",
       "prompt_number": 45,
       "text": [
        "u'believ'"
       ]
      }
     ],
     "prompt_number": 45
    },
    {
     "cell_type": "code",
     "collapsed": false,
     "input": [
      "# lemmatizing transforms to root words using grammar rules. It is slower. Stemming is more common.\n",
      "from nltk.stem import WordNetLemmatizer\n",
      "lemmatizer = WordNetLemmatizer()\n",
      "lemmatizer.lemmatize('said', pos='v')  # if you don't specify POS, you get zilch."
     ],
     "language": "python",
     "metadata": {},
     "outputs": [
      {
       "metadata": {},
       "output_type": "pyout",
       "prompt_number": 46,
       "text": [
        "u'say'"
       ]
      }
     ],
     "prompt_number": 46
    },
    {
     "cell_type": "code",
     "collapsed": false,
     "input": [
      "lemmatizer.lemmatize('cookbooks')"
     ],
     "language": "python",
     "metadata": {},
     "outputs": [
      {
       "metadata": {},
       "output_type": "pyout",
       "prompt_number": 47,
       "text": [
        "u'cookbook'"
       ]
      }
     ],
     "prompt_number": 47
    },
    {
     "cell_type": "code",
     "collapsed": false,
     "input": [
      "stemmer.stem('cookbooks')"
     ],
     "language": "python",
     "metadata": {},
     "outputs": [
      {
       "metadata": {},
       "output_type": "pyout",
       "prompt_number": 48,
       "text": [
        "u'cookbook'"
       ]
      }
     ],
     "prompt_number": 48
    },
    {
     "cell_type": "code",
     "collapsed": false,
     "input": [
      "# an apparently recommended compression recipe in Perkins Python 3 NLTK book? Not sure I agree.\n",
      "stemmer.stem(lemmatizer.lemmatize('buses'))"
     ],
     "language": "python",
     "metadata": {},
     "outputs": [
      {
       "metadata": {},
       "output_type": "pyout",
       "prompt_number": 50,
       "text": [
        "u'bu'"
       ]
      }
     ],
     "prompt_number": 50
    },
    {
     "cell_type": "heading",
     "level": 3,
     "metadata": {},
     "source": [
      "Usefulness of lemmatizing / stemming ... vocab reduction, indexing"
     ]
    },
    {
     "cell_type": "code",
     "collapsed": false,
     "input": [
      "def tokenize_and_stem(text):\n",
      "    tokens = clean_tokens(nltk.word_tokenize(text))\n",
      "    #return no_stops\n",
      "    stems = [stemmer.stem(t) for t in tokens]\n",
      "    return stems"
     ],
     "language": "python",
     "metadata": {},
     "outputs": [],
     "prompt_number": 51
    },
    {
     "cell_type": "code",
     "collapsed": false,
     "input": [
      "def makeStemTextCollection(files):\n",
      "    from nltk import Text\n",
      "    from nltk import TextCollection\n",
      "    textlist = [open(filen).read() for filen in files]\n",
      "    tokens = [tokenize_and_stem(text) for text in textlist]\n",
      "    texts= [Text(text) for text in tokens]\n",
      "    collection = TextCollection(texts)\n",
      "    return collection"
     ],
     "language": "python",
     "metadata": {},
     "outputs": [],
     "prompt_number": 52
    },
    {
     "cell_type": "code",
     "collapsed": false,
     "input": [
      "fairyStems = makeStemTextCollection(filelist)"
     ],
     "language": "python",
     "metadata": {},
     "outputs": [],
     "prompt_number": 53
    },
    {
     "cell_type": "code",
     "collapsed": false,
     "input": [
      "fairyStems.concordance('witch')"
     ],
     "language": "python",
     "metadata": {},
     "outputs": [
      {
       "output_type": "stream",
       "stream": "stdout",
       "text": [
        "Displaying 16 of 16 matches:\n",
        " old woman behav kindli realiti wick witch waylaid children built bread-hous or\n",
        " kill cook ate made great festiv day witch red eye see far fine sens smell like\n",
        "se grethel came next shake till awok witch said get lazi thing fetch water cook\n",
        "ll eat grethel began cri useless old witch made wish nice meal cook hansel gret\n",
        "el got noth crab claw everi morn old witch came cage said hansel stretch finger\n",
        "eaten wild beast wood die togeth old witch call leav nois help bit earli morn g\n",
        "hel oven flame burn fierc creep said witch see hot enough put bread intend gret\n",
        "l howl grethel ran away left ungodli witch burn ash ran hansel open door call h\n",
        "ansel open door call hansel save old witch dead sprang like bird cage door open\n",
        "d fell upon neck kiss noth fear went witch hous everi corner casket full pearl \n",
        "conrad call hal call rumpelstiltskin witch told witch told shriek littl man sta\n",
        " hal call rumpelstiltskin witch told witch told shriek littl man stamp right fo\n",
        " went look brook wick stepmoth howev witch wit departur two children sneak secr\n",
        "ur two children sneak secretli habit witch enchant spring forest present found \n",
        "eauti littl boy happen king hunt old witch took form chambermaid got room queen\n",
        "ci beauti charm ever told king fraud witch daughter practis upon tri sentenc pr\n"
       ]
      }
     ],
     "prompt_number": 54
    },
    {
     "cell_type": "code",
     "collapsed": false,
     "input": [
      "fairyStems.collocations(num=25, window_size=2)"
     ],
     "language": "python",
     "metadata": {},
     "outputs": [
      {
       "output_type": "stream",
       "stream": "stdout",
       "text": [
        "faith john; old woman; littl boy; old man; pewter soldier; learn man;\n",
        "littl girl; red shoe; snow queen; tom thumb; next morn; littl gerda;\n",
        "fir tree; fairi tale; open door; king son; robber maiden; king\n",
        "daughter; could see; thou art; east street; littl kay; mother holl;\n",
        "turn round; take care\n"
       ]
      }
     ],
     "prompt_number": 55
    },
    {
     "cell_type": "code",
     "collapsed": false,
     "input": [
      "# reminder of above\n",
      "fairyCol.collocations(num=25, window_size=2)"
     ],
     "language": "python",
     "metadata": {},
     "outputs": [
      {
       "output_type": "stream",
       "stream": "stdout",
       "text": [
        "faithful john; old woman; little boy; old man; learned man; pewter\n",
        "soldier; red shoes; snow queen; little girl; tom thumb; next morning;\n",
        "little gerda; robber maiden; fir tree; king son; king daughter; could\n",
        "see; thou art; shivering means; east street; take care; fairy tale;\n",
        "little kay; mother holle; kid milk\n"
       ]
      }
     ],
     "prompt_number": 56
    },
    {
     "cell_type": "code",
     "collapsed": false,
     "input": [
      "fairyStems.vocab().most_common()[0:10]"
     ],
     "language": "python",
     "metadata": {},
     "outputs": [
      {
       "metadata": {},
       "output_type": "pyout",
       "prompt_number": 57,
       "text": [
        "[(u'said', 911),\n",
        " (u'one', 585),\n",
        " (u'littl', 557),\n",
        " (u'old', 368),\n",
        " (u'came', 321),\n",
        " (u'could', 304),\n",
        " (u'went', 299),\n",
        " (u'king', 293),\n",
        " (u'look', 270),\n",
        " (u'would', 255)]"
       ]
      }
     ],
     "prompt_number": 57
    },
    {
     "cell_type": "code",
     "collapsed": false,
     "input": [
      "len(fairyStems.vocab())  # a huge savings over the vocab size of the unstemmed one!"
     ],
     "language": "python",
     "metadata": {},
     "outputs": [
      {
       "metadata": {},
       "output_type": "pyout",
       "prompt_number": 51,
       "text": [
        "4861"
       ]
      }
     ],
     "prompt_number": 51
    },
    {
     "cell_type": "code",
     "collapsed": false,
     "input": [
      "len(fairyCol.vocab())"
     ],
     "language": "python",
     "metadata": {},
     "outputs": [
      {
       "metadata": {},
       "output_type": "pyout",
       "prompt_number": 52,
       "text": [
        "6698"
       ]
      }
     ],
     "prompt_number": 52
    },
    {
     "cell_type": "code",
     "collapsed": false,
     "input": [
      "fairyStems.common_contexts(['witch'])"
     ],
     "language": "python",
     "metadata": {},
     "outputs": [
      {
       "output_type": "stream",
       "stream": "stdout",
       "text": [
        "awok_said ungodli_burn day_red wick_waylaid howev_wit old_dead\n",
        "old_came old_took went_hous said_see old_made habit_enchant\n",
        "rumpelstiltskin_told old_call fraud_daughter told_told\n"
       ]
      }
     ],
     "prompt_number": 53
    },
    {
     "cell_type": "code",
     "collapsed": false,
     "input": [
      "fairyCol.common_contexts(['witch'])"
     ],
     "language": "python",
     "metadata": {},
     "outputs": [
      {
       "output_type": "stream",
       "stream": "stdout",
       "text": [
        "awoke_said old_called wicked_waylaid old_dead went_house old_came\n",
        "old_took ungodly_burn said_see however_witnessed old_made\n",
        "rumpelstiltskin_told fraud_daughter told_told\n"
       ]
      }
     ],
     "prompt_number": 54
    },
    {
     "cell_type": "code",
     "collapsed": false,
     "input": [
      "fairyStems.similar('witch')"
     ],
     "language": "python",
     "metadata": {},
     "outputs": [
      {
       "output_type": "stream",
       "stream": "stdout",
       "text": [
        "woman man said old hous peasant-woman ladi eldest chivalri poet hansel\n",
        "hen emperor\n"
       ]
      }
     ],
     "prompt_number": 55
    },
    {
     "cell_type": "markdown",
     "metadata": {},
     "source": [
      "##Stemming can be useful for search engines... Concordances should retain original formats.\n",
      "\n",
      "This code example is from the NLTK book, http://www.nltk.org/book/ch03.html, ex 3.6  This is a search method that saves original context, but allows indexing into it by stemmed words.\n",
      "\n",
      "*Also requires downloading from nltk.download() if you want to run it.*"
     ]
    },
    {
     "cell_type": "code",
     "collapsed": false,
     "input": [
      "nltk.download()"
     ],
     "language": "python",
     "metadata": {},
     "outputs": [
      {
       "output_type": "stream",
       "stream": "stdout",
       "text": [
        "showing info http://nltk.github.com/nltk_data/\n"
       ]
      },
      {
       "metadata": {},
       "output_type": "pyout",
       "prompt_number": 56,
       "text": [
        "True"
       ]
      }
     ],
     "prompt_number": 56
    },
    {
     "cell_type": "code",
     "collapsed": false,
     "input": [
      "porter = nltk.PorterStemmer()\n",
      "grail = nltk.corpus.webtext.words('grail.txt')"
     ],
     "language": "python",
     "metadata": {},
     "outputs": [],
     "prompt_number": 57
    },
    {
     "cell_type": "code",
     "collapsed": false,
     "input": [
      "class IndexedText(object):\n",
      "\n",
      "    def __init__(self, stemmer, text):\n",
      "        self._text = text\n",
      "        self._stemmer = stemmer\n",
      "        self._index = nltk.Index((self._stem(word), i)\n",
      "                                 for (i, word) in enumerate(text))\n",
      "\n",
      "    def concordance(self, word, width=40):\n",
      "        key = self._stem(word)\n",
      "        wc = int(width/4)                # words of context\n",
      "        for i in self._index[key]:\n",
      "            lcontext = ' '.join(self._text[i-wc:i])\n",
      "            rcontext = ' '.join(self._text[i:i+wc])\n",
      "            ldisplay = '{:>{width}}'.format(lcontext[-width:], width=width)  # right justify\n",
      "            rdisplay = '{:{width}}'.format(rcontext[:width], width=width)  # left justify\n",
      "            print(ldisplay, rdisplay)\n",
      "\n",
      "    def _stem(self, word):\n",
      "        return self._stemmer.stem(word).lower()"
     ],
     "language": "python",
     "metadata": {},
     "outputs": [],
     "prompt_number": 58
    },
    {
     "cell_type": "code",
     "collapsed": false,
     "input": [
      "text = IndexedText(porter, grail)\n",
      "text.concordance('lie')"
     ],
     "language": "python",
     "metadata": {},
     "outputs": [
      {
       "output_type": "stream",
       "stream": "stdout",
       "text": [
        "('r king ! DENNIS : Listen , strange women', 'lying in ponds distributing swords is no')\n",
        "(' beat a very brave retreat . ROBIN : All', 'lies ! MINSTREL : [ singing ] Bravest of')\n",
        "('       Nay . Nay . Come . Come . You may', 'lie here . Oh , but you are wounded !   ')\n",
        "('doctors immediately ! No , no , please !', 'Lie down . [ clap clap ] PIGLET : Well  ')\n",
        "('ere is much danger , for beyond the cave', 'lies the Gorge of Eternal Peril , which ')\n",
        "('   you . Oh ... TIM : To the north there', 'lies a cave -- the cave of Caerbannog --')\n",
        "('h it and lived ! Bones of full fifty men', 'lie strewn about its lair . So , brave k')\n",
        "(\"not stop our fight ' til each one of you\", 'lies dead , and the Holy Grail returns t')\n"
       ]
      }
     ],
     "prompt_number": 59
    },
    {
     "cell_type": "code",
     "collapsed": false,
     "input": [
      "text.concordance('say')"
     ],
     "language": "python",
     "metadata": {},
     "outputs": [
      {
       "output_type": "stream",
       "stream": "stdout",
       "text": [
        "(\"       dead ! CART - MASTER : ' Ere . He\", \"says he ' s not dead ! CUSTOMER : Yes   \")\n",
        "(\"  you ' Man '. DENNIS : Well , you could\", \"say ' Dennis '. ARTHUR : Well , I didn  \")\n",
        "('     find out , did you ? ARTHUR : I did', \"say ' sorry ' about the ' old woman ',  \")\n",
        "(\"     DENNIS : I mean , if I went ' round\", 'saying I was an emperor just because som')\n",
        "('  you see ? ARTHUR : What ? GALAHAD : He', \"says they ' ve already got one ! ARTHUR \")\n",
        "('u ? HEAD KNIGHT : We are the Knights Who', \"Say ... ' Ni '! RANDOM : Ni ! ARTHUR    \")\n",
        "('  Ni ! ARTHUR : No ! Not the Knights Who', \"Say ' Ni '! HEAD KNIGHT : The same !    \")\n",
        "('the tale ! HEAD KNIGHT : The Knights Who', \"Say ' Ni ' demand a sacrifice ! ARTHUR :\")\n",
        "('     ! Ow ! Agh ! HEAD KNIGHT : We shall', \"say ' ni ' again to you if you do       \")\n",
        "(' Who sent you ? ARTHUR : The Knights Who', \"Say ' Ni '. CRONE : Aggh ! No !         \")\n",
        "('n buy a shrubbery , my friend and I will', \"say ... we will say ... ' ni '. CRONE   \")\n",
        "('  , my friend and I will say ... we will', \"say ... ' ni '. CRONE : Agh ! Do        \")\n",
        "('VERE : Ni ! ROGER THE SHRUBBER : Are you', \"saying ' ni ' to that old woman ? ARTHUR\")\n",
        "('his period in history . ARTHUR : Did you', \"say ' shrubberies '? ROGER : Yes . Shrub\")\n",
        "('We are now ... no longer the Knights Who', \"Say ' Ni '. KNIGHTS OF NI : Ni !        \")\n",
        "('NIGHT : Shh ! We are now the Knights Who', \"Say ' Ecky - ecky - ecky - ecky -       \")\n",
        "(\"      HEAD KNIGHT : Augh ! Ohh ! Don ' t\", 'say that word . ARTHUR : What word ? HEA')\n",
        "('HEAD KNIGHT : I cannot tell , suffice to', 'say is one of the words the Knights of N')\n",
        "('Ni cannot hear . ARTHUR : How can we not', \"say the word if you don ' t tell us     \")\n",
        "(\" You wouldn ' t get vary far in life not\", \"saying ' is '. KNIGHTS OF NI : No ,     \")\n",
        "(': Aaaaugh ! HEAD KNIGHT : Aaaaugh ! Stop', 'saying the word ! The word ... ARTHUR : ')\n",
        "('ila raised the hand grenade up on high ,', \"saying ,' O Lord , bless this thy hand g\")\n",
        "(' . SECOND BROTHER : And the Lord spake ,', \"saying , ' First shalt thou take out the\")\n",
        "(' There ! Look ! LAUNCELOT : What does it', 'say ? GALAHAD : What language is that ? ')\n",
        "(\"CELOT : ' Course ! ARTHUR : What does it\", \"say ? MAYNARD : It reads , ' Here may   \")\n",
        "(\"     ! MAYNARD : Well , that ' s what it\", 'says . ARTHUR : Look , if he was dying  ')\n",
        "(\"bother to carve ' aaggggh '. He ' d just\", \"say it ! MAYNARD : Well , that ' s      \")\n",
        "('         : Oh , shut up . Well , does it', 'say anything else ? MAYNARD : No . Just ')\n",
        "('ided us ! FRENCH GUARD : How you English', \"say , ' I one more time , mac ,         \")\n"
       ]
      }
     ],
     "prompt_number": 60
    },
    {
     "cell_type": "markdown",
     "metadata": {},
     "source": [
      "#### Wrapping up: Some of these tricks are used in today's search engines.  You know now about some of the methods used in ElasticSearch analyzers, for instance."
     ]
    },
    {
     "cell_type": "markdown",
     "metadata": {},
     "source": [
      "#### For a few more concordance links:\n",
      "* A Wallace Steven's poetry concordance: http://www.wallacestevens.com/concordance/WSdb.cgi\n",
      "* A Shakespearean concordance: http://www.opensourceshakespeare.org/concordance/\n",
      "* Software http://neon.niederlandistik.fu-berlin.de/en/textstat/\n",
      "* More deluxe software: http://www.concordancesoftware.co.uk/screenshots.htm"
     ]
    },
    {
     "cell_type": "markdown",
     "metadata": {},
     "source": [
      "##Javascript:\n",
      "\n",
      "Take a detour now to RiTa.js (https://github.com/dhowe/RiTaJS and http://rednoise.org/rita/) for related functionality in Javascript!  And my own little toy project using it and POS: http://www.ghostweather.com/files/image_replacement/"
     ]
    },
    {
     "cell_type": "code",
     "collapsed": false,
     "input": [],
     "language": "python",
     "metadata": {},
     "outputs": [],
     "prompt_number": 60
    }
   ],
   "metadata": {}
  }
 ]
}