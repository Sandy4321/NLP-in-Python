{
 "metadata": {
  "name": "",
  "signature": "sha256:072dea93526fdfd29ff0e85c84b1fb0399b6f1fef15e5c4eedf030b0b34a4cb7"
 },
 "nbformat": 3,
 "nbformat_minor": 0,
 "worksheets": [
  {
   "cells": [
    {
     "cell_type": "markdown",
     "metadata": {},
     "source": [
      "### Some Important Overview Stuff"
     ]
    },
    {
     "cell_type": "markdown",
     "metadata": {},
     "source": [
      "#Python libraries for NLP:\n",
      "\n",
      "* NLTK \n",
      " * NLTK is used in conjunction with sklearn for low-level token/parsing operations including POS, tokenization, spelling correction, etc. (The point where it breaks down is tf-idf, which is weirdly laborious. Switch over to pattern or sklearn.)\n",
      "  * http://www.nltk.org/\n",
      "  * Cheatsheet: https://blogs.princeton.edu/etc/files/2014/03/Text-Analysis-with-NLTK-Cheatsheet.pdf\n",
      "* Pattern.py \n",
      " * A lib that evolved rather independently in NL, has nicer api for some operations at low level and mid-level (like doc similarity and clustering), but may not be fast enough (built entirely in python, AFAIK)\n",
      "  * http://www.clips.ua.ac.be/pattern - for nlp, especially pattern.en and pattern.vector\n",
      "* maybe TextBlob\n",
      "  * Radim has used it; http://textblob.readthedocs.org/en/dev/\n",
      "  * Looks like it overlaps with NLTK and pattern a bit\n",
      "  \n",
      "### Advanced Python Toolkits (machine learning etc):\n",
      "* Sklearn (scikit-learn)\n",
      " * Standard in use for classification, but can be hard to examine features/etc. Good for volume/speed.\n",
      "  * http://scikit-learn.org/stable/ (excellent docs and tutorials/examples)\n",
      "* Gensim - 'topic modeling for humans'\n",
      " * Some cutting edge stuff in here like word2vec. Good examples on dealing with large offline text, and some mechanisms for exchanging data with sklearn. \n",
      "  * https://radimrehurek.com/gensim/\n",
      "  * Radim's blog has a bunch of tutorial/examples: http://radimrehurek.com/blog/"
     ]
    },
    {
     "cell_type": "markdown",
     "metadata": {},
     "source": [
      "#Javascript Options\n",
      "\n",
      "* Node package \"natural\" (beware some weird stuff): https://github.com/NaturalNode/natural\n",
      "* RiTa.js (won't do TfIdf or any machine learning, will do poetry-related stuff): http://rednoise.org/rita/\n",
      "* Dan Shiffman's processing / node text tutorials (beware, toy examples and some bugs): http://shiffman.net/teaching/a2z/"
     ]
    },
    {
     "cell_type": "markdown",
     "metadata": {},
     "source": [
      "# R \n",
      "### There are tons, and digital humanities folks use R more than Python, currently\n",
      "\n",
      "* See a list here: http://cran.r-project.org/web/views/NaturalLanguageProcessing.html\n",
      "* especially LDAVis, tm (topic modeling) \n",
      "* Tutorial here on Stats Methods for Studing Literature: http://www.chlt.org/StatisticalMethods/\n",
      "* Book and code from Matthew Jockers - http://www.amazon.com/Analysis-Students-Literature-Quantitative-Humanities/dp/3319031635/ref=sr_1_1?ie=UTF8&qid=1423002960&sr=8-1&keywords=matthew+jockers"
     ]
    },
    {
     "cell_type": "markdown",
     "metadata": {},
     "source": [
      "# Java - ew\n",
      "\n",
      "* Stanford NLP (written in java) - python interfaces exist. http://nlp.stanford.edu/software/index.shtml\n",
      "* OpenNLP from Apache: https://opennlp.apache.org/"
     ]
    },
    {
     "cell_type": "markdown",
     "metadata": {},
     "source": [
      "--"
     ]
    },
    {
     "cell_type": "markdown",
     "metadata": {},
     "source": [
      "# Some Python Books\n",
      "\n",
      "* Python Text Processing with NLTK 2.0 Cookbook (Perkins)\n",
      "* Python 3 Text Processing With NLTK Cookbook (Perkins) - maybe slightly updated over NLTK 2.0 book\n",
      "* Building Machine Learning Systems with Python (Willi Richert & Luis Coelho, lots of text examples)\n",
      "* Scikit-learn Cookbook\n",
      "* Natural Languages Processing with Python (Bird, Klein etc. - first NLTK book, out of date a bit)\n",
      "* Some gensim tutorial stuff on iterating over large corpora: https://github.com/piskvorky/topic_modeling_tutorial"
     ]
    },
    {
     "cell_type": "code",
     "collapsed": false,
     "input": [],
     "language": "python",
     "metadata": {},
     "outputs": []
    }
   ],
   "metadata": {}
  }
 ]
}