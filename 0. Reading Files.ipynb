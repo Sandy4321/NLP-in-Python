{
 "metadata": {
  "name": "",
  "signature": "sha256:a4b0fb157779cdd186f1f4b86164589a33a7dcf599e456d46134e4cfc8e518b7"
 },
 "nbformat": 3,
 "nbformat_minor": 0,
 "worksheets": [
  {
   "cells": [
    {
     "cell_type": "markdown",
     "metadata": {},
     "source": [
      "#0. Reading In Data Files (from Gutenberg URLs)\n",
      "\n",
      "*Some code here is inspired or borrowed from http://nbviewer.ipython.org/github/sgsinclair/alta/blob/master/ipynb/GettingTexts.ipynb*"
     ]
    },
    {
     "cell_type": "code",
     "collapsed": false,
     "input": [
      "import urllib\n",
      "\n",
      "poeUrl = \"http://www.gutenberg.org/cache/epub/2147/pg2147.txt\"\n",
      "grimmsUrl = \"https://www.gutenberg.org/cache/epub/11027/pg11027.txt\"\n",
      "andersonsUrl = \"https://www.gutenberg.org/cache/epub/1597/pg1597.txt\"\n",
      "irishFairyUrl = \"https://www.gutenberg.org/cache/epub/32202/pg32202.txt\"\n",
      "eliotPoemsUrl = \"https://www.gutenberg.org/cache/epub/1567/pg1567.txt\"\n",
      "rosettiPoemsUrl = \"https://www.gutenberg.org/cache/epub/19188/pg19188.txt\"\n",
      "lovecraftUrl = \"https://www.gutenberg.org/cache/epub/31469/pg31469.txt\"\n",
      "mrjamesUrl = \"https://www.gutenberg.org/cache/epub/8486/pg8486.txt\"\n",
      "## add your own here - go to https://www.gutenberg.org/ and navigate to a .txt file page!"
     ],
     "language": "python",
     "metadata": {},
     "outputs": [],
     "prompt_number": 8
    },
    {
     "cell_type": "heading",
     "level": 3,
     "metadata": {},
     "source": [
      "Clean the headers and footers off it"
     ]
    },
    {
     "cell_type": "code",
     "collapsed": false,
     "input": [
      "ls -al data/books"
     ],
     "language": "python",
     "metadata": {},
     "outputs": [
      {
       "output_type": "stream",
       "stream": "stdout",
       "text": [
        "total 3760\r\n",
        "drwxr-xr-x  8 lynn  staff     272 Feb  3 18:28 \u001b[34m.\u001b[m\u001b[m/\r\n",
        "drwxr-xr-x  6 lynn  staff     204 Feb 10 15:05 \u001b[34m..\u001b[m\u001b[m/\r\n",
        "-rw-r--r--  1 lynn  staff  305130 Feb  2 18:13 anderson.txt\r\n",
        "-rw-r--r--  1 lynn  staff  270499 Feb  3 15:42 grimms.txt\r\n",
        "-rw-r--r--  1 lynn  staff  483731 Feb  2 18:07 irishfairy.txt\r\n",
        "-rw-r--r--  1 lynn  staff   65283 Feb  3 14:28 lovecraft.txt\r\n",
        "-rw-r--r--  1 lynn  staff  255457 Feb  3 18:28 mrjames.txt\r\n",
        "-rw-r--r--  1 lynn  staff  530313 Feb  2 18:07 poe.txt\r\n"
       ]
      }
     ],
     "prompt_number": 2
    },
    {
     "cell_type": "code",
     "collapsed": false,
     "input": [
      "# Make it easier to download books with this in one function:\n",
      "def downloadGut(urlstring, filename):\n",
      "    import urllib\n",
      "    req = urllib.urlopen(urlstring)\n",
      "    fileString = req.read().decode('utf-8', 'ignore')\n",
      "    with file(filename, 'w') as handle:\n",
      "        handle.write(fileString.encode('ascii','ignore'))\n",
      "    print 'Made file ', filename, ' -- now strip the boilerplate by hand or with utils/stripgutenberg.pl'"
     ],
     "language": "python",
     "metadata": {},
     "outputs": [],
     "prompt_number": 3
    },
    {
     "cell_type": "code",
     "collapsed": true,
     "input": [
      "filename = 'mrjames.txt'\n",
      "newfile = 'data/' + filename\n",
      "# download the book\n",
      "downloadGut(mrjamesUrl, filename)"
     ],
     "language": "python",
     "metadata": {},
     "outputs": [
      {
       "output_type": "stream",
       "stream": "stdout",
       "text": [
        "Made file  mrjames.txt  -- now strip the boilerplate by hand or with stripgutenberg.pl\n"
       ]
      }
     ],
     "prompt_number": 173
    },
    {
     "cell_type": "markdown",
     "metadata": {},
     "source": [
      "We can refer to the variables in the shell command with $'s:"
     ]
    },
    {
     "cell_type": "code",
     "collapsed": false,
     "input": [
      "!perl utils/stripgutenberg.pl < $filename > $newfile"
     ],
     "language": "python",
     "metadata": {},
     "outputs": [],
     "prompt_number": 174
    },
    {
     "cell_type": "heading",
     "level": 3,
     "metadata": {},
     "source": [
      "Downloading Corpora for NLTK"
     ]
    },
    {
     "cell_type": "code",
     "collapsed": false,
     "input": [
      "import nltk"
     ],
     "language": "python",
     "metadata": {},
     "outputs": [],
     "prompt_number": 28
    },
    {
     "cell_type": "code",
     "collapsed": false,
     "input": [
      "nltk.download() #- find the popup winow, go to the corpora tab"
     ],
     "language": "python",
     "metadata": {},
     "outputs": [
      {
       "output_type": "stream",
       "stream": "stdout",
       "text": [
        "showing info http://nltk.github.com/nltk_data/\n"
       ]
      },
      {
       "metadata": {},
       "output_type": "pyout",
       "prompt_number": 29,
       "text": [
        "True"
       ]
      }
     ],
     "prompt_number": 29
    },
    {
     "cell_type": "heading",
     "level": 3,
     "metadata": {},
     "source": [
      "Appendix:  Break Gutenberg Files into Chapters / Stories"
     ]
    },
    {
     "cell_type": "heading",
     "level": 4,
     "metadata": {},
     "source": [
      "Going to make separate files for the stories in Grimm's and Anderson's and put them in a new directory. Just copying from the TOC in Anderson first..."
     ]
    },
    {
     "cell_type": "code",
     "collapsed": false,
     "input": [
      "storiesString = \"\"\"\n",
      "     The Emperor's New Clothes\n",
      "     The Swineherd\n",
      "     The Real Princess\n",
      "     The Shoes of Fortune\n",
      "     The Fir Tree\n",
      "     The Snow Queen\n",
      "     The Leap-Frog\n",
      "     The Elderbush\n",
      "     The Bell\n",
      "     The Old House\n",
      "     The Happy Family\n",
      "     The Story of a Mother\n",
      "     The False Collar\n",
      "     The Shadow\n",
      "     The Little Match Girl\n",
      "     The Dream of Little Tuk\n",
      "     The Naughty Boy\n",
      "     The Red Shoes\n",
      "     \"\"\""
     ],
     "language": "python",
     "metadata": {},
     "outputs": [],
     "prompt_number": 73
    },
    {
     "cell_type": "code",
     "collapsed": false,
     "input": [
      "stories = storiesString.split('\\n')"
     ],
     "language": "python",
     "metadata": {},
     "outputs": [],
     "prompt_number": 74
    },
    {
     "cell_type": "code",
     "collapsed": false,
     "input": [
      "stories"
     ],
     "language": "python",
     "metadata": {},
     "outputs": [
      {
       "metadata": {},
       "output_type": "pyout",
       "prompt_number": 75,
       "text": [
        "['',\n",
        " \"     The Emperor's New Clothes\",\n",
        " '     The Swineherd',\n",
        " '     The Real Princess',\n",
        " '     The Shoes of Fortune',\n",
        " '     The Fir Tree',\n",
        " '     The Snow Queen',\n",
        " '     The Leap-Frog',\n",
        " '     The Elderbush',\n",
        " '     The Bell',\n",
        " '     The Old House',\n",
        " '     The Happy Family',\n",
        " '     The Story of a Mother',\n",
        " '     The False Collar',\n",
        " '     The Shadow',\n",
        " '     The Little Match Girl',\n",
        " '     The Dream of Little Tuk',\n",
        " '     The Naughty Boy',\n",
        " '     The Red Shoes',\n",
        " '     ']"
       ]
      }
     ],
     "prompt_number": 75
    },
    {
     "cell_type": "code",
     "collapsed": false,
     "input": [
      "# want to match the strings in the body of the file, to search for story boundaries... \n",
      "# Beware, in Grimm's the TOC didn't match the in-file strings exactly :(\n",
      "\n",
      "stories = [story.strip().upper() for story in stories if story.strip()]"
     ],
     "language": "python",
     "metadata": {},
     "outputs": [],
     "prompt_number": 167
    },
    {
     "cell_type": "code",
     "collapsed": false,
     "input": [
      "stories"
     ],
     "language": "python",
     "metadata": {},
     "outputs": [
      {
       "metadata": {},
       "output_type": "pyout",
       "prompt_number": 84,
       "text": [
        "[\"THE EMPEROR'S NEW CLOTHES\",\n",
        " 'THE SWINEHERD',\n",
        " 'THE REAL PRINCESS',\n",
        " 'THE SHOES OF FORTUNE',\n",
        " 'THE FIR TREE',\n",
        " 'THE SNOW QUEEN',\n",
        " 'THE LEAP-FROG',\n",
        " 'THE ELDERBUSH',\n",
        " 'THE BELL',\n",
        " 'THE OLD HOUSE',\n",
        " 'THE HAPPY FAMILY',\n",
        " 'THE STORY OF A MOTHER',\n",
        " 'THE FALSE COLLAR',\n",
        " 'THE SHADOW',\n",
        " 'THE LITTLE MATCH GIRL',\n",
        " 'THE DREAM OF LITTLE TUK',\n",
        " 'THE NAUGHTY BOY',\n",
        " 'THE RED SHOES']"
       ]
      }
     ],
     "prompt_number": 84
    },
    {
     "cell_type": "code",
     "collapsed": false,
     "input": [
      "def pairwise(iterable):\n",
      "    \"\"\" Borrowed from Itertools's excellent page of examples:\n",
      "        A utility to make pairs from the story list - (story1, story2), (story2, story3)... \n",
      "    \"\"\"\n",
      "    import itertools\n",
      "    \"s -> (s0,s1), (s1,s2), (s2, s3), ...\"\n",
      "    a, b = itertools.tee(iterable)\n",
      "    next(b, None)\n",
      "    return itertools.izip(a, b)"
     ],
     "language": "python",
     "metadata": {},
     "outputs": [],
     "prompt_number": 3
    },
    {
     "cell_type": "code",
     "collapsed": false,
     "input": [
      "storypairs = list(pairwise(stories))   # it returns a generator, so you have to make it a list"
     ],
     "language": "python",
     "metadata": {},
     "outputs": [],
     "prompt_number": 170
    },
    {
     "cell_type": "code",
     "collapsed": false,
     "input": [
      "storypairs.append(('THE RED SHOES', ''))  # add a special last story pair"
     ],
     "language": "python",
     "metadata": {},
     "outputs": [],
     "prompt_number": 168
    },
    {
     "cell_type": "code",
     "collapsed": false,
     "input": [
      "storypairs"
     ],
     "language": "python",
     "metadata": {},
     "outputs": [
      {
       "metadata": {},
       "output_type": "pyout",
       "prompt_number": 143,
       "text": [
        "[(\"THE EMPEROR'S NEW CLOTHES\", 'THE SWINEHERD'),\n",
        " ('THE SWINEHERD', 'THE REAL PRINCESS'),\n",
        " ('THE REAL PRINCESS', 'THE SHOES OF FORTUNE'),\n",
        " ('THE SHOES OF FORTUNE', 'THE FIR TREE'),\n",
        " ('THE FIR TREE', 'THE SNOW QUEEN'),\n",
        " ('THE SNOW QUEEN', 'THE LEAP-FROG'),\n",
        " ('THE LEAP-FROG', 'THE ELDERBUSH'),\n",
        " ('THE ELDERBUSH', 'THE BELL'),\n",
        " ('THE BELL', 'THE OLD HOUSE'),\n",
        " ('THE OLD HOUSE', 'THE HAPPY FAMILY'),\n",
        " ('THE HAPPY FAMILY', 'THE STORY OF A MOTHER'),\n",
        " ('THE STORY OF A MOTHER', 'THE FALSE COLLAR'),\n",
        " ('THE FALSE COLLAR', 'THE SHADOW'),\n",
        " ('THE SHADOW', 'THE LITTLE MATCH GIRL'),\n",
        " ('THE LITTLE MATCH GIRL', 'THE DREAM OF LITTLE TUK'),\n",
        " ('THE DREAM OF LITTLE TUK', 'THE NAUGHTY BOY'),\n",
        " ('THE NAUGHTY BOY', 'THE RED SHOES'),\n",
        " ('THE RED SHOES', '')]"
       ]
      }
     ],
     "prompt_number": 143
    },
    {
     "cell_type": "code",
     "collapsed": false,
     "input": [
      "def get_story(storypair, text):\n",
      "    print storypair[0], \",\", storypair[1]\n",
      "    start = text.find(storypair[0])\n",
      "    if storypair[1] != '':  # last pair for last story\n",
      "        end = text.find(storypair[1])\n",
      "        print start, end\n",
      "        storyString = text[start:end]\n",
      "    else:\n",
      "        storyString = text[start:]  # special case for last file\n",
      "    return storyString"
     ],
     "language": "python",
     "metadata": {},
     "outputs": [],
     "prompt_number": 165
    },
    {
     "cell_type": "code",
     "collapsed": false,
     "input": [
      "with file('data/anderson.txt') as handle:\n",
      "    anderson = handle.read()"
     ],
     "language": "python",
     "metadata": {},
     "outputs": [],
     "prompt_number": 115
    },
    {
     "cell_type": "code",
     "collapsed": false,
     "input": [
      "len(anderson)"
     ],
     "language": "python",
     "metadata": {},
     "outputs": [
      {
       "metadata": {},
       "output_type": "pyout",
       "prompt_number": 144,
       "text": [
        "305130"
       ]
      }
     ],
     "prompt_number": 144
    },
    {
     "cell_type": "code",
     "collapsed": false,
     "input": [
      "# Illustration of it working:\n",
      "get_story(storypairs[0], anderson)"
     ],
     "language": "python",
     "metadata": {},
     "outputs": []
    },
    {
     "cell_type": "markdown",
     "metadata": {},
     "source": [
      "** Make sure you have a directory data/stories..**"
     ]
    },
    {
     "cell_type": "code",
     "collapsed": false,
     "input": [
      "for storypair in storypairs:\n",
      "    string = get_story(storypair, anderson)\n",
      "    with file('data/stories/A_' + storypair[0] + '.txt', 'w') as handle:\n",
      "        handle.write(string)"
     ],
     "language": "python",
     "metadata": {},
     "outputs": [
      {
       "output_type": "stream",
       "stream": "stdout",
       "text": [
        "THE EMPEROR'S NEW CLOTHES , THE SWINEHERD\n",
        "505 11181\n",
        "THE SWINEHERD , THE REAL PRINCESS\n",
        "11181 19569\n",
        "THE REAL PRINCESS , THE SHOES OF FORTUNE\n",
        "19569 21820\n",
        "THE SHOES OF FORTUNE , THE FIR TREE\n",
        "21820 93861\n",
        "THE FIR TREE , THE SNOW QUEEN\n",
        "93861 111425\n",
        "THE SNOW QUEEN , THE LEAP-FROG\n",
        "111425 176347\n",
        "THE LEAP-FROG , THE ELDERBUSH\n",
        "176347 180064\n",
        "THE ELDERBUSH , THE BELL\n",
        "180064 196453\n",
        "THE BELL , THE OLD HOUSE\n",
        "196453 207381\n",
        "THE OLD HOUSE , THE HAPPY FAMILY\n",
        "207381 223621\n",
        "THE HAPPY FAMILY , THE STORY OF A MOTHER\n",
        "223621 230679\n",
        "THE STORY OF A MOTHER , THE FALSE COLLAR\n",
        "230679 241097\n",
        "THE FALSE COLLAR , THE SHADOW\n",
        "241097 245834\n",
        "THE SHADOW , THE LITTLE MATCH GIRL\n",
        "245834 272667\n",
        "THE LITTLE MATCH GIRL , THE DREAM OF LITTLE TUK\n",
        "272667 278273\n",
        "THE DREAM OF LITTLE TUK , THE NAUGHTY BOY\n",
        "278273 288643\n",
        "THE NAUGHTY BOY , THE RED SHOES\n",
        "288643 293064\n",
        "THE RED SHOES , \n"
       ]
      }
     ],
     "prompt_number": 145
    },
    {
     "cell_type": "code",
     "collapsed": false,
     "input": [
      "ls -al data/stories"
     ],
     "language": "python",
     "metadata": {},
     "outputs": [
      {
       "output_type": "stream",
       "stream": "stdout",
       "text": [
        "total 1296\r\n",
        "drwxr-xr-x  46 lynn  staff   1564 Feb  3 15:44 \u001b[34m.\u001b[m\u001b[m/\r\n",
        "drwxr-xr-x   6 lynn  staff    204 Feb 10 15:05 \u001b[34m..\u001b[m\u001b[m/\r\n",
        "-rw-r--r--@  1 lynn  staff   6148 Feb  3 15:44 .DS_Store\r\n",
        "-rw-r--r--   1 lynn  staff  10928 Feb  3 15:34 A_THE BELL.txt\r\n",
        "-rw-r--r--   1 lynn  staff  10370 Feb  3 15:34 A_THE DREAM OF LITTLE TUK.txt\r\n",
        "-rw-r--r--   1 lynn  staff  16389 Feb  3 15:34 A_THE ELDERBUSH.txt\r\n",
        "-rw-r--r--   1 lynn  staff  10676 Feb  3 15:34 A_THE EMPEROR'S NEW CLOTHES.txt\r\n",
        "-rw-r--r--   1 lynn  staff   4737 Feb  3 15:34 A_THE FALSE COLLAR.txt\r\n",
        "-rw-r--r--   1 lynn  staff  17564 Feb  3 15:34 A_THE FIR TREE.txt\r\n",
        "-rw-r--r--   1 lynn  staff   7058 Feb  3 15:34 A_THE HAPPY FAMILY.txt\r\n",
        "-rw-r--r--   1 lynn  staff   3717 Feb  3 15:34 A_THE LEAP-FROG.txt\r\n",
        "-rw-r--r--   1 lynn  staff   5606 Feb  3 15:34 A_THE LITTLE MATCH GIRL.txt\r\n",
        "-rw-r--r--   1 lynn  staff   4421 Feb  3 15:34 A_THE NAUGHTY BOY.txt\r\n",
        "-rw-r--r--   1 lynn  staff  16240 Feb  3 15:34 A_THE OLD HOUSE.txt\r\n",
        "-rw-r--r--   1 lynn  staff   2251 Feb  3 15:34 A_THE REAL PRINCESS.txt\r\n",
        "-rw-r--r--   1 lynn  staff  12066 Feb  3 15:34 A_THE RED SHOES.txt\r\n",
        "-rw-r--r--   1 lynn  staff  26833 Feb  3 15:34 A_THE SHADOW.txt\r\n",
        "-rw-r--r--   1 lynn  staff  72041 Feb  3 15:34 A_THE SHOES OF FORTUNE.txt\r\n",
        "-rw-r--r--   1 lynn  staff  64922 Feb  3 15:34 A_THE SNOW QUEEN.txt\r\n",
        "-rw-r--r--   1 lynn  staff  10418 Feb  3 15:34 A_THE STORY OF A MOTHER.txt\r\n",
        "-rw-r--r--   1 lynn  staff   8388 Feb  3 15:34 A_THE SWINEHERD.txt\r\n",
        "-rw-r--r--   1 lynn  staff  10562 Feb  3 15:44 G_BEARSKIN.txt\r\n",
        "-rw-r--r--   1 lynn  staff   6256 Feb  3 15:44 G_BRIAR ROSE.txt\r\n",
        "-rw-r--r--   1 lynn  staff  13518 Feb  3 15:44 G_CATHERINE AND FREDERICK.txt\r\n",
        "-rw-r--r--   1 lynn  staff  10311 Feb  3 15:44 G_CINDERELLA.txt\r\n",
        "-rw-r--r--   1 lynn  staff   7033 Feb  3 15:44 G_DUMMLING AND THE THREE FEATHERS.txt\r\n",
        "-rw-r--r--   1 lynn  staff  16374 Feb  3 15:44 G_FAITHFUL JOHN.txt\r\n",
        "-rw-r--r--   1 lynn  staff  14884 Feb  3 15:44 G_HANSEL AND GRETHEL.txt\r\n",
        "-rw-r--r--   1 lynn  staff  13352 Feb  3 15:44 G_LITTLE ONE-EYE, TWO-EYES AND THREE-EYES.txt\r\n",
        "-rw-r--r--   1 lynn  staff   5979 Feb  3 15:44 G_LITTLE RED-CAP.txt\r\n",
        "-rw-r--r--   1 lynn  staff  12046 Feb  3 15:44 G_LITTLE SNOW-WHITE.txt\r\n",
        "-rw-r--r--   1 lynn  staff   6096 Feb  3 15:44 G_MOTHER HOLLE.txt\r\n",
        "-rw-r--r--   1 lynn  staff  19068 Feb  3 15:44 G_OH, IF I COULD BUT SHIVER!.txt\r\n",
        "-rw-r--r--   1 lynn  staff   7525 Feb  3 15:44 G_RAPUNZEL.txt\r\n",
        "-rw-r--r--   1 lynn  staff   5832 Feb  3 15:44 G_RUMPELSTILTSKIN.txt\r\n",
        "-rw-r--r--   1 lynn  staff  14512 Feb  3 15:44 G_SNOW-WHITE AND ROSE-RED.txt\r\n",
        "-rw-r--r--   1 lynn  staff   7368 Feb  3 15:44 G_THE FROG PRINCE.txt\r\n",
        "-rw-r--r--   1 lynn  staff   5718 Feb  3 15:44 G_THE GOLDEN GOOSE.txt\r\n",
        "-rw-r--r--   1 lynn  staff  11087 Feb  3 15:44 G_THE GOOSE-GIRL.txt\r\n",
        "-rw-r--r--   1 lynn  staff  11428 Feb  3 15:44 G_THE LITTLE BROTHER AND SISTER.txt\r\n",
        "-rw-r--r--   1 lynn  staff  10057 Feb  3 15:44 G_THE SIX SWANS.txt\r\n",
        "-rw-r--r--   1 lynn  staff  10601 Feb  3 15:44 G_THE THREE LITTLE MEN IN THE WOOD.txt\r\n",
        "-rw-r--r--   1 lynn  staff   9541 Feb  3 15:44 G_THE TRAVELS OF TOM THUMB.txt\r\n",
        "-rw-r--r--   1 lynn  staff  17354 Feb  3 15:44 G_THE VALIANT LITTLE TAILOR.txt\r\n",
        "-rw-r--r--   1 lynn  staff  12331 Feb  3 15:44 G_THE WATER OF LIFE.txt\r\n",
        "-rw-r--r--   1 lynn  staff  11533 Feb  3 15:44 G_THUMBLING.txt\r\n"
       ]
      }
     ],
     "prompt_number": 4
    },
    {
     "cell_type": "code",
     "collapsed": false,
     "input": [
      "stories2 = \"\"\"\n",
      "THE GOOSE-GIRL\n",
      "\n",
      "THE LITTLE BROTHER AND SISTER\n",
      "\n",
      "HANSEL AND GRETHEL\n",
      "\n",
      "OH, IF I COULD BUT SHIVER!\n",
      "\n",
      "DUMMLING AND THE THREE FEATHERS\n",
      "\n",
      "LITTLE SNOW-WHITE\n",
      "\n",
      "CATHERINE AND FREDERICK\n",
      "\n",
      "THE VALIANT LITTLE TAILOR\n",
      "\n",
      "LITTLE RED-CAP\n",
      "\n",
      "THE GOLDEN GOOSE\n",
      "\n",
      "BEARSKIN\n",
      "\n",
      "CINDERELLA\n",
      "\n",
      "FAITHFUL JOHN\n",
      "\n",
      "THE WATER OF LIFE\n",
      "\n",
      "THUMBLING\n",
      "\n",
      "BRIAR ROSE\n",
      "\n",
      "THE SIX SWANS\n",
      "\n",
      "RAPUNZEL\n",
      "\n",
      "MOTHER HOLLE\n",
      "\n",
      "THE FROG PRINCE\n",
      "\n",
      "THE TRAVELS OF TOM THUMB\n",
      "\n",
      "SNOW-WHITE AND ROSE-RED\n",
      "\n",
      "THE THREE LITTLE MEN IN THE WOOD\n",
      "\n",
      "RUMPELSTILTSKIN\n",
      "\n",
      "LITTLE ONE-EYE, TWO-EYES AND THREE-EYES\"\"\""
     ],
     "language": "python",
     "metadata": {},
     "outputs": [],
     "prompt_number": 133
    },
    {
     "cell_type": "code",
     "collapsed": false,
     "input": [
      "stories2 = stories2.split('\\n')"
     ],
     "language": "python",
     "metadata": {},
     "outputs": [],
     "prompt_number": 134
    },
    {
     "cell_type": "code",
     "collapsed": false,
     "input": [
      "stories2 = [story.strip() for story in stories2 if story]"
     ],
     "language": "python",
     "metadata": {},
     "outputs": [],
     "prompt_number": 135
    },
    {
     "cell_type": "code",
     "collapsed": false,
     "input": [
      "stories2"
     ],
     "language": "python",
     "metadata": {},
     "outputs": [
      {
       "metadata": {},
       "output_type": "pyout",
       "prompt_number": 136,
       "text": [
        "['THE GOOSE-GIRL',\n",
        " 'THE LITTLE BROTHER AND SISTER',\n",
        " 'HANSEL AND GRETHEL',\n",
        " 'OH, IF I COULD BUT SHIVER!',\n",
        " 'DUMMLING AND THE THREE FEATHERS',\n",
        " 'LITTLE SNOW-WHITE',\n",
        " 'CATHERINE AND FREDERICK',\n",
        " 'THE VALIANT LITTLE TAILOR',\n",
        " 'LITTLE RED-CAP',\n",
        " 'THE GOLDEN GOOSE',\n",
        " 'BEARSKIN',\n",
        " 'CINDERELLA',\n",
        " 'FAITHFUL JOHN',\n",
        " 'THE WATER OF LIFE',\n",
        " 'THUMBLING',\n",
        " 'BRIAR ROSE',\n",
        " 'THE SIX SWANS',\n",
        " 'RAPUNZEL',\n",
        " 'MOTHER HOLLE',\n",
        " 'THE FROG PRINCE',\n",
        " 'THE TRAVELS OF TOM THUMB',\n",
        " 'SNOW-WHITE AND ROSE-RED',\n",
        " 'THE THREE LITTLE MEN IN THE WOOD',\n",
        " 'RUMPELSTILTSKIN',\n",
        " 'LITTLE ONE-EYE, TWO-EYES AND THREE-EYES']"
       ]
      }
     ],
     "prompt_number": 136
    },
    {
     "cell_type": "code",
     "collapsed": false,
     "input": [
      "storypairs2 = list(pairwise(stories2))"
     ],
     "language": "python",
     "metadata": {},
     "outputs": [],
     "prompt_number": 137
    },
    {
     "cell_type": "code",
     "collapsed": false,
     "input": [
      "storypairs2"
     ],
     "language": "python",
     "metadata": {},
     "outputs": [
      {
       "metadata": {},
       "output_type": "pyout",
       "prompt_number": 158,
       "text": [
        "[('THE GOOSE-GIRL', 'THE LITTLE BROTHER AND SISTER'),\n",
        " ('THE LITTLE BROTHER AND SISTER', 'HANSEL AND GRETHEL'),\n",
        " ('HANSEL AND GRETHEL', 'OH, IF I COULD BUT SHIVER!'),\n",
        " ('OH, IF I COULD BUT SHIVER!', 'DUMMLING AND THE THREE FEATHERS'),\n",
        " ('DUMMLING AND THE THREE FEATHERS', 'LITTLE SNOW-WHITE'),\n",
        " ('LITTLE SNOW-WHITE', 'CATHERINE AND FREDERICK'),\n",
        " ('CATHERINE AND FREDERICK', 'THE VALIANT LITTLE TAILOR'),\n",
        " ('THE VALIANT LITTLE TAILOR', 'LITTLE RED-CAP'),\n",
        " ('LITTLE RED-CAP', 'THE GOLDEN GOOSE'),\n",
        " ('THE GOLDEN GOOSE', 'BEARSKIN'),\n",
        " ('BEARSKIN', 'CINDERELLA'),\n",
        " ('CINDERELLA', 'FAITHFUL JOHN'),\n",
        " ('FAITHFUL JOHN', 'THE WATER OF LIFE'),\n",
        " ('THE WATER OF LIFE', 'THUMBLING'),\n",
        " ('THUMBLING', 'BRIAR ROSE'),\n",
        " ('BRIAR ROSE', 'THE SIX SWANS'),\n",
        " ('THE SIX SWANS', 'RAPUNZEL'),\n",
        " ('RAPUNZEL', 'MOTHER HOLLE'),\n",
        " ('MOTHER HOLLE', 'THE FROG PRINCE'),\n",
        " ('THE FROG PRINCE', 'THE TRAVELS OF TOM THUMB'),\n",
        " ('THE TRAVELS OF TOM THUMB', 'SNOW-WHITE AND ROSE-RED'),\n",
        " ('SNOW-WHITE AND ROSE-RED', 'THE THREE LITTLE MEN IN THE WOOD'),\n",
        " ('THE THREE LITTLE MEN IN THE WOOD', 'RUMPELSTILTSKIN'),\n",
        " ('RUMPELSTILTSKIN', 'LITTLE ONE-EYE, TWO-EYES AND THREE-EYES'),\n",
        " ('LITTLE ONE-EYE, TWO-EYES AND THREE-EYES', '')]"
       ]
      }
     ],
     "prompt_number": 158
    },
    {
     "cell_type": "code",
     "collapsed": false,
     "input": [
      "storypairs2.append(('LITTLE ONE-EYE, TWO-EYES AND THREE-EYES', ''))"
     ],
     "language": "python",
     "metadata": {},
     "outputs": [],
     "prompt_number": 140
    },
    {
     "cell_type": "code",
     "collapsed": false,
     "input": [
      "with file('data/books/grimms.txt') as handle:\n",
      "    grimm = handle.read()"
     ],
     "language": "python",
     "metadata": {},
     "outputs": [],
     "prompt_number": 5
    },
    {
     "cell_type": "code",
     "collapsed": false,
     "input": [
      "len(grimm)"
     ],
     "language": "python",
     "metadata": {},
     "outputs": [
      {
       "metadata": {},
       "output_type": "pyout",
       "prompt_number": 6,
       "text": [
        "270499"
       ]
      }
     ],
     "prompt_number": 6
    },
    {
     "cell_type": "markdown",
     "metadata": {},
     "source": [
      "Warning: For Grimm's, there was hand-editing needed.  I removed the TOC from the file after getting it for the story list, and made sure the hyphens from TOC were in the contents (they didn't match before). Then I re-read in the text file."
     ]
    },
    {
     "cell_type": "code",
     "collapsed": false,
     "input": [
      "for storypair in storypairs2:\n",
      "    string = get_story(storypair, grimm)\n",
      "    with file('data/stories/G_' + storypair[0] + '.txt', 'w') as handle:\n",
      "        handle.write(string)"
     ],
     "language": "python",
     "metadata": {},
     "outputs": []
    },
    {
     "cell_type": "code",
     "collapsed": false,
     "input": [
      "ls -al data-stories"
     ],
     "language": "python",
     "metadata": {},
     "outputs": [
      {
       "output_type": "stream",
       "stream": "stdout",
       "text": [
        "total 1296\r\n",
        "drwxr-xr-x  46 lynn  staff   1564 Feb  3 15:44 \u001b[34m.\u001b[m\u001b[m/\r\n",
        "drwxr-xr-x  18 lynn  staff    612 Feb  7 16:55 \u001b[34m..\u001b[m\u001b[m/\r\n",
        "-rw-r--r--@  1 lynn  staff   6148 Feb  3 15:44 .DS_Store\r\n",
        "-rw-r--r--   1 lynn  staff  10928 Feb  3 15:34 A_THE BELL.txt\r\n",
        "-rw-r--r--   1 lynn  staff  10370 Feb  3 15:34 A_THE DREAM OF LITTLE TUK.txt\r\n",
        "-rw-r--r--   1 lynn  staff  16389 Feb  3 15:34 A_THE ELDERBUSH.txt\r\n",
        "-rw-r--r--   1 lynn  staff  10676 Feb  3 15:34 A_THE EMPEROR'S NEW CLOTHES.txt\r\n",
        "-rw-r--r--   1 lynn  staff   4737 Feb  3 15:34 A_THE FALSE COLLAR.txt\r\n",
        "-rw-r--r--   1 lynn  staff  17564 Feb  3 15:34 A_THE FIR TREE.txt\r\n",
        "-rw-r--r--   1 lynn  staff   7058 Feb  3 15:34 A_THE HAPPY FAMILY.txt\r\n",
        "-rw-r--r--   1 lynn  staff   3717 Feb  3 15:34 A_THE LEAP-FROG.txt\r\n",
        "-rw-r--r--   1 lynn  staff   5606 Feb  3 15:34 A_THE LITTLE MATCH GIRL.txt\r\n",
        "-rw-r--r--   1 lynn  staff   4421 Feb  3 15:34 A_THE NAUGHTY BOY.txt\r\n",
        "-rw-r--r--   1 lynn  staff  16240 Feb  3 15:34 A_THE OLD HOUSE.txt\r\n",
        "-rw-r--r--   1 lynn  staff   2251 Feb  3 15:34 A_THE REAL PRINCESS.txt\r\n",
        "-rw-r--r--   1 lynn  staff  12066 Feb  3 15:34 A_THE RED SHOES.txt\r\n",
        "-rw-r--r--   1 lynn  staff  26833 Feb  3 15:34 A_THE SHADOW.txt\r\n",
        "-rw-r--r--   1 lynn  staff  72041 Feb  3 15:34 A_THE SHOES OF FORTUNE.txt\r\n",
        "-rw-r--r--   1 lynn  staff  64922 Feb  3 15:34 A_THE SNOW QUEEN.txt\r\n",
        "-rw-r--r--   1 lynn  staff  10418 Feb  3 15:34 A_THE STORY OF A MOTHER.txt\r\n",
        "-rw-r--r--   1 lynn  staff   8388 Feb  3 15:34 A_THE SWINEHERD.txt\r\n",
        "-rw-r--r--   1 lynn  staff  10562 Feb  3 15:44 G_BEARSKIN.txt\r\n",
        "-rw-r--r--   1 lynn  staff   6256 Feb  3 15:44 G_BRIAR ROSE.txt\r\n",
        "-rw-r--r--   1 lynn  staff  13518 Feb  3 15:44 G_CATHERINE AND FREDERICK.txt\r\n",
        "-rw-r--r--   1 lynn  staff  10311 Feb  3 15:44 G_CINDERELLA.txt\r\n",
        "-rw-r--r--   1 lynn  staff   7033 Feb  3 15:44 G_DUMMLING AND THE THREE FEATHERS.txt\r\n",
        "-rw-r--r--   1 lynn  staff  16374 Feb  3 15:44 G_FAITHFUL JOHN.txt\r\n",
        "-rw-r--r--   1 lynn  staff  14884 Feb  3 15:44 G_HANSEL AND GRETHEL.txt\r\n",
        "-rw-r--r--   1 lynn  staff  13352 Feb  3 15:44 G_LITTLE ONE-EYE, TWO-EYES AND THREE-EYES.txt\r\n",
        "-rw-r--r--   1 lynn  staff   5979 Feb  3 15:44 G_LITTLE RED-CAP.txt\r\n",
        "-rw-r--r--   1 lynn  staff  12046 Feb  3 15:44 G_LITTLE SNOW-WHITE.txt\r\n",
        "-rw-r--r--   1 lynn  staff   6096 Feb  3 15:44 G_MOTHER HOLLE.txt\r\n",
        "-rw-r--r--   1 lynn  staff  19068 Feb  3 15:44 G_OH, IF I COULD BUT SHIVER!.txt\r\n",
        "-rw-r--r--   1 lynn  staff   7525 Feb  3 15:44 G_RAPUNZEL.txt\r\n",
        "-rw-r--r--   1 lynn  staff   5832 Feb  3 15:44 G_RUMPELSTILTSKIN.txt\r\n",
        "-rw-r--r--   1 lynn  staff  14512 Feb  3 15:44 G_SNOW-WHITE AND ROSE-RED.txt\r\n",
        "-rw-r--r--   1 lynn  staff   7368 Feb  3 15:44 G_THE FROG PRINCE.txt\r\n",
        "-rw-r--r--   1 lynn  staff   5718 Feb  3 15:44 G_THE GOLDEN GOOSE.txt\r\n",
        "-rw-r--r--   1 lynn  staff  11087 Feb  3 15:44 G_THE GOOSE-GIRL.txt\r\n",
        "-rw-r--r--   1 lynn  staff  11428 Feb  3 15:44 G_THE LITTLE BROTHER AND SISTER.txt\r\n",
        "-rw-r--r--   1 lynn  staff  10057 Feb  3 15:44 G_THE SIX SWANS.txt\r\n",
        "-rw-r--r--   1 lynn  staff  10601 Feb  3 15:44 G_THE THREE LITTLE MEN IN THE WOOD.txt\r\n",
        "-rw-r--r--   1 lynn  staff   9541 Feb  3 15:44 G_THE TRAVELS OF TOM THUMB.txt\r\n",
        "-rw-r--r--   1 lynn  staff  17354 Feb  3 15:44 G_THE VALIANT LITTLE TAILOR.txt\r\n",
        "-rw-r--r--   1 lynn  staff  12331 Feb  3 15:44 G_THE WATER OF LIFE.txt\r\n",
        "-rw-r--r--   1 lynn  staff  11533 Feb  3 15:44 G_THUMBLING.txt\r\n"
       ]
      }
     ],
     "prompt_number": 5
    },
    {
     "cell_type": "code",
     "collapsed": false,
     "input": [],
     "language": "python",
     "metadata": {},
     "outputs": []
    }
   ],
   "metadata": {}
  }
 ]
}