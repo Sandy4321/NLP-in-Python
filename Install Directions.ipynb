{
 "metadata": {
  "name": "",
  "signature": "sha256:eca51dec4900f6e8b9cf1add1f1f37fbc3c0fd4d56770c8a5bf38ff11253f8ff"
 },
 "nbformat": 3,
 "nbformat_minor": 0,
 "worksheets": [
  {
   "cells": [
    {
     "cell_type": "markdown",
     "metadata": {},
     "source": [
      "For word clouds in python (see great doc/repo here): https://github.com/amueller/word_cloud\n",
      "    \n",
      ">pip install cython\n",
      "\n",
      ">pip install Image\n",
      "\n",
      ">pip install git+git://github.com/amueller/word_cloud.git\n",
      "    \n",
      "\n"
     ]
    },
    {
     "cell_type": "code",
     "collapsed": false,
     "input": [],
     "language": "python",
     "metadata": {},
     "outputs": []
    }
   ],
   "metadata": {}
  }
 ]
}