{
 "metadata": {
  "name": "",
  "signature": "sha256:7233118116e5b5783f21d78f6c5fc5d3d0bcffc12f1c1a4c3e4d76e4fc8909bc"
 },
 "nbformat": 3,
 "nbformat_minor": 0,
 "worksheets": [
  {
   "cells": [
    {
     "cell_type": "markdown",
     "metadata": {},
     "source": [
      "## This is a crash course demo intro to TF-IDF"
     ]
    },
    {
     "cell_type": "code",
     "collapsed": false,
     "input": [
      "%matplotlib inline"
     ],
     "language": "python",
     "metadata": {},
     "outputs": [],
     "prompt_number": 1
    },
    {
     "cell_type": "code",
     "collapsed": false,
     "input": [
      "import os\n",
      "import sys\n",
      "import re\n",
      "import itertools\n",
      "import nltk"
     ],
     "language": "python",
     "metadata": {},
     "outputs": [],
     "prompt_number": 2
    },
    {
     "cell_type": "heading",
     "level": 2,
     "metadata": {},
     "source": [
      "TF-IDF (Term Frequency, Inverse Document Frequency)"
     ]
    },
    {
     "cell_type": "markdown",
     "metadata": {},
     "source": [
      "Intuitively:  (Term frequency in a doc) * (1/freq of term in all docs))\n",
      "\n",
      "If a term is very frequenct in the doc set, it's less interesting overall.  Note this tends to remove stopwords for you! However, you need a lot of documents for this to work well. Beware of effects of tf-idf on small doc sets.\n",
      "\n",
      "Usually calculated with a log, so to avoid infinities in denominator, usually done with a +1 term. See http://en.wikipedia.org/wiki/Tf%E2%80%93idf\n"
     ]
    },
    {
     "cell_type": "code",
     "collapsed": false,
     "input": [
      "# code example from Building Machine Learning Systems with Python (Will Richter)\n",
      "import scipy as sp\n",
      "\n",
      "\n",
      "def tfidf(t, d, D):\n",
      "    tf = float(d.count(t)) / sum(d.count(w) for w in set(d))\n",
      "    idf = sp.log(float(len(D)) / (len([doc for doc in D if t in doc])))\n",
      "    return tf * idf\n",
      "\n",
      "\n",
      "a, abb, abc = [\"a\"], [\"a\", \"b\", \"b\"], [\"a\", \"b\", \"c\"]\n",
      "D = [a, abb, abc]\n",
      "\n",
      "print(tfidf(\"a\", a, D))\n",
      "print(tfidf(\"b\", abb, D))\n",
      "print(tfidf(\"a\", abc, D))\n",
      "print(tfidf(\"b\", abc, D))\n",
      "print(tfidf(\"c\", abc, D))"
     ],
     "language": "python",
     "metadata": {},
     "outputs": [
      {
       "output_type": "stream",
       "stream": "stdout",
       "text": [
        "0.0\n",
        "0.270310072072\n",
        "0.0\n",
        "0.135155036036\n",
        "0.366204096223\n"
       ]
      }
     ],
     "prompt_number": 92
    },
    {
     "cell_type": "code",
     "collapsed": false,
     "input": [
      "from sklearn.feature_extraction.text import TfidfVectorizer\n",
      "from sklearn.datasets import fetch_20newsgroups\n",
      "from sklearn.datasets import load_files\n",
      "\n",
      "#twenty = fetch_20newsgroups(subset='train', categories=['sci.space','misc.forsale'], \n",
      "#                            remove=(\"headers\",\"footers\",\"quotes\"))\n",
      "\n",
      "twenty = load_files('mini_newsgroups/', categories=['alt.atheism','rec.autos','misc.forsale'])\n",
      "vectorizer = TfidfVectorizer()\n",
      "tfidf = vectorizer.fit_transform(twenty.data)"
     ],
     "language": "python",
     "metadata": {},
     "outputs": [],
     "prompt_number": 94
    },
    {
     "cell_type": "code",
     "collapsed": false,
     "input": [
      "num_samples, num_features = tfidf.shape  # samples by features\n",
      "print num_samples, num_features"
     ],
     "language": "python",
     "metadata": {},
     "outputs": [
      {
       "output_type": "stream",
       "stream": "stdout",
       "text": [
        "300 11595\n"
       ]
      }
     ],
     "prompt_number": 95
    },
    {
     "cell_type": "code",
     "collapsed": false,
     "input": [
      "tfidf.getrow(1)"
     ],
     "language": "python",
     "metadata": {},
     "outputs": [
      {
       "metadata": {},
       "output_type": "pyout",
       "prompt_number": 96,
       "text": [
        "<1x11595 sparse matrix of type '<type 'numpy.float64'>'\n",
        "\twith 124 stored elements in Compressed Sparse Row format>"
       ]
      }
     ],
     "prompt_number": 96
    },
    {
     "cell_type": "code",
     "collapsed": false,
     "input": [
      "tfidf.getrow(1).toarray()"
     ],
     "language": "python",
     "metadata": {},
     "outputs": [
      {
       "metadata": {},
       "output_type": "pyout",
       "prompt_number": 97,
       "text": [
        "array([[ 0.,  0.,  0., ...,  0.,  0.,  0.]])"
       ]
      }
     ],
     "prompt_number": 97
    },
    {
     "cell_type": "code",
     "collapsed": false,
     "input": [
      "# Borrowed from Building Machine Learning Systems with Python\n",
      "def dist_norm(v1, v2):\n",
      "    v1_normalized = v1 / sp.linalg.norm(v1.toarray())\n",
      "    v2_normalized = v2 / sp.linalg.norm(v2.toarray())\n",
      "\n",
      "    delta = v1_normalized - v2_normalized\n",
      "\n",
      "    return sp.linalg.norm(delta.toarray())"
     ],
     "language": "python",
     "metadata": {},
     "outputs": [],
     "prompt_number": 144
    },
    {
     "cell_type": "code",
     "collapsed": false,
     "input": [
      "new_post = 'I have a motorcycle for sale.'"
     ],
     "language": "python",
     "metadata": {},
     "outputs": [],
     "prompt_number": 98
    },
    {
     "cell_type": "code",
     "collapsed": false,
     "input": [
      "new_post_vec = vectorizer.transform([new_post])\n",
      "print(new_post_vec, type(new_post_vec))"
     ],
     "language": "python",
     "metadata": {},
     "outputs": [
      {
       "output_type": "stream",
       "stream": "stdout",
       "text": [
        "(<1x11595 sparse matrix of type '<type 'numpy.float64'>'\n",
        "\twith 4 stored elements in Compressed Sparse Row format>, <class 'scipy.sparse.csr.csr_matrix'>)\n"
       ]
      }
     ],
     "prompt_number": 100
    },
    {
     "cell_type": "code",
     "collapsed": false,
     "input": [
      "best_dist = sys.maxsize\n",
      "best_i = None\n",
      "posts = twenty.filenames\n",
      "\n",
      "for i in range(0, num_samples):\n",
      "    post = posts[i]\n",
      "    if post == new_post:\n",
      "        continue\n",
      "    post_vec = tfidf.getrow(i)\n",
      "    d = dist_norm(post_vec, new_post_vec)\n",
      "\n",
      "    #print(\"=== Post %i with dist=%.2f: %s\" % (i, d, post))\n",
      "\n",
      "    if d < best_dist:\n",
      "        best_dist = d\n",
      "        best_i = i\n",
      "\n",
      "print(\"Closest post by this dist_norm metric is %i with dist=%.2f\" % (best_i, best_dist))"
     ],
     "language": "python",
     "metadata": {},
     "outputs": [
      {
       "output_type": "stream",
       "stream": "stdout",
       "text": [
        "Closest post by this dist_norm metric is 215 with dist=1.28\n"
       ]
      }
     ],
     "prompt_number": 146
    },
    {
     "cell_type": "code",
     "collapsed": false,
     "input": [
      "twenty.filenames[215]"
     ],
     "language": "python",
     "metadata": {},
     "outputs": [
      {
       "metadata": {},
       "output_type": "pyout",
       "prompt_number": 105,
       "text": [
        "'mini_newsgroups/misc.forsale/70337'"
       ]
      }
     ],
     "prompt_number": 105
    },
    {
     "cell_type": "code",
     "collapsed": false,
     "input": [
      "cat 'mini_newsgroups/misc.forsale/70337'"
     ],
     "language": "python",
     "metadata": {},
     "outputs": [
      {
       "output_type": "stream",
       "stream": "stdout",
       "text": [
        "Path: cantaloupe.srv.cs.cmu.edu!rochester!udel!gatech!howland.reston.ans.net!usc!cs.utexas.edu!qt.cs.utexas.edu!news.Brown.EDU!noc.near.net!bigboote.WPI.EDU!bigwpi.WPI.EDU!kedz\r\n",
        "From: kedz@bigwpi.WPI.EDU (John Kedziora)\r\n",
        "Newsgroups: misc.forsale\r\n",
        "Subject: Motorcycle wanted.\r\n",
        "Date: 22 Feb 1993 14:22:51 GMT\r\n",
        "Organization: Worcester Polytechnic Institute\r\n",
        "Lines: 11\r\n",
        "Expires: 5/1/93\r\n",
        "Message-ID: <1manjr$ja0@bigboote.WPI.EDU>\r\n",
        "NNTP-Posting-Host: bigwpi.wpi.edu\r\n",
        "\r\n",
        "Sender: \r\n",
        "Followup-To:kedz@wpi.wpi.edu \r\n",
        "Distribution: ne\r\n",
        "Organization: Worcester Polytechnic Institute\r\n",
        "Keywords: \r\n",
        "\r\n",
        "I am looking for an inexpensive motorcycle, nothing fancy, have to be able to do all maintinence my self. looking in the <$400 range.\r\n",
        "\r\n",
        "if you can help me out, GREAT!, please reply by e-mail.\r\n",
        "\r\n",
        "\r\n"
       ]
      }
     ],
     "prompt_number": 106
    },
    {
     "cell_type": "markdown",
     "metadata": {},
     "source": [
      "## Cosine similarity is a pretty common similarity/distance measure on tf-idf arrays."
     ]
    },
    {
     "cell_type": "code",
     "collapsed": false,
     "input": [
      "# From a post by Olivier Grissel on SO - it's not super easy to do this automatically in sklearn.\n",
      "# http://stackoverflow.com/questions/12118720/python-tf-idf-cosine-to-find-document-similarity\n",
      "\n",
      "# first article and those most similar to it:\n",
      "from sklearn.metrics.pairwise import linear_kernel\n",
      "cosine_similarities = linear_kernel(tfidf[0:1], tfidf).flatten()\n",
      "cosine_similarities[0:20]"
     ],
     "language": "python",
     "metadata": {},
     "outputs": [
      {
       "metadata": {},
       "output_type": "pyout",
       "prompt_number": 107,
       "text": [
        "array([ 1.        ,  0.04328061,  0.03913683,  0.05745153,  0.04716716,\n",
        "        0.03396543,  0.04580417,  0.052221  ,  0.06352535,  0.03661228,\n",
        "        0.08340521,  0.05178414,  0.04567389,  0.03464662,  0.04527974,\n",
        "        0.08115254,  0.09421415,  0.07269908,  0.12387938,  0.02670866])"
       ]
      }
     ],
     "prompt_number": 107
    },
    {
     "cell_type": "code",
     "collapsed": false,
     "input": [
      "related_docs_indices = cosine_similarities.argsort()[:-5:-1]\n",
      "related_docs_indices"
     ],
     "language": "python",
     "metadata": {},
     "outputs": [
      {
       "metadata": {},
       "output_type": "pyout",
       "prompt_number": 108,
       "text": [
        "array([  0, 152, 219, 177])"
       ]
      }
     ],
     "prompt_number": 108
    },
    {
     "cell_type": "code",
     "collapsed": false,
     "input": [
      "cosine_similarities[related_docs_indices]"
     ],
     "language": "python",
     "metadata": {},
     "outputs": [
      {
       "metadata": {},
       "output_type": "pyout",
       "prompt_number": 109,
       "text": [
        "array([ 1.        ,  0.33827236,  0.31195687,  0.285231  ])"
       ]
      }
     ],
     "prompt_number": 109
    },
    {
     "cell_type": "code",
     "collapsed": false,
     "input": [
      "twenty.filenames[0]"
     ],
     "language": "python",
     "metadata": {},
     "outputs": [
      {
       "metadata": {},
       "output_type": "pyout",
       "prompt_number": 110,
       "text": [
        "'mini_newsgroups/rec.autos/101628'"
       ]
      }
     ],
     "prompt_number": 110
    },
    {
     "cell_type": "code",
     "collapsed": false,
     "input": [
      "twenty.filenames[152]"
     ],
     "language": "python",
     "metadata": {},
     "outputs": [
      {
       "metadata": {},
       "output_type": "pyout",
       "prompt_number": 111,
       "text": [
        "'mini_newsgroups/rec.autos/103184'"
       ]
      }
     ],
     "prompt_number": 111
    },
    {
     "cell_type": "code",
     "collapsed": false,
     "input": [
      "print twenty.data[0]"
     ],
     "language": "python",
     "metadata": {},
     "outputs": [
      {
       "output_type": "stream",
       "stream": "stdout",
       "text": [
        "Path: cantaloupe.srv.cs.cmu.edu!crabapple.srv.cs.cmu.edu!fs7.ece.cmu.edu!europa.eng.gtefsd.com!howland.reston.ans.net!usc!wupost!uunet!caen!rphroy!kocrsv01!jdmooney\n",
        "From: jdmooney@kocrsv01.delcoelect.com (John D. Mooney)\n",
        "Newsgroups: rec.autos\n",
        "Subject: Re: anti-theft devices\n",
        "Message-ID: <1993Apr5.134327.9723@kocrsv01.delcoelect.com>\n",
        "Date: 5 Apr 93 13:43:27 GMT\n",
        "References: <1993Apr2.173814.3056@kocrsv01.delcoelect.com> <99948@rphroy.ph.gmr.com>\n",
        "Sender: news@kocrsv01.delcoelect.com (Usenet News Account)\n",
        "Organization: Delco Electronics Corp.\n",
        "Lines: 36\n",
        "Originator: jdmooney@koinsv02\n",
        "\n",
        "\n",
        "In article <99948@rphroy.ph.gmr.com>, rhaar@gmr.com (Bob Haar) writes:\n",
        "> In article 3056@kocrsv01.delcoelect.com, jdmooney@kocrsv01.delcoelect.com (John D. Mooney) writes:\n",
        "> |>\n",
        "> |>Someone writes:\n",
        "> |>> \n",
        "> |>> BTW, somebody stole the front grille off my beat-up 1983 Nissan Sentra\n",
        "> |>> a few weeks ago!  I couldn't believe it.  I'm just driving around\n",
        "> |>> without it now.\n",
        "> |>\n",
        "> |>Years ago, my brother lived in a ROUGH area....  he left his NOVA \n",
        "> |>parked on the street in FRONT of his house for a few days.....  \n",
        "> |>one day he went to move it back into the driveway, it wouldn't start....\n",
        "> |>\n",
        "> |>Seems some industrious fool needed a NOVA GAS TANK..... the fool found\n",
        "> |>one under my brothers car.  \n",
        "> |>\n",
        "> \n",
        "> The engines in VW Beatles are quite easy to remove without entering the car\n",
        "> or even opening the engine compartment. How would you like to find that\n",
        "> your car wouldn't start because the engine was stolen?\n",
        "> \n",
        "\n",
        "I would probobly feel a hell of a lot poorer...   a gas tank is about\n",
        "50$ in a junkyard.   An engine... more!\n",
        "\n",
        "Seriously though, my other brother, DARRELL, left his VW on the same\n",
        "street...  someone stole the radiator out of it....  try finding a VW\n",
        "radiator in a junkyard  :-)    I DARE YOU !\n",
        "\n",
        "JD\n",
        "-- \n",
        "********************************************************************************\n",
        "* John D Mooney               Delco Electronics                 General Motors *\n",
        "* ------------------ jdmooney@kocrsv01@delcoelect.com -------------------------*\n",
        "*  Opinions expressed are MINE...             NOT necessarily  DE's or GM's    *\n",
        "\n"
       ]
      }
     ],
     "prompt_number": 112
    },
    {
     "cell_type": "code",
     "collapsed": false,
     "input": [
      "print twenty.data[152]"
     ],
     "language": "python",
     "metadata": {},
     "outputs": [
      {
       "output_type": "stream",
       "stream": "stdout",
       "text": [
        "Newsgroups: rec.autos\n",
        "Path: cantaloupe.srv.cs.cmu.edu!crabapple.srv.cs.cmu.edu!fs7.ece.cmu.edu!europa.eng.gtefsd.com!howland.reston.ans.net!zaphod.mps.ohio-state.edu!rphroy!kocrsv01!c23st\n",
        "From: c23st@kocrsv01.delcoelect.com (Spiros Triantafyllopoulos)\n",
        "Subject: Re: Ad said Nissan Altima best seller?\n",
        "Message-ID: <1993Apr20.145932.15094@kocrsv01.delcoelect.com>\n",
        "Sender: news@kocrsv01.delcoelect.com (Usenet News Account)\n",
        "Organization: Delco Electronics Corp.\n",
        "References: <1993Apr19.222529.3462@cactus.org> <1r0vk6INNaft@cronkite.Central.Sun.COM>\n",
        "Date: Tue, 20 Apr 1993 14:59:32 GMT\n",
        "Lines: 23\n",
        "\n",
        "In article <1r0vk6INNaft@cronkite.Central.Sun.COM> dbernard@clesun.Central.Sun.COM writes:\n",
        ">>I too was puzzled by this obvious untruth. What I think is going on is that\n",
        ">>Nissan claims that the Altima is \"the best selling new car namelplate in\n",
        ">>the US\" (I think I have this near verbatim). Lee Iaccoca's statistics\n",
        ">>dept. would have been proud of that sentence.\n",
        ">\n",
        ">Note that the Corolla/Prism are also new designs... but hey are not new \n",
        ">\"nameplates.\"  I guess Nissan doesn't even sell as many Altimas as\n",
        ">Toyota does Corollas, or there would be no \"nameplate\" qualifier.\n",
        "\n",
        "But waiiiiiit, isn't Nissan officially registering the car as far as\n",
        "government paperwork goes, Nissan Stanza Altima, to avoid costly and\n",
        "lengthy paperwork? I read this on the net a while ago, and someone\n",
        "actually may have said there's a little Stanza logo on the Altima\n",
        "somewhere.\n",
        "\n",
        "You *can* have it both ways :-)\n",
        "\n",
        "Spiros\n",
        "-- \n",
        "Spiros Triantafyllopoulos                    c23st@kocrsv01.delcoelect.com\n",
        "Software Technology, Delco Electronics       (317) 451-0815\n",
        "GM Hughes Electronics, Kokomo, IN 46904      \"I post, therefore I ARMM\"\n",
        "\n"
       ]
      }
     ],
     "prompt_number": 113
    },
    {
     "cell_type": "markdown",
     "metadata": {},
     "source": [
      "## Let's use the tf-idf to do hierarchical clustering"
     ]
    },
    {
     "cell_type": "code",
     "collapsed": false,
     "input": [
      "import numpy as np\n",
      "import matplotlib.pyplot as plt\n",
      "from scipy.spatial.distance import pdist, squareform\n",
      "from scipy.cluster.hierarchy import linkage, dendrogram"
     ],
     "language": "python",
     "metadata": {},
     "outputs": [],
     "prompt_number": 114
    },
    {
     "cell_type": "code",
     "collapsed": false,
     "input": [
      "array = tfidf.toarray()"
     ],
     "language": "python",
     "metadata": {},
     "outputs": [],
     "prompt_number": 115
    },
    {
     "cell_type": "code",
     "collapsed": false,
     "input": [
      "dist = squareform(pdist(array, metric='cosine'))  # don't forget to squareform it!\n",
      "link = linkage(dist, method='complete')"
     ],
     "language": "python",
     "metadata": {},
     "outputs": [],
     "prompt_number": 116
    },
    {
     "cell_type": "code",
     "collapsed": false,
     "input": [
      "dend = dendrogram(link, distance_sort='ascending')"
     ],
     "language": "python",
     "metadata": {},
     "outputs": [
      {
       "metadata": {},
       "output_type": "display_data",
       "png": "[encoded data removed]",
       "text": [
        "<matplotlib.figure.Figure at 0x11d681fd0>"
       ]
      }
     ],
     "prompt_number": 117
    },
    {
     "cell_type": "code",
     "collapsed": false,
     "input": [
      "shorternames = [x.split('/')[1] for x in twenty.filenames]"
     ],
     "language": "python",
     "metadata": {},
     "outputs": [],
     "prompt_number": 118
    },
    {
     "cell_type": "code",
     "collapsed": false,
     "input": [
      "from pylab import rcParams\n",
      "rcParams['figure.figsize'] = 6, 20\n",
      "rcParams['axes.labelsize'] = 5"
     ],
     "language": "python",
     "metadata": {},
     "outputs": [],
     "prompt_number": 119
    },
    {
     "cell_type": "code",
     "collapsed": false,
     "input": [
      "dend = dendrogram(link, distance_sort='ascending', orientation='right',\n",
      "                 labels=shorternames)"
     ],
     "language": "python",
     "metadata": {},
     "outputs": [
      {
       "metadata": {},
       "output_type": "display_data",
       "png": "[encoded data removed]",
       "text": [
        "<matplotlib.figure.Figure at 0x12182cd90>"
       ]
      }
     ],
     "prompt_number": 120
    },
    {
     "cell_type": "markdown",
     "metadata": {},
     "source": [
      "## Enter Classifiers that can do better.  For example, see: http://blog.yhathq.com/posts/naive-bayes-in-python.html"
     ]
    },
    {
     "cell_type": "code",
     "collapsed": false,
     "input": [],
     "language": "python",
     "metadata": {},
     "outputs": []
    }
   ],
   "metadata": {}
  }
 ]
}