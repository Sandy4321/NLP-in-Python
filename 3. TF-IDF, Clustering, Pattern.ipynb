{
 "metadata": {
  "name": "",
  "signature": "sha256:5fb8ea07924eaec9fd95c30386ee70836db7c74e70b5eff4cfa75d8e846ff299"
 },
 "nbformat": 3,
 "nbformat_minor": 0,
 "worksheets": [
  {
   "cells": [
    {
     "cell_type": "markdown",
     "metadata": {},
     "source": [
      "# 3. Intro to TF-IDF, Clustering, and Pattern.py\n",
      "\n",
      "### Lynn Cherny, 2/8/15, arnicas@gmail\n",
      "Full repo here: https://github.com/arnicas/NLP-in-Python"
     ]
    },
    {
     "cell_type": "code",
     "collapsed": false,
     "input": [
      "%matplotlib inline"
     ],
     "language": "python",
     "metadata": {},
     "outputs": [],
     "prompt_number": 1
    },
    {
     "cell_type": "code",
     "collapsed": false,
     "input": [
      "import itertools\n",
      "import math\n",
      "import matplotlib.pyplot as plt\n",
      "# also, down below, we use pattern, numpy, and scipy"
     ],
     "language": "python",
     "metadata": {},
     "outputs": [],
     "prompt_number": 2
    },
    {
     "cell_type": "markdown",
     "metadata": {},
     "source": [
      "##TF-IDF (Term Frequency, Inverse Document Frequency)"
     ]
    },
    {
     "cell_type": "markdown",
     "metadata": {},
     "source": [
      "**Term Frequency**: Number of appearances of a word in a document (the counts we saw already)\n",
      "\n",
      "**Document Frequency**: Number of documents that contain a word in a set of docs\n",
      "\n",
      "**TF-IDF** is **Term Frequency / Document Frequency**, with some extra fiddles.\n",
      "\n",
      "Example from [Manning, Raghavan, and Schuetze](http://nlp.stanford.edu/IR-book/html/htmledition/inverse-document-frequency-1.html) showing IDF of a rare term is high:\n",
      "\n",
      "\n",
      "<img src=\"images/doc_freq.png\">\n",
      "\n",
      "\n",
      "TF-IDF for a word and document is usually calculated as:\n",
      "\n",
      "**(Word t's frequency in the doc) * Log( Number of Docs / Number of docs that contain the word t)**\n",
      "\n",
      "However, it is usually done with a + 1 term or two.  You can consider it an information measure for document words (or \"features\") in a bag-of-words style analysis, where the order of the words doesn't matter, just the set of words. It is a **\"weight\"** for a word. Some features of TF-IDF:\n",
      "\n",
      "* If a term is very frequent in the whole doc set, it's less interesting overall and gets a low TF-IDF. Note this tends to remove stopwords for you! However, you need a lot of documents for this to work well. Beware of effects of tf-idf on small doc sets, it may not work as you expect.\n",
      "* A term frequent in a few docs, but not in a lot, has a high score. It helps distinguish those docs.\n",
      "\n",
      "See the discussion in [Manning, Raghavan, and Schuetze](http://nlp.stanford.edu/IR-book/html/htmledition/term-frequency-and-weighting-1.html), and even [more math in Wikipedia](http://en.wikipedia.org/wiki/Tf%E2%80%93idf). Depending on implementation, TF-IDF may or may not be normalized. **Always check to see if the implementation you use cleans stopwords or not and decide if you like that.**\n",
      "\n",
      "Some more python references:\n",
      "* [Demo using TextBlob, another lib](http://stevenloria.com/finding-important-words-in-a-document-using-tf-idf/)\n",
      "* [A version written on top of NLTK](https://github.com/yebrahim/TF-IDF-Generator)\n",
      "* [TF-IDF in gensim](http://radimrehurek.com/gensim/tutorial.html)\n",
      "* [TF-IDF in scikit-learn](http://scikit-learn.org/stable/modules/feature_extraction.html)\n",
      "\n",
      "In other languages than Python:\n",
      "* [A version in Processing by Nic Felton](https://github.com/feltron/Processing_TFIDF)\n",
      "* Using [Nodejs package 'natural'](https://github.com/NaturalNode/natural) -- see example in my utils/booksNodeTfIdf.js. **Beware, this version strips stopwords, and it's a dumb list. I've filed an issue with them, but if you use it, you should replace or remove their stoplist.**\n",
      "\n"
     ]
    },
    {
     "cell_type": "code",
     "collapsed": false,
     "input": [
      "# code example from Building Machine Learning Systems with Python (Will Richter) \n",
      "# - modified slightly by Lynn\n",
      "\n",
      "import math\n",
      "\n",
      "def tfidf(t, d, D):\n",
      "    tf = float(d.count(t)) / sum(d.count(w) for w in set(d))  # normalized\n",
      "    # Note his version doesn't use +1 in denominator.\n",
      "    idf = math.log( float(len(D)) / (len([doc for doc in D if t in doc])))\n",
      "    return tf * idf\n",
      "\n",
      "\n",
      "a, abb, abc = [\"a\"], [\"a\", \"b\", \"b\"], [\"a\", \"b\", \"c\"]  # try adding another c to the last doc!\n",
      "D = [a, abb, abc]\n",
      "\n",
      "print(tfidf(\"a\", a, D))   # a is in all of them\n",
      "print(tfidf(\"a\", abc, D)) # a is in all of them\n",
      "print(tfidf(\"b\", abc, D)) # b occurs only once here, but in 2 docs\n",
      "print(tfidf(\"b\", abb, D)) # b occurs more frequently in this doc\n",
      "print(tfidf(\"c\", abc, D)) # c is unique in the doc set"
     ],
     "language": "python",
     "metadata": {},
     "outputs": [
      {
       "output_type": "stream",
       "stream": "stdout",
       "text": [
        "0.0\n",
        "0.0\n",
        "0.135155036036\n",
        "0.270310072072\n",
        "0.366204096223\n"
       ]
      }
     ],
     "prompt_number": 3
    },
    {
     "cell_type": "markdown",
     "metadata": {},
     "source": [
      "*What if you change some of those docs, or add another one? Add another c in the last doc, e.g.*"
     ]
    },
    {
     "cell_type": "markdown",
     "metadata": {},
     "source": [
      "##Using the Pattern lib for NLP"
     ]
    },
    {
     "cell_type": "markdown",
     "metadata": {},
     "source": [
      "Install: pip install pattern. Read the documentation here for the vector package: http://www.clips.ua.ac.be/pages/pattern-vector"
     ]
    },
    {
     "cell_type": "code",
     "collapsed": false,
     "input": [
      "from pattern.vector import Document, Model, TFIDF, TF, LEMMA, PORTER, COSINE, KMEANS, HIERARCHICAL"
     ],
     "language": "python",
     "metadata": {},
     "outputs": [],
     "prompt_number": 4
    },
    {
     "cell_type": "code",
     "collapsed": false,
     "input": [
      "filelist = !ls data/stories/"
     ],
     "language": "python",
     "metadata": {},
     "outputs": [],
     "prompt_number": 5
    },
    {
     "cell_type": "code",
     "collapsed": false,
     "input": [
      "filelist"
     ],
     "language": "python",
     "metadata": {},
     "outputs": [
      {
       "metadata": {},
       "output_type": "pyout",
       "prompt_number": 6,
       "text": [
        "['A_THE BELL.txt',\n",
        " 'A_THE DREAM OF LITTLE TUK.txt',\n",
        " 'A_THE ELDERBUSH.txt',\n",
        " \"A_THE EMPEROR'S NEW CLOTHES.txt\",\n",
        " 'A_THE FALSE COLLAR.txt',\n",
        " 'A_THE FIR TREE.txt',\n",
        " 'A_THE HAPPY FAMILY.txt',\n",
        " 'A_THE LEAP-FROG.txt',\n",
        " 'A_THE LITTLE MATCH GIRL.txt',\n",
        " 'A_THE NAUGHTY BOY.txt',\n",
        " 'A_THE OLD HOUSE.txt',\n",
        " 'A_THE REAL PRINCESS.txt',\n",
        " 'A_THE RED SHOES.txt',\n",
        " 'A_THE SHADOW.txt',\n",
        " 'A_THE SHOES OF FORTUNE.txt',\n",
        " 'A_THE SNOW QUEEN.txt',\n",
        " 'A_THE STORY OF A MOTHER.txt',\n",
        " 'A_THE SWINEHERD.txt',\n",
        " 'G_BEARSKIN.txt',\n",
        " 'G_BRIAR ROSE.txt',\n",
        " 'G_CATHERINE AND FREDERICK.txt',\n",
        " 'G_CINDERELLA.txt',\n",
        " 'G_DUMMLING AND THE THREE FEATHERS.txt',\n",
        " 'G_FAITHFUL JOHN.txt',\n",
        " 'G_HANSEL AND GRETHEL.txt',\n",
        " 'G_LITTLE ONE-EYE, TWO-EYES AND THREE-EYES.txt',\n",
        " 'G_LITTLE RED-CAP.txt',\n",
        " 'G_LITTLE SNOW-WHITE.txt',\n",
        " 'G_MOTHER HOLLE.txt',\n",
        " 'G_OH, IF I COULD BUT SHIVER!.txt',\n",
        " 'G_RAPUNZEL.txt',\n",
        " 'G_RUMPELSTILTSKIN.txt',\n",
        " 'G_SNOW-WHITE AND ROSE-RED.txt',\n",
        " 'G_THE FROG PRINCE.txt',\n",
        " 'G_THE GOLDEN GOOSE.txt',\n",
        " 'G_THE GOOSE-GIRL.txt',\n",
        " 'G_THE LITTLE BROTHER AND SISTER.txt',\n",
        " 'G_THE SIX SWANS.txt',\n",
        " 'G_THE THREE LITTLE MEN IN THE WOOD.txt',\n",
        " 'G_THE TRAVELS OF TOM THUMB.txt',\n",
        " 'G_THE VALIANT LITTLE TAILOR.txt',\n",
        " 'G_THE WATER OF LIFE.txt',\n",
        " 'G_THUMBLING.txt']"
       ]
      }
     ],
     "prompt_number": 6
    },
    {
     "cell_type": "code",
     "collapsed": false,
     "input": [
      "# Load in the stories...\n",
      "\n",
      "def load_texts(filenames, dirpath):\n",
      "    \"\"\" filenames are the leaves, dirpath is the path to them with the / \"\"\"\n",
      "    loaded_text = {}\n",
      "    for filen in filenames:\n",
      "        with open(dirpath + filen) as handle:\n",
      "            loaded_text[filen] = handle.read()\n",
      "    return loaded_text"
     ],
     "language": "python",
     "metadata": {},
     "outputs": [],
     "prompt_number": 7
    },
    {
     "cell_type": "code",
     "collapsed": false,
     "input": [
      "loaded_text = load_texts(filelist, 'data/stories/')"
     ],
     "language": "python",
     "metadata": {},
     "outputs": [],
     "prompt_number": 8
    },
    {
     "cell_type": "code",
     "collapsed": false,
     "input": [
      "loaded_text.items()[0]"
     ],
     "language": "python",
     "metadata": {},
     "outputs": [
      {
       "metadata": {},
       "output_type": "pyout",
       "prompt_number": 9,
       "text": [
        "('A_THE REAL PRINCESS.txt',\n",
        " 'THE REAL PRINCESS\\r\\n\\r\\nThere was once a Prince who wished to marry a Princess; but then she\\r\\nmust be a real Princess. He travelled all over the world in hopes of\\r\\nfinding such a lady; but there was always something wrong. Princesses he\\r\\nfound in plenty; but whether they were real Princesses it was impossible\\r\\nfor him to decide, for now one thing, now another, seemed to him not\\r\\nquite right about the ladies. At last he returned to his palace quite\\r\\ncast down, because he wished so much to have a real Princess for his\\r\\nwife.\\r\\n\\r\\nOne evening a fearful tempest arose, it thundered and lightened, and the\\r\\nrain poured down from the sky in torrents: besides, it was as dark as\\r\\npitch. All at once there was heard a violent knocking at the door, and\\r\\nthe old King, the Prince\\'s father, went out himself to open it.\\r\\n\\r\\nIt was a Princess who was standing outside the door. What with the rain\\r\\nand the wind, she was in a sad condition; the water trickled down from\\r\\nher hair, and her clothes clung to her body. She said she was a real\\r\\nPrincess.\\r\\n\\r\\n\"Ah! we shall soon see that!\" thought the old Queen-mother; however, she\\r\\nsaid not a word of what she was going to do; but went quietly into the\\r\\nbedroom, took all the bed-clothes off the bed, and put three little peas\\r\\non the bedstead. She then laid twenty mattresses one upon another over\\r\\nthe three peas, and put twenty feather beds over the mattresses.\\r\\n\\r\\nUpon this bed the Princess was to pass the night.\\r\\n\\r\\nThe next morning she was asked how she had slept. \"Oh, very badly\\r\\nindeed!\" she replied. \"I have scarcely closed my eyes the whole night\\r\\nthrough. I do not know what was in my bed, but I had something hard\\r\\nunder me, and am all over black and blue. It has hurt me so much!\"\\r\\n\\r\\nNow it was plain that the lady must be a real Princess, since she had\\r\\nbeen able to feel the three little peas through the twenty mattresses\\r\\nand twenty feather beds. None but a real Princess could have had such a\\r\\ndelicate sense of feeling.\\r\\n\\r\\nThe Prince accordingly made her his wife; being now convinced that he\\r\\nhad found a real Princess. The three peas were however put into the\\r\\ncabinet of curiosities, where they are still to be seen, provided they\\r\\nare not lost.\\r\\n\\r\\nWasn\\'t this a lady of real delicacy?\\r\\n\\r\\n\\r\\n\\r\\n\\r\\n')"
       ]
      }
     ],
     "prompt_number": 9
    },
    {
     "cell_type": "code",
     "collapsed": false,
     "input": [
      "def make_pattern_docs(texts):\n",
      "    \"\"\" texts is a dictionary! key is the name of text or filename \"\"\"\n",
      "    from pattern.vector import Document\n",
      "    docs = []\n",
      "\n",
      "    # Create a pattern.vector Document object for each article, and lemmatize as it goes in\n",
      "    for key, val in texts.iteritems():\n",
      "        typestring = key[0]  # will be a G or A, for Grimms or Andersen\n",
      "        docs.append(Document(val, name=key, type=typestring, stemmer=LEMMA))\n",
      "    return docs"
     ],
     "language": "python",
     "metadata": {},
     "outputs": [],
     "prompt_number": 10
    },
    {
     "cell_type": "code",
     "collapsed": false,
     "input": [
      "docs = make_pattern_docs(loaded_text)\n",
      "docs[1]"
     ],
     "language": "python",
     "metadata": {},
     "outputs": [
      {
       "metadata": {},
       "output_type": "pyout",
       "prompt_number": 11,
       "text": [
        "Document(id='P46Xguc-2', name='G_LITTLE ONE-EYE, TWO-EYES AND THREE-EYES.txt', type='G')"
       ]
      }
     ],
     "prompt_number": 11
    },
    {
     "cell_type": "code",
     "collapsed": false,
     "input": [
      "docs[1].keywords()  # normalized counts in the document (TF)"
     ],
     "language": "python",
     "metadata": {},
     "outputs": [
      {
       "metadata": {},
       "output_type": "pyout",
       "prompt_number": 12,
       "text": [
        "[(0.045454545454545636, u'sister'),\n",
        " (0.020661157024793472, u'table'),\n",
        " (0.017906336088154343, u'goat'),\n",
        " (0.017906336088154343, u'tree'),\n",
        " (0.016528925619834777, u'little'),\n",
        " (0.015151515151515213, u'eye'),\n",
        " (0.015151515151515213, u'knight'),\n",
        " (0.015151515151515213, u'mother'),\n",
        " (0.013774104683195648, u'morning'),\n",
        " (0.013774104683195648, u'soon')]"
       ]
      }
     ],
     "prompt_number": 12
    },
    {
     "cell_type": "code",
     "collapsed": false,
     "input": [
      "sorted(docs[1].features)[0:10]  # the words = features"
     ],
     "language": "python",
     "metadata": {},
     "outputs": [
      {
       "metadata": {},
       "output_type": "pyout",
       "prompt_number": 13,
       "text": [
        "[u'accompany',\n",
        " u'according',\n",
        " u'admire',\n",
        " u'advice',\n",
        " u'afterward',\n",
        " u'ah',\n",
        " u'air',\n",
        " u'ala',\n",
        " u'alm',\n",
        " u'angry']"
       ]
      }
     ],
     "prompt_number": 13
    },
    {
     "cell_type": "code",
     "collapsed": false,
     "input": [
      "# the normalized vector for the word occurrences in this document - \n",
      "# these scores are the same as the keywords above. \n",
      "docs[1].vector['sister']"
     ],
     "language": "python",
     "metadata": {},
     "outputs": [
      {
       "metadata": {},
       "output_type": "pyout",
       "prompt_number": 14,
       "text": [
        "0.045454545454545456"
       ]
      }
     ],
     "prompt_number": 14
    },
    {
     "cell_type": "code",
     "collapsed": false,
     "input": [
      "# TF-IDF is a property of the doc set.  The \"Model\" object handles operations across the doc set.\n",
      "mtfidf = Model(documents=docs, weight=TFIDF)"
     ],
     "language": "python",
     "metadata": {},
     "outputs": [],
     "prompt_number": 15
    },
    {
     "cell_type": "code",
     "collapsed": false,
     "input": [
      "mtfidf.documents"
     ],
     "language": "python",
     "metadata": {},
     "outputs": [
      {
       "metadata": {},
       "output_type": "pyout",
       "prompt_number": 16,
       "text": [
        "[Document(id='P46Xguc-1', name='A_THE REAL PRINCESS.txt', type='A'),\n",
        " Document(id='P46Xguc-2', name='G_LITTLE ONE-EYE, TWO-EYES AND THREE-EYES.txt', type='G'),\n",
        " Document(id='P46Xguc-3', name='A_THE HAPPY FAMILY.txt', type='A'),\n",
        " Document(id='P46Xguc-4', name='G_THE FROG PRINCE.txt', type='G'),\n",
        " Document(id='P46Xguc-5', name='G_MOTHER HOLLE.txt', type='G'),\n",
        " Document(id='P46Xguc-6', name='G_THE VALIANT LITTLE TAILOR.txt', type='G'),\n",
        " Document(id='P46Xguc-7', name='A_THE SHOES OF FORTUNE.txt', type='A'),\n",
        " Document(id='P46Xguc-8', name='G_OH, IF I COULD BUT SHIVER!.txt', type='G'),\n",
        " Document(id='P46Xguc-9', name='A_THE STORY OF A MOTHER.txt', type='A'),\n",
        " Document(id='P46Xguc-10', name='G_THE TRAVELS OF TOM THUMB.txt', type='G'),\n",
        " Document(id='P46Xguc-11', name='G_HANSEL AND GRETHEL.txt', type='G'),\n",
        " Document(id='P46Xguc-12', name='A_THE SWINEHERD.txt', type='A'),\n",
        " Document(id='P46Xguc-13', name=\"A_THE EMPEROR'S NEW CLOTHES.txt\", type='A'),\n",
        " Document(id='P46Xguc-14', name='G_THUMBLING.txt', type='G'),\n",
        " Document(id='P46Xguc-15', name='G_DUMMLING AND THE THREE FEATHERS.txt', type='G'),\n",
        " Document(id='P46Xguc-16', name='G_RUMPELSTILTSKIN.txt', type='G'),\n",
        " Document(id='P46Xguc-17', name='G_BEARSKIN.txt', type='G'),\n",
        " Document(id='P46Xguc-18', name='G_CINDERELLA.txt', type='G'),\n",
        " Document(id='P46Xguc-19', name='A_THE FIR TREE.txt', type='A'),\n",
        " Document(id='P46Xguc-20', name='G_LITTLE RED-CAP.txt', type='G'),\n",
        " Document(id='P46Xguc-21', name='A_THE LEAP-FROG.txt', type='A'),\n",
        " Document(id='P46Xguc-22', name='G_THE GOLDEN GOOSE.txt', type='G'),\n",
        " Document(id='P46Xguc-23', name='A_THE BELL.txt', type='A'),\n",
        " Document(id='P46Xguc-24', name='A_THE ELDERBUSH.txt', type='A'),\n",
        " Document(id='P46Xguc-25', name='G_THE SIX SWANS.txt', type='G'),\n",
        " Document(id='P46Xguc-26', name='A_THE RED SHOES.txt', type='A'),\n",
        " Document(id='P46Xguc-27', name='G_CATHERINE AND FREDERICK.txt', type='G'),\n",
        " Document(id='P46Xguc-28', name='G_LITTLE SNOW-WHITE.txt', type='G'),\n",
        " Document(id='P46Xguc-29', name='A_THE FALSE COLLAR.txt', type='A'),\n",
        " Document(id='P46Xguc-30', name='G_RAPUNZEL.txt', type='G'),\n",
        " Document(id='P46Xguc-31', name='G_THE LITTLE BROTHER AND SISTER.txt', type='G'),\n",
        " Document(id='P46Xguc-32', name='A_THE DREAM OF LITTLE TUK.txt', type='A'),\n",
        " Document(id='P46Xguc-33', name='A_THE SNOW QUEEN.txt', type='A'),\n",
        " Document(id='P46Xguc-34', name='G_THE GOOSE-GIRL.txt', type='G'),\n",
        " Document(id='P46Xguc-35', name='G_SNOW-WHITE AND ROSE-RED.txt', type='G'),\n",
        " Document(id='P46Xguc-36', name='A_THE SHADOW.txt', type='A'),\n",
        " Document(id='P46Xguc-37', name='A_THE OLD HOUSE.txt', type='A'),\n",
        " Document(id='P46Xguc-38', name='G_THE WATER OF LIFE.txt', type='G'),\n",
        " Document(id='P46Xguc-39', name='G_FAITHFUL JOHN.txt', type='G'),\n",
        " Document(id='P46Xguc-40', name='G_THE THREE LITTLE MEN IN THE WOOD.txt', type='G'),\n",
        " Document(id='P46Xguc-41', name='G_BRIAR ROSE.txt', type='G'),\n",
        " Document(id='P46Xguc-42', name='A_THE LITTLE MATCH GIRL.txt', type='A'),\n",
        " Document(id='P46Xguc-43', name='A_THE NAUGHTY BOY.txt', type='A')]"
       ]
      }
     ],
     "prompt_number": 16
    },
    {
     "cell_type": "code",
     "collapsed": false,
     "input": [
      "mtfidf.document_frequency('sister')"
     ],
     "language": "python",
     "metadata": {},
     "outputs": [
      {
       "metadata": {},
       "output_type": "pyout",
       "prompt_number": 17,
       "text": [
        "0.3488372093023256"
       ]
      }
     ],
     "prompt_number": 17
    },
    {
     "cell_type": "code",
     "collapsed": false,
     "input": [
      "mtfidf.inverse_document_frequency('sister')"
     ],
     "language": "python",
     "metadata": {},
     "outputs": [
      {
       "metadata": {},
       "output_type": "pyout",
       "prompt_number": 18,
       "text": [
        "1.0531506229959813"
       ]
      }
     ],
     "prompt_number": 18
    },
    {
     "cell_type": "code",
     "collapsed": false,
     "input": [
      "doc1 = mtfidf.document(name='G_LITTLE ONE-EYE, TWO-EYES AND THREE-EYES.txt')  # or:"
     ],
     "language": "python",
     "metadata": {},
     "outputs": [],
     "prompt_number": 19
    },
    {
     "cell_type": "code",
     "collapsed": false,
     "input": [
      "# equivalent:\n",
      "\n",
      "doc1 = mtfidf.documents[1]"
     ],
     "language": "python",
     "metadata": {},
     "outputs": [],
     "prompt_number": 20
    },
    {
     "cell_type": "code",
     "collapsed": false,
     "input": [
      "doc1.term_frequency('sister')  # note this is same as doing it above on the doc object!"
     ],
     "language": "python",
     "metadata": {},
     "outputs": [
      {
       "metadata": {},
       "output_type": "pyout",
       "prompt_number": 21,
       "text": [
        "0.045454545454545456"
       ]
      }
     ],
     "prompt_number": 21
    },
    {
     "cell_type": "code",
     "collapsed": false,
     "input": [
      "doc1.tf_idf('sister')"
     ],
     "language": "python",
     "metadata": {},
     "outputs": [
      {
       "metadata": {},
       "output_type": "pyout",
       "prompt_number": 22,
       "text": [
        "0.047870482863453696"
       ]
      }
     ],
     "prompt_number": 22
    },
    {
     "cell_type": "code",
     "collapsed": false,
     "input": [
      "mtfidf.documents[4].tf('sister')"
     ],
     "language": "python",
     "metadata": {},
     "outputs": [
      {
       "metadata": {},
       "output_type": "pyout",
       "prompt_number": 23,
       "text": [
        "0.003105590062111801"
       ]
      }
     ],
     "prompt_number": 23
    },
    {
     "cell_type": "code",
     "collapsed": false,
     "input": [
      "mtfidf.documents[4].tf_idf('sister')"
     ],
     "language": "python",
     "metadata": {},
     "outputs": [
      {
       "metadata": {},
       "output_type": "pyout",
       "prompt_number": 24,
       "text": [
        "0.0032706541086831714"
       ]
      }
     ],
     "prompt_number": 24
    },
    {
     "cell_type": "markdown",
     "metadata": {},
     "source": [
      "## Time to discuss vectors, and similarity measures!\n",
      "\n",
      "Each document is a collection of weighted words, which we'll call a vector.  Vectors can be compared to each other, to compute similarity. A common metric is \"cosine similarity.\" Image from \n",
      "Manning, Raghavan and Schuetze:\n",
      "\n",
      "<img src=\"images/cosine_similarity.png\">\n",
      "\n",
      "Reminder: Angles close to each other are near 1 in cosine, far apart are closer to 0. This means that in practice you may want to subtract from 1, so that a higher score = further away. You should think of it as cosine = distance, 1-cos = similarity.  Pattern (the library) does this for you so that similarity = 1 - cos.\n",
      "\n",
      "Another, perhaps simpler to understand, is euclidean distance (image from [this article](https://de.dariah.eu/tatom/working_with_text.html)):\n",
      "\n",
      "<img src=\"images/euclidean.png\">\n",
      "\n",
      "This is essentially the hypoteneuse between two sides of a vector triangle. Larger numbers = further apart vectors!\n",
      "\n",
      "Links:\n",
      "* Reference in Manning, Raghavan and Schuetze: http://nlp.stanford.edu/IR-book/html/htmledition/dot-products-1.html\n",
      "* A good article focusing on queries in search -- same idea! https://janav.wordpress.com/2013/10/27/tf-idf-and-cosine-similarity/\n",
      "* Computing the angle between vectors for cosine similarity: http://www.mathsisfun.com/algebra/vectors-dot-product.html\n",
      "* An article on text similarities using scikit-learn: https://de.dariah.eu/tatom/working_with_text.html\n"
     ]
    },
    {
     "cell_type": "code",
     "collapsed": false,
     "input": [
      "# Taken from the pattern.vec doc page: http://www.clips.ua.ac.be/pages/pattern-vector\n",
      "\n",
      "from pattern.vector import Document, Model\n",
      "\n",
      "d0 = Document('A tiger is a big yellow cat with stripes.', type='tiger')\n",
      "d1 = Document('A lion is a big yellow cat with manes.', type='lion',)\n",
      "d2 = Document('An elephant is a big grey animal with a slurf.', type='elephant')\n",
      "d3 = Document('An elephant is an animal.', type='elephant')\n",
      "  \n",
      "print \"Before model, vector for d1:\", d1.vector\n",
      "\n",
      "simple = Model(documents=[d0, d1, d2, d3], weight=TFIDF)\n",
      "\n",
      "print \"After model, vector for d1:\", d1.vector # vector now weighted according to document collection!\n",
      "print\n",
      "print \"Tiger vs lion text similarity:\", simple.similarity(d0, d1) # tiger vs. lion, 1-cosine\n",
      "print \"Tiger vs. elephant text similarity:\", simple.similarity(d0, d2) # tiger vs. elephant, 1-cosine\n",
      "print \"Elephant 1 vs. Elephant 2 similarity:\", simple.similarity(d2, d3)"
     ],
     "language": "python",
     "metadata": {},
     "outputs": [
      {
       "output_type": "stream",
       "stream": "stdout",
       "text": [
        "Before model, vector for d1: {u'lion': 0.25, u'manes': 0.25, u'yellow': 0.25, u'cat': 0.25}\n",
        "After model, vector for d1: {u'lion': 0.34657382340379694, u'manes': 0.34657382340379694, u'yellow': 0.17328691170189847, u'cat': 0.17328691170189847}\n",
        "\n",
        "Tiger vs lion text similarity: 0.2\n",
        "Tiger vs. elephant text similarity: 0.0\n",
        "Elephant 1 vs. Elephant 2 similarity: 0.4472135955\n"
       ]
      }
     ],
     "prompt_number": 25
    },
    {
     "cell_type": "markdown",
     "metadata": {},
     "source": [
      "**Notice above that the document vectors changed after the model was created, even outside the model context.  Be alert to this (I'm not sure I like it, personally.)**\n",
      "\n",
      "**I'm going to save the simple model out for use later on...**"
     ]
    },
    {
     "cell_type": "code",
     "collapsed": false,
     "input": [
      "# this exports the array of tf-idf, but with some extra stuff we can parse out. Will be large for real data.\n",
      "\n",
      "simple.export('data/csv/simple_tfidf.tsv')"
     ],
     "language": "python",
     "metadata": {},
     "outputs": [],
     "prompt_number": 26
    },
    {
     "cell_type": "markdown",
     "metadata": {},
     "source": [
      "###Back to our stories already in a model..."
     ]
    },
    {
     "cell_type": "code",
     "collapsed": false,
     "input": [
      "mtfidf.similarity(docs[1], docs[1])  # similarity to self is 1."
     ],
     "language": "python",
     "metadata": {},
     "outputs": [
      {
       "metadata": {},
       "output_type": "pyout",
       "prompt_number": 27,
       "text": [
        "1.0000000000000002"
       ]
      }
     ],
     "prompt_number": 27
    },
    {
     "cell_type": "code",
     "collapsed": false,
     "input": [
      "mtfidf.similarity(mtfidf.docs[1], mtfidf.docs[6])  # try some different docs"
     ],
     "language": "python",
     "metadata": {},
     "outputs": [
      {
       "metadata": {},
       "output_type": "pyout",
       "prompt_number": 28,
       "text": [
        "0.061193610958748514"
       ]
      }
     ],
     "prompt_number": 28
    },
    {
     "cell_type": "code",
     "collapsed": false,
     "input": [
      "# check what that was\n",
      "\n",
      "mtfidf.docs[6]"
     ],
     "language": "python",
     "metadata": {},
     "outputs": [
      {
       "metadata": {},
       "output_type": "pyout",
       "prompt_number": 29,
       "text": [
        "Document(id='P46Xguc-7', name='A_THE SHOES OF FORTUNE.txt', type='A')"
       ]
      }
     ],
     "prompt_number": 29
    },
    {
     "cell_type": "code",
     "collapsed": false,
     "input": [
      "docs[1]"
     ],
     "language": "python",
     "metadata": {},
     "outputs": [
      {
       "metadata": {},
       "output_type": "pyout",
       "prompt_number": 30,
       "text": [
        "Document(id='P46Xguc-2', name='G_LITTLE ONE-EYE, TWO-EYES AND THREE-EYES.txt', type='G')"
       ]
      }
     ],
     "prompt_number": 30
    },
    {
     "cell_type": "code",
     "collapsed": false,
     "input": [
      "mtfidf.neighbors(docs[1])  # finds the closest matches in similarity"
     ],
     "language": "python",
     "metadata": {},
     "outputs": [
      {
       "metadata": {},
       "output_type": "pyout",
       "prompt_number": 31,
       "text": [
        "[(0.13327973883571262,\n",
        "  Document(id='P46Xguc-31', name='G_THE LITTLE BROTHER AND SISTER.txt', type='G')),\n",
        " (0.09115800288880449,\n",
        "  Document(id='P46Xguc-40', name='G_THE THREE LITTLE MEN IN THE WOOD.txt', type='G')),\n",
        " (0.07103621399884713,\n",
        "  Document(id='P46Xguc-25', name='G_THE SIX SWANS.txt', type='G')),\n",
        " (0.06968168677071662,\n",
        "  Document(id='P46Xguc-22', name='G_THE GOLDEN GOOSE.txt', type='G')),\n",
        " (0.0647975008434651,\n",
        "  Document(id='P46Xguc-18', name='G_CINDERELLA.txt', type='G')),\n",
        " (0.06260321618889808,\n",
        "  Document(id='P46Xguc-17', name='G_BEARSKIN.txt', type='G')),\n",
        " (0.061193610958748514,\n",
        "  Document(id='P46Xguc-7', name='A_THE SHOES OF FORTUNE.txt', type='A')),\n",
        " (0.0597097979694477,\n",
        "  Document(id='P46Xguc-35', name='G_SNOW-WHITE AND ROSE-RED.txt', type='G')),\n",
        " (0.05611577026931497,\n",
        "  Document(id='P46Xguc-24', name='A_THE ELDERBUSH.txt', type='A')),\n",
        " (0.05292807171289243,\n",
        "  Document(id='P46Xguc-19', name='A_THE FIR TREE.txt', type='A'))]"
       ]
      }
     ],
     "prompt_number": 31
    },
    {
     "cell_type": "code",
     "collapsed": false,
     "input": [
      "# Model.search() returns a sorted list of (similarity, Document)-tuples, \n",
      "# based on a list of query words. A Document is created on-the-fly for the \n",
      "# given list, using the given optional arguments.\n",
      "\n",
      "mtfidf.search(['witch','girl','boy'])"
     ],
     "language": "python",
     "metadata": {},
     "outputs": [
      {
       "metadata": {},
       "output_type": "pyout",
       "prompt_number": 32,
       "text": [
        "[(0.12027675752727798,\n",
        "  Document(id='P46Xguc-11', name='G_HANSEL AND GRETHEL.txt', type='G')),\n",
        " (0.10224370709271782,\n",
        "  Document(id='P46Xguc-31', name='G_THE LITTLE BROTHER AND SISTER.txt', type='G')),\n",
        " (0.08604756672847662,\n",
        "  Document(id='P46Xguc-16', name='G_RUMPELSTILTSKIN.txt', type='G')),\n",
        " (0.07588740938904971,\n",
        "  Document(id='P46Xguc-24', name='A_THE ELDERBUSH.txt', type='A')),\n",
        " (0.07152974843469193,\n",
        "  Document(id='P46Xguc-37', name='A_THE OLD HOUSE.txt', type='A')),\n",
        " (0.05359044997199823,\n",
        "  Document(id='P46Xguc-43', name='A_THE NAUGHTY BOY.txt', type='A')),\n",
        " (0.05015018254228086,\n",
        "  Document(id='P46Xguc-40', name='G_THE THREE LITTLE MEN IN THE WOOD.txt', type='G')),\n",
        " (0.039382097289471396,\n",
        "  Document(id='P46Xguc-8', name='G_OH, IF I COULD BUT SHIVER!.txt', type='G')),\n",
        " (0.03694252146876888,\n",
        "  Document(id='P46Xguc-5', name='G_MOTHER HOLLE.txt', type='G')),\n",
        " (0.03499167423176321,\n",
        "  Document(id='P46Xguc-23', name='A_THE BELL.txt', type='A'))]"
       ]
      }
     ],
     "prompt_number": 32
    },
    {
     "cell_type": "markdown",
     "metadata": {},
     "source": [
      "*Try your own searches now!*"
     ]
    },
    {
     "cell_type": "markdown",
     "metadata": {},
     "source": [
      "##One of the benefits of these distance measures is that you can do clustering, including hierarchical!"
     ]
    },
    {
     "cell_type": "code",
     "collapsed": false,
     "input": [
      "# You can do hierchical clustering right inside pattern, without having to use scipy for it.\n",
      "# k is the number of \"clusters\" you want to produce\n",
      "\n",
      "hier = mtfidf.cluster(method=HIERARCHICAL, k=5)"
     ],
     "language": "python",
     "metadata": {},
     "outputs": [],
     "prompt_number": 33
    },
    {
     "cell_type": "code",
     "collapsed": false,
     "input": [
      "hier.depth"
     ],
     "language": "python",
     "metadata": {},
     "outputs": [
      {
       "metadata": {},
       "output_type": "pyout",
       "prompt_number": 34,
       "text": [
        "31"
       ]
      }
     ],
     "prompt_number": 34
    },
    {
     "cell_type": "code",
     "collapsed": false,
     "input": [
      "# Get a giant listing of the Cluster objects in the tree structure.  \n",
      "# Doesn't seem to be a built in tool to vis them, though!\n",
      "\n",
      "hier"
     ],
     "language": "python",
     "metadata": {},
     "outputs": [
      {
       "metadata": {},
       "output_type": "pyout",
       "prompt_number": 35,
       "text": [
        "Cluster([Document(id='P46Xguc-3', name='A_THE HAPPY FAMILY.txt', type='A'), Document(id='P46Xguc-29', name='A_THE FALSE COLLAR.txt', type='A'), Document(id='P46Xguc-27', name='G_CATHERINE AND FREDERICK.txt', type='G'), Document(id='P46Xguc-30', name='G_RAPUNZEL.txt', type='G'), Cluster([Document(id='P46Xguc-36', name='A_THE SHADOW.txt', type='A'), Cluster([Document(id='P46Xguc-21', name='A_THE LEAP-FROG.txt', type='A'), Cluster([Document(id='P46Xguc-11', name='G_HANSEL AND GRETHEL.txt', type='G'), Cluster([Document(id='P46Xguc-43', name='A_THE NAUGHTY BOY.txt', type='A'), Cluster([Cluster([Document(id='P46Xguc-12', name='A_THE SWINEHERD.txt', type='A'), Document(id='P46Xguc-13', name=\"A_THE EMPEROR'S NEW CLOTHES.txt\", type='A')]), Cluster([Document(id='P46Xguc-1', name='A_THE REAL PRINCESS.txt', type='A'), Cluster([Document(id='P46Xguc-15', name='G_DUMMLING AND THE THREE FEATHERS.txt', type='G'), Cluster([Document(id='P46Xguc-5', name='G_MOTHER HOLLE.txt', type='G'), Cluster([Document(id='P46Xguc-39', name='G_FAITHFUL JOHN.txt', type='G'), Cluster([Document(id='P46Xguc-32', name='A_THE DREAM OF LITTLE TUK.txt', type='A'), Cluster([Document(id='P46Xguc-4', name='G_THE FROG PRINCE.txt', type='G'), Cluster([Cluster([Document(id='P46Xguc-6', name='G_THE VALIANT LITTLE TAILOR.txt', type='G'), Document(id='P46Xguc-10', name='G_THE TRAVELS OF TOM THUMB.txt', type='G')]), Cluster([Document(id='P46Xguc-42', name='A_THE LITTLE MATCH GIRL.txt', type='A'), Cluster([Cluster([Document(id='P46Xguc-14', name='G_THUMBLING.txt', type='G'), Document(id='P46Xguc-20', name='G_LITTLE RED-CAP.txt', type='G')]), Cluster([Document(id='P46Xguc-19', name='A_THE FIR TREE.txt', type='A'), Cluster([Document(id='P46Xguc-22', name='G_THE GOLDEN GOOSE.txt', type='G'), Cluster([Document(id='P46Xguc-34', name='G_THE GOOSE-GIRL.txt', type='G'), Cluster([Document(id='P46Xguc-33', name='A_THE SNOW QUEEN.txt', type='A'), Cluster([Document(id='P46Xguc-8', name='G_OH, IF I COULD BUT SHIVER!.txt', type='G'), Cluster([Document(id='P46Xguc-41', name='G_BRIAR ROSE.txt', type='G'), Cluster([Document(id='P46Xguc-2', name='G_LITTLE ONE-EYE, TWO-EYES AND THREE-EYES.txt', type='G'), Cluster([Document(id='P46Xguc-9', name='A_THE STORY OF A MOTHER.txt', type='A'), Cluster([Document(id='P46Xguc-24', name='A_THE ELDERBUSH.txt', type='A'), Cluster([Cluster([Document(id='P46Xguc-37', name='A_THE OLD HOUSE.txt', type='A'), Document(id='P46Xguc-17', name='G_BEARSKIN.txt', type='G')]), Cluster([Cluster([Document(id='P46Xguc-31', name='G_THE LITTLE BROTHER AND SISTER.txt', type='G'), Cluster([Document(id='P46Xguc-25', name='G_THE SIX SWANS.txt', type='G'), Cluster([Document(id='P46Xguc-40', name='G_THE THREE LITTLE MEN IN THE WOOD.txt', type='G'), Cluster([Document(id='P46Xguc-38', name='G_THE WATER OF LIFE.txt', type='G'), Cluster([Document(id='P46Xguc-35', name='G_SNOW-WHITE AND ROSE-RED.txt', type='G'), Cluster([Document(id='P46Xguc-28', name='G_LITTLE SNOW-WHITE.txt', type='G'), Document(id='P46Xguc-16', name='G_RUMPELSTILTSKIN.txt', type='G')])])])])])]), Cluster([Document(id='P46Xguc-23', name='A_THE BELL.txt', type='A'), Cluster([Document(id='P46Xguc-7', name='A_THE SHOES OF FORTUNE.txt', type='A'), Cluster([Document(id='P46Xguc-18', name='G_CINDERELLA.txt', type='G'), Document(id='P46Xguc-26', name='A_THE RED SHOES.txt', type='A')])])])])])])])])])])])])])])])])])])])])])])])])])])])])])"
       ]
      }
     ],
     "prompt_number": 35
    },
    {
     "cell_type": "code",
     "collapsed": false,
     "input": [
      "# Look at some of the functions on hier...\n",
      "hier"
     ],
     "language": "python",
     "metadata": {},
     "outputs": []
    },
    {
     "cell_type": "markdown",
     "metadata": {},
     "source": [
      "###However, I don't see any easy way to do a graph from that."
     ]
    },
    {
     "cell_type": "markdown",
     "metadata": {},
     "source": [
      "## Redoing and Graphing the Cluster Tree with SciPy"
     ]
    },
    {
     "cell_type": "code",
     "collapsed": false,
     "input": [
      "import csv\n",
      "import numpy as np\n",
      "from scipy.spatial.distance import pdist, squareform\n",
      "from scipy.cluster.hierarchy import linkage, dendrogram"
     ],
     "language": "python",
     "metadata": {},
     "outputs": [],
     "prompt_number": 38
    },
    {
     "cell_type": "code",
     "collapsed": false,
     "input": [
      "def read_weka_tfidf(filen):\n",
      "    \"\"\" Read in the Weka file output by pattern's model export and just keep tfidf scores.\"\"\"\n",
      "    rows = []\n",
      "    with open(filen, 'rb') as csvfile:\n",
      "        spamreader = csv.reader(csvfile, delimiter='\\t')\n",
      "        count = 0\n",
      "        for row in spamreader:\n",
      "            # skipping first row which is the word labels\n",
      "            if count > 0:\n",
      "                rows.append(row[:-2]) # skip extra junk at the last 2 cols\n",
      "            count += 1\n",
      "    return rows"
     ],
     "language": "python",
     "metadata": {},
     "outputs": [],
     "prompt_number": 39
    },
    {
     "cell_type": "code",
     "collapsed": false,
     "input": [
      "simplerows = read_weka_tfidf('data/csv/simple_tfidf.tsv')"
     ],
     "language": "python",
     "metadata": {},
     "outputs": [],
     "prompt_number": 40
    },
    {
     "cell_type": "code",
     "collapsed": false,
     "input": [
      "simplerows"
     ],
     "language": "python",
     "metadata": {},
     "outputs": [
      {
       "metadata": {},
       "output_type": "pyout",
       "prompt_number": 41,
       "text": [
        "[['0', '0.1733', '0', '0', '0', '0', '0', '0.3466', '0.3466', '0.1733'],\n",
        " ['0', '0.1733', '0', '0', '0.3466', '0.3466', '0', '0', '0', '0.1733'],\n",
        " ['0.1733', '0', '0.1733', '0.3466', '0', '0', '0.3466', '0', '0', '0'],\n",
        " ['0.3466', '0', '0.3466', '0', '0', '0', '0', '0', '0', '0']]"
       ]
      }
     ],
     "prompt_number": 41
    },
    {
     "cell_type": "markdown",
     "metadata": {},
     "source": [
      "**Scipy's pdist is pairwise distance - see http://docs.scipy.org/doc/scipy/reference/spatial.distance.html\n",
      "You can use cosine here as well! or a host of other options...**"
     ]
    },
    {
     "cell_type": "code",
     "collapsed": false,
     "input": [
      "dist = pdist(simplerows, metric='cosine')  # look at the manpage and pick a different measure to try"
     ],
     "language": "python",
     "metadata": {},
     "outputs": [],
     "prompt_number": 42
    },
    {
     "cell_type": "code",
     "collapsed": false,
     "input": [
      "linkage(dist)"
     ],
     "language": "python",
     "metadata": {},
     "outputs": [
      {
       "metadata": {},
       "output_type": "pyout",
       "prompt_number": 43,
       "text": [
        "array([[ 2.       ,  3.       ,  0.5527864,  2.       ],\n",
        "       [ 0.       ,  1.       ,  0.8      ,  2.       ],\n",
        "       [ 4.       ,  5.       ,  1.       ,  4.       ]])"
       ]
      }
     ],
     "prompt_number": 43
    },
    {
     "cell_type": "code",
     "collapsed": false,
     "input": [
      "from pylab import rcParams\n",
      "rcParams['figure.figsize'] = 6, 5\n",
      "\n",
      "dendrogram(linkage(dist))  # this plotting function has a ton of things you can manipulate if you look at the docs."
     ],
     "language": "python",
     "metadata": {},
     "outputs": [
      {
       "metadata": {},
       "output_type": "pyout",
       "prompt_number": 44,
       "text": [
        "{'color_list': ['g', 'b', 'b'],\n",
        " 'dcoord': [[0.0, 0.55278640450004202, 0.55278640450004202, 0.0],\n",
        "  [0.0, 0.79999999999999993, 0.79999999999999993, 0.0],\n",
        "  [0.55278640450004202, 1.0, 1.0, 0.79999999999999993]],\n",
        " 'icoord': [[5.0, 5.0, 15.0, 15.0],\n",
        "  [25.0, 25.0, 35.0, 35.0],\n",
        "  [10.0, 10.0, 30.0, 30.0]],\n",
        " 'ivl': ['2', '3', '0', '1'],\n",
        " 'leaves': [2, 3, 0, 1]}"
       ]
      },
      {
       "metadata": {},
       "output_type": "display_data",
       "png": "[encoded data removed]",
       "text": [
        "<matplotlib.figure.Figure at 0x108a06d90>"
       ]
      }
     ],
     "prompt_number": 44
    },
    {
     "cell_type": "code",
     "collapsed": false,
     "input": [
      "# Reminder:\n",
      "\n",
      "print \"d0\", d0.words\n",
      "print \"d1\", d1.words\n",
      "print \"d2\", d2.words\n",
      "print \"d3\", d3.words\n",
      "\n",
      "# show the distances, which are used to get the hierarchy:\n",
      "print \"d2, d3 distance\", 1-simple.similarity(d2,d3)\n",
      "print \"d0, d1 distance\", 1-simple.similarity(d0,d1)"
     ],
     "language": "python",
     "metadata": {},
     "outputs": [
      {
       "output_type": "stream",
       "stream": "stdout",
       "text": [
        "d0 {u'tiger': 1, u'stripes': 1, u'yellow': 1, u'cat': 1}\n",
        "d1 {u'lion': 1, u'manes': 1, u'yellow': 1, u'cat': 1}\n",
        "d2 {u'slurf': 1, u'grey': 1, u'animal': 1, u'elephant': 1}\n",
        "d3 {u'animal': 1, u'elephant': 1}\n",
        "d2, d3 distance 0.5527864045\n",
        "d0, d1 distance 0.8\n"
       ]
      }
     ],
     "prompt_number": 45
    },
    {
     "cell_type": "markdown",
     "metadata": {},
     "source": [
      "## Let's do this with the fairy tales now... "
     ]
    },
    {
     "cell_type": "code",
     "collapsed": false,
     "input": [
      "mtfidf.export('data/csv/fairy.tsv')"
     ],
     "language": "python",
     "metadata": {},
     "outputs": [],
     "prompt_number": 46
    },
    {
     "cell_type": "code",
     "collapsed": false,
     "input": [
      "fairyrows = read_weka_tfidf('data/csv/fairy.tsv')"
     ],
     "language": "python",
     "metadata": {},
     "outputs": [],
     "prompt_number": 47
    },
    {
     "cell_type": "code",
     "collapsed": false,
     "input": [
      "len(fairyrows)"
     ],
     "language": "python",
     "metadata": {},
     "outputs": [
      {
       "metadata": {},
       "output_type": "pyout",
       "prompt_number": 48,
       "text": [
        "43"
       ]
      }
     ],
     "prompt_number": 48
    },
    {
     "cell_type": "code",
     "collapsed": false,
     "input": [
      "len(fairyrows[0]) # words in the vector"
     ],
     "language": "python",
     "metadata": {},
     "outputs": [
      {
       "metadata": {},
       "output_type": "pyout",
       "prompt_number": 49,
       "text": [
        "5292"
       ]
      }
     ],
     "prompt_number": 49
    },
    {
     "cell_type": "code",
     "collapsed": false,
     "input": [
      "def make_dend(data, labels=None, height=6):\n",
      "    from pylab import rcParams\n",
      "    dist = pdist(data, metric='cosine')\n",
      "    link = linkage(dist, method='complete')\n",
      "    rcParams['figure.figsize'] = 6, height\n",
      "    rcParams['axes.labelsize'] = 5\n",
      "    if not labels:\n",
      "        dend = dendrogram(link, orientation='right') #labels=names)\n",
      "    else:\n",
      "        dend = dendrogram(link, orientation='right', labels=labels)\n",
      "    return dist"
     ],
     "language": "python",
     "metadata": {},
     "outputs": [],
     "prompt_number": 82
    },
    {
     "cell_type": "code",
     "collapsed": false,
     "input": [
      "# if you want to label by doc names\n",
      "names = [doc.name for doc in docs]"
     ],
     "language": "python",
     "metadata": {},
     "outputs": [],
     "prompt_number": 51
    },
    {
     "cell_type": "code",
     "collapsed": false,
     "input": [
      "dist = make_dend(fairyrows, height=15)"
     ],
     "language": "python",
     "metadata": {},
     "outputs": [
      {
       "metadata": {},
       "output_type": "display_data",
       "png": "[encoded data removed]",
       "text": [
        "<matplotlib.figure.Figure at 0x10cfd6b90>"
       ]
      }
     ],
     "prompt_number": 91
    },
    {
     "cell_type": "code",
     "collapsed": false,
     "input": [
      "1-mtfidf.similarity(docs[12], docs[11])"
     ],
     "language": "python",
     "metadata": {},
     "outputs": [
      {
       "metadata": {},
       "output_type": "pyout",
       "prompt_number": 53,
       "text": [
        "0.7700672032114109"
       ]
      }
     ],
     "prompt_number": 53
    },
    {
     "cell_type": "code",
     "collapsed": false,
     "input": [
      "1-mtfidf.similarity(docs[25], docs[17])"
     ],
     "language": "python",
     "metadata": {},
     "outputs": [
      {
       "metadata": {},
       "output_type": "pyout",
       "prompt_number": 54,
       "text": [
        "0.7895033309691184"
       ]
      }
     ],
     "prompt_number": 54
    },
    {
     "cell_type": "markdown",
     "metadata": {},
     "source": [
      "###Now do it with the labels = names above.\n",
      "\n",
      "###This is an example of a heatmap based on similarity scores.  Most of these are not very similar."
     ]
    },
    {
     "cell_type": "code",
     "collapsed": false,
     "input": [
      "# Code borrowed from: http://nbviewer.ipython.org/github/OxanaSachenkova/hclust-python/blob/master/hclust.ipynb\n",
      "\n",
      "def make_heatmap_matrix(dist, method='complete'):\n",
      "    \"\"\" Pass in the distance matrix; method options are complete or single \"\"\"\n",
      "    # Compute and plot first dendrogram.\n",
      "    fig = plt.figure(figsize=(10,10))\n",
      "    # x ywidth height\n",
      "    ax1 = fig.add_axes([0.05,0.1,0.2,0.6])\n",
      "    Y = linkage(dist, method=method)\n",
      "    Z1 = dendrogram(Y, orientation='right') # adding/removing the axes\n",
      "    ax1.set_xticks([])\n",
      "\n",
      "    # Compute and plot second dendrogram.\n",
      "    ax2 = fig.add_axes([0.3,0.71,0.6,0.2])\n",
      "    Z2 = dendrogram(Y)\n",
      "    ax2.set_xticks([])\n",
      "    ax2.set_yticks([])\n",
      "\n",
      "    #Compute and plot the heatmap\n",
      "    axmatrix = fig.add_axes([0.3,0.1,0.6,0.6])\n",
      "    idx1 = Z1['leaves']\n",
      "    idx2 = Z2['leaves']\n",
      "    D = squareform(dist)\n",
      "    D = D[idx1,:]\n",
      "    D = D[:,idx2]\n",
      "    im = axmatrix.matshow(D, aspect='auto', origin='lower', cmap=plt.cm.YlGnBu)\n",
      "    axmatrix.set_xticks([])\n",
      "    axmatrix.set_yticks([])\n",
      "\n",
      "    # Plot colorbar.\n",
      "    axcolor = fig.add_axes([0.91,0.1,0.02,0.6])\n",
      "    plt.colorbar(im, cax=axcolor)"
     ],
     "language": "python",
     "metadata": {},
     "outputs": [],
     "prompt_number": 79
    },
    {
     "cell_type": "code",
     "collapsed": false,
     "input": [
      "make_heatmap_matrix(dist, method='complete')"
     ],
     "language": "python",
     "metadata": {},
     "outputs": [
      {
       "metadata": {},
       "output_type": "display_data",
       "png": "[encoded data removed]",
       "text": [
        "<matplotlib.figure.Figure at 0x10d999c50>"
       ]
      }
     ],
     "prompt_number": 92
    },
    {
     "cell_type": "markdown",
     "metadata": {},
     "source": [
      "##Optionally try with the book files too, using functions we made"
     ]
    },
    {
     "cell_type": "code",
     "collapsed": false,
     "input": [
      "books = !ls data/books\n",
      "books"
     ],
     "language": "python",
     "metadata": {},
     "outputs": [
      {
       "metadata": {},
       "output_type": "pyout",
       "prompt_number": 56,
       "text": [
        "['anderson.txt',\n",
        " 'grimms.txt',\n",
        " 'irishfairy.txt',\n",
        " 'lovecraft.txt',\n",
        " 'mrjames.txt',\n",
        " 'poe.txt']"
       ]
      }
     ],
     "prompt_number": 56
    },
    {
     "cell_type": "code",
     "collapsed": false,
     "input": [
      "booktexts = load_texts(books, 'data/books/')"
     ],
     "language": "python",
     "metadata": {},
     "outputs": [],
     "prompt_number": 57
    },
    {
     "cell_type": "code",
     "collapsed": false,
     "input": [
      "bookdocs = make_pattern_docs(booktexts)"
     ],
     "language": "python",
     "metadata": {},
     "outputs": [],
     "prompt_number": 58
    },
    {
     "cell_type": "code",
     "collapsed": false,
     "input": [
      "booktfidf = Model(documents=bookdocs, weight=TFIDF)"
     ],
     "language": "python",
     "metadata": {},
     "outputs": [],
     "prompt_number": 59
    },
    {
     "cell_type": "code",
     "collapsed": false,
     "input": [
      "booktfidf.docs"
     ],
     "language": "python",
     "metadata": {},
     "outputs": [
      {
       "metadata": {},
       "output_type": "pyout",
       "prompt_number": 60,
       "text": [
        "[Document(id='P46Xguc-49', name='lovecraft.txt', type='l'),\n",
        " Document(id='P46Xguc-50', name='irishfairy.txt', type='i'),\n",
        " Document(id='P46Xguc-51', name='poe.txt', type='p'),\n",
        " Document(id='P46Xguc-52', name='anderson.txt', type='a'),\n",
        " Document(id='P46Xguc-53', name='grimms.txt', type='g'),\n",
        " Document(id='P46Xguc-54', name='mrjames.txt', type='m')]"
       ]
      }
     ],
     "prompt_number": 60
    },
    {
     "cell_type": "code",
     "collapsed": false,
     "input": [
      "booknames = [doc.name for doc in booktfidf.docs]"
     ],
     "language": "python",
     "metadata": {},
     "outputs": [],
     "prompt_number": 87
    },
    {
     "cell_type": "code",
     "collapsed": false,
     "input": [
      "booktfidf.export('data/csv/books_tfidf.tsv')"
     ],
     "language": "python",
     "metadata": {},
     "outputs": [],
     "prompt_number": 61
    },
    {
     "cell_type": "code",
     "collapsed": false,
     "input": [
      "bookweights = read_weka_tfidf('data/csv/books_tfidf.tsv')"
     ],
     "language": "python",
     "metadata": {},
     "outputs": [],
     "prompt_number": 62
    },
    {
     "cell_type": "code",
     "collapsed": false,
     "input": [
      "dist = make_dend(bookweights, labels=booknames)"
     ],
     "language": "python",
     "metadata": {},
     "outputs": [
      {
       "metadata": {},
       "output_type": "display_data",
       "png": "[encoded data removed]",
       "text": [
        "<matplotlib.figure.Figure at 0x10d989590>"
       ]
      }
     ],
     "prompt_number": 89
    },
    {
     "cell_type": "code",
     "collapsed": false,
     "input": [
      "make_heatmap_matrix(dist, method='complete')"
     ],
     "language": "python",
     "metadata": {},
     "outputs": [
      {
       "metadata": {},
       "output_type": "display_data",
       "png": "[encoded data removed]",
       "text": [
        "<matplotlib.figure.Figure at 0x1097d4110>"
       ]
      }
     ],
     "prompt_number": 90
    },
    {
     "cell_type": "markdown",
     "metadata": {},
     "source": [
      "##KMeans clustering on the set is easy in pattern too..."
     ]
    },
    {
     "cell_type": "code",
     "collapsed": false,
     "input": [
      "kmeans = mtfidf.cluster(method=KMEANS, k=5)\n",
      "from pattern.vector import centroid\n",
      "import operator\n",
      "# For each cluster center, look at the most important features.\n",
      "for i in range(5):\n",
      "    print i\n",
      "    print sorted(centroid(kmeans[i]).items(), key=operator.itemgetter(1))[0:10]\n",
      "    print"
     ],
     "language": "python",
     "metadata": {},
     "outputs": [
      {
       "output_type": "stream",
       "stream": "stdout",
       "text": [
        "0\n",
        "[(u'angry', 0.00013166062899110716), (u'kingdom', 0.00013166062899110716), (u'directly', 0.00014974707549083753), (u'killed', 0.000159956090569813), (u'lifted', 0.0001711388013424306), (u'filled', 0.0001711388013424306), (u'happen', 0.0001711388013424306), (u'field', 0.00018069944297765), (u'power', 0.00018350071458059924), (u'creature', 0.00018350071458059924)]\n",
        "\n",
        "1\n",
        "[(u'pas', 2.976767638983525e-05), (u'kept', 3.171778571726749e-05), (u'thank', 3.8534321488072485e-05), (u'fallen', 4.122829938216276e-05), (u'aside', 4.753553535300498e-05), (u'built', 4.753553535300498e-05), (u'laugh', 4.753553535300498e-05), (u'take', 5.130985012857345e-05), (u'tower', 5.130985012857345e-05), (u'milk', 5.130985012857345e-05)]\n",
        "\n",
        "2\n",
        "[(u'stone', 2.7289350720252417e-05), (u'bush', 3.307147399482816e-05), (u'bottom', 3.5326123547017947e-05), (u'coat', 3.5326123547017947e-05), (u'promised', 3.7795812703190714e-05), (u'follow', 3.7795812703190714e-05), (u'fallen', 3.7795812703190714e-05), (u'hundred', 3.7795812703190714e-05), (u'straight', 3.7795812703190714e-05), (u'meant', 3.7795812703190714e-05)]\n",
        "\n",
        "3\n",
        "[(u'jumped', 0.00013121993719606768), (u'clothe', 0.00013809336247776646), (u'afraid', 0.00013979242907895495), (u'rich', 0.0001565430829707474), (u'fly', 0.00016324393598442835), (u'charming', 0.00016324393598442835), (u'joy', 0.00016676991539243746), (u'chamber', 0.00016698564596595334), (u'danced', 0.00017416680191162777), (u'dres', 0.00018604063317774515)]"
       ]
      },
      {
       "output_type": "stream",
       "stream": "stdout",
       "text": [
        "\n",
        "\n",
        "4\n",
        "[(u'glad', 0.00015192739693528455), (u'quickly', 0.00016198455051392364), (u'sitting', 0.00016593539320938522), (u'standing', 0.00017261670309720806), (u'tear', 0.00017261670309720806), (u'able', 0.0002006765668818562), (u'light', 0.0002031540553618791), (u'led', 0.00020873205745744166), (u'hard', 0.00020873205745744166), (u'warm', 0.00020873205745744166)]\n",
        "\n"
       ]
      }
     ],
     "prompt_number": 63
    },
    {
     "cell_type": "markdown",
     "metadata": {},
     "source": [
      "### It would take some work to plot that, though. Exercise for the students!\n",
      "\n",
      "Relevant links:\n",
      "* http://stackoverflow.com/questions/20176590/plot-the-centroid-values-over-the-existing-plot-using-matplotlib\n",
      "* http://glowingpython.blogspot.jp/2012/04/k-means-clustering-with-scipy.html"
     ]
    },
    {
     "cell_type": "code",
     "collapsed": false,
     "input": [],
     "language": "python",
     "metadata": {},
     "outputs": [],
     "prompt_number": 63
    }
   ],
   "metadata": {}
  }
 ]
}